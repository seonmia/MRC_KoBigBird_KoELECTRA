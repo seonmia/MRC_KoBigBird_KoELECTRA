{
  "nbformat": 4,
  "nbformat_minor": 0,
  "metadata": {
    "colab": {
      "provenance": [],
      "collapsed_sections": [],
      "include_colab_link": true
    },
    "kernelspec": {
      "name": "python3",
      "display_name": "Python 3"
    },
    "language_info": {
      "name": "python"
    }
  },
  "cells": [
    {
      "cell_type": "markdown",
      "metadata": {
        "id": "view-in-github",
        "colab_type": "text"
      },
      "source": [
        "<a href=\"https://colab.research.google.com/github/seonmia/MRC_KoBigBird_KoELECTRA/blob/main/preprocessing_answer_length.ipynb\" target=\"_parent\"><img src=\"https://colab.research.google.com/assets/colab-badge.svg\" alt=\"Open In Colab\"/></a>"
      ]
    },
    {
      "cell_type": "markdown",
      "source": [
        "## data_extraction() 메소드\n",
        "json 훈련 데이터 파일에서 answer길이가 긴것들 제거하는 함수\n",
        "\n",
        "* 첫 번째 인자 : json 파일 경로\n",
        "* 두 번째 인자 : 허용가능한 answer의 길이"
      ],
      "metadata": {
        "id": "4IzZeHVWkNwV"
      }
    },
    {
      "cell_type": "code",
      "execution_count": null,
      "metadata": {
        "id": "hLmt_WcPiYai"
      },
      "outputs": [],
      "source": [
        "import json\n",
        "from pprint import pprint\n",
        "\n",
        "def data_extraction(json_file_path: str, answer_max_length: int):\n",
        "    with open(json_file_path, 'r') as f:\n",
        "        data = json.load(f)\n",
        "    data_cut_indices = []\n",
        "    print(\"수정 전 데이터 개수\", len(data['data']))\n",
        "    \n",
        "    # print(\"<<<<<짧은 답만 남긴 데이터들>>>>>\")\n",
        "\n",
        "    for i in range(len(data['data'])):\n",
        "        for j in range(len((data['data'][i]['paragraphs']))):\n",
        "            for m in range(len(data['data'][i]['paragraphs'][j]['qas'])):\n",
        "                min_answer_length = len(data['data'][i]['paragraphs'][j]['qas'][m]['answers'][0]['text'])\n",
        "                min_answer_index = 0\n",
        "                for n in range(len(data['data'][i]['paragraphs'][j]['qas'][m]['answers'])):\n",
        "                    if min_answer_length > len(data['data'][i]['paragraphs'][j]['qas'][m]['answers'][n]['text']):\n",
        "                        min_answer_length = len(data['data'][i]['paragraphs'][j]['qas'][m]['answers'][n]['text'])\n",
        "                        min_answer_index = n\n",
        "                # answer들이 모두다 answer_max_length 넘을때 바로 삭제할 데이터의 인덱스를 저장 => 뒤에서 삭제\n",
        "                if min_answer_length > answer_max_length:\n",
        "                    data_cut_indices.append((i,j))\n",
        "                # answer가 1개인 경우, 만약 길이가 answer_max_length 넘는다면 위에서 추출될테니 여기의 answer는 answer_max_length 이하이다.\n",
        "                # 따라서 따로 작업을 하지 않는다.\n",
        "                elif len(data['data'][i]['paragraphs'][j]['qas'][m]['answers']) == 1:\n",
        "                    continue\n",
        "                # answer가 여러개이고 최소한 1개는 answer_max_length 를 넘지않는다.\n",
        "                # 그 중 제일 짧은 답 하나만 남기도록 한다.\n",
        "                else:\n",
        "                    print(\"=====Before answers:=====\")\n",
        "                    pprint(data['data'][i]['paragraphs'][j]['qas'][m]['answers'])\n",
        "                    \n",
        "                    answer = data['data'][i]['paragraphs'][j]['qas'][m]['answers'][min_answer_index]\n",
        "                    del data['data'][i]['paragraphs'][j]['qas'][m]['answers']\n",
        "                    data['data'][i]['paragraphs'][j]['qas'][m]['answers'] = [answer]\n",
        "                    \n",
        "                    print(\"=====After answers:=====\")\n",
        "                    pprint(data['data'][i]['paragraphs'][j]['qas'][m]['answers'])\n",
        "\n",
        "    # print(\"<<<<<완전히 삭제한 데이터들>>>>>\")\n",
        "    for i, j in reversed(data_cut_indices):\n",
        "        # pprint(data['data'][i]['paragraphs'][j]) \n",
        "        del data['data'][i] # index 에러로 수정\n",
        "\n",
        "    print(\"삭제된 데이터 개수\", len(data_cut_indices))\n",
        "    print(\"수정 후 데이터 개수\", len(data['data']))\n",
        "\n",
        "    return data"
      ]
    },
    {
      "cell_type": "markdown",
      "source": [
        "## 사용 예시"
      ],
      "metadata": {
        "id": "Vv0ZWukWksNY"
      }
    },
    {
      "cell_type": "code",
      "source": [
        "answer_max_length = 20\n",
        "data = data_extraction('/content/TL_span_extraction5.json', answer_max_length)"
      ],
      "metadata": {
        "colab": {
          "base_uri": "https://localhost:8080/"
        },
        "id": "GPfcgjU1kJRn",
        "outputId": "33a55b3e-ee46-4b9e-af35-e17d184ba70c"
      },
      "execution_count": null,
      "outputs": [
        {
          "output_type": "stream",
          "name": "stdout",
          "text": [
            "수정 전 데이터 개수 111967\n",
            "삭제된 데이터 개수 12594\n",
            "수정 후 데이터 개수 99373\n"
          ]
        }
      ]
    },
    {
      "cell_type": "markdown",
      "source": [
        "## 제거되고 남은 데이터를 저장"
      ],
      "metadata": {
        "id": "1r-Yti9pk1Wi"
      }
    },
    {
      "cell_type": "code",
      "source": [
        "with open(f'data_extraction_answer_len{answer_max_length}.json', 'w', encoding='utf-8') as f:\n",
        "    json.dump(data, f, ensure_ascii=False, indent=4)"
      ],
      "metadata": {
        "id": "PK1SYqyckLEo"
      },
      "execution_count": null,
      "outputs": []
    },
    {
      "cell_type": "markdown",
      "source": [
        "## PC로 다운로드"
      ],
      "metadata": {
        "id": "s3HGuecLlRiv"
      }
    },
    {
      "cell_type": "code",
      "source": [
        "from google.colab import files\n",
        "files.download(f'data_extraction_answer_len{answer_max_length}.json')"
      ],
      "metadata": {
        "colab": {
          "base_uri": "https://localhost:8080/",
          "height": 17
        },
        "id": "91bxTNBilRCA",
        "outputId": "e8b8a48a-360a-4f5a-8f3b-cb938680d2c9"
      },
      "execution_count": null,
      "outputs": [
        {
          "output_type": "display_data",
          "data": {
            "text/plain": [
              "<IPython.core.display.Javascript object>"
            ],
            "application/javascript": [
              "\n",
              "    async function download(id, filename, size) {\n",
              "      if (!google.colab.kernel.accessAllowed) {\n",
              "        return;\n",
              "      }\n",
              "      const div = document.createElement('div');\n",
              "      const label = document.createElement('label');\n",
              "      label.textContent = `Downloading \"${filename}\": `;\n",
              "      div.appendChild(label);\n",
              "      const progress = document.createElement('progress');\n",
              "      progress.max = size;\n",
              "      div.appendChild(progress);\n",
              "      document.body.appendChild(div);\n",
              "\n",
              "      const buffers = [];\n",
              "      let downloaded = 0;\n",
              "\n",
              "      const channel = await google.colab.kernel.comms.open(id);\n",
              "      // Send a message to notify the kernel that we're ready.\n",
              "      channel.send({})\n",
              "\n",
              "      for await (const message of channel.messages) {\n",
              "        // Send a message to notify the kernel that we're ready.\n",
              "        channel.send({})\n",
              "        if (message.buffers) {\n",
              "          for (const buffer of message.buffers) {\n",
              "            buffers.push(buffer);\n",
              "            downloaded += buffer.byteLength;\n",
              "            progress.value = downloaded;\n",
              "          }\n",
              "        }\n",
              "      }\n",
              "      const blob = new Blob(buffers, {type: 'application/binary'});\n",
              "      const a = document.createElement('a');\n",
              "      a.href = window.URL.createObjectURL(blob);\n",
              "      a.download = filename;\n",
              "      div.appendChild(a);\n",
              "      a.click();\n",
              "      div.remove();\n",
              "    }\n",
              "  "
            ]
          },
          "metadata": {}
        },
        {
          "output_type": "display_data",
          "data": {
            "text/plain": [
              "<IPython.core.display.Javascript object>"
            ],
            "application/javascript": [
              "download(\"download_69758546-7a0b-4edd-9747-6def4656558c\", \"data_extraction_answer_len20.json\", 34373469)"
            ]
          },
          "metadata": {}
        }
      ]
    },
    {
      "cell_type": "markdown",
      "source": [
        "## 공유문서 저장"
      ],
      "metadata": {
        "id": "rrKc3HYWGRzC"
      }
    },
    {
      "cell_type": "code",
      "source": [],
      "metadata": {
        "id": "p-nhvax1GVJw"
      },
      "execution_count": null,
      "outputs": []
    }
  ]
}