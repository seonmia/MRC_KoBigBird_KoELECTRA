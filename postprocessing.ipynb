{
  "nbformat": 4,
  "nbformat_minor": 0,
  "metadata": {
    "colab": {
      "provenance": [],
      "collapsed_sections": [],
      "machine_shape": "hm",
      "background_execution": "on",
      "include_colab_link": true
    },
    "kernelspec": {
      "name": "python3",
      "display_name": "Python 3"
    },
    "language_info": {
      "name": "python"
    },
    "gpuClass": "standard"
  },
  "cells": [
    {
      "cell_type": "markdown",
      "metadata": {
        "id": "view-in-github",
        "colab_type": "text"
      },
      "source": [
        "<a href=\"https://colab.research.google.com/github/seonmia/MRC_KoBigBird_KoELECTRA/blob/main/postprocessing.ipynb\" target=\"_parent\"><img src=\"https://colab.research.google.com/assets/colab-badge.svg\" alt=\"Open In Colab\"/></a>"
      ]
    },
    {
      "cell_type": "markdown",
      "source": [
        "## 긴 길이의 예측값을 빈 문자열로 변화"
      ],
      "metadata": {
        "id": "3s2Pm3odRV2N"
      }
    },
    {
      "cell_type": "markdown",
      "source": [
        "#### long_string2blank() 함수"
      ],
      "metadata": {
        "id": "Wu9RZPBIRdw9"
      }
    },
    {
      "cell_type": "code",
      "source": [
        "import pandas as pd\n",
        "def long_string2blank(predicted_dataset, max_length=10):\n",
        "    \"\"\"첫 번째 인수 : 예측 데이터셋<데이터프레임>. 단, 예측 데이터셋의 컬럼명에 'Predicted'가 존재해야 한다.\n",
        "    두 번째 인수 : 허용 가능한 최대 길이<정수>\n",
        "    이 함수가 돌아가기 위해선 import pandas as pd 를 선언해야 한다.\n",
        "    \"\"\"\n",
        "    def convert2blank(row):\n",
        "        predicted = row['Predicted']\n",
        "        if len(predicted) > max_length:\n",
        "            predicted = \"\"\n",
        "        row['Predicted'] = predicted\n",
        "        return row\n",
        "    \n",
        "    changed_dataset = predicted_dataset.apply(convert2blank, axis = 1)\n",
        "    return changed_dataset"
      ],
      "metadata": {
        "id": "0hJFO-mlLS00"
      },
      "execution_count": null,
      "outputs": []
    },
    {
      "cell_type": "markdown",
      "source": [
        "#### 사용 예시"
      ],
      "metadata": {
        "id": "9ghK3--ARnLa"
      }
    },
    {
      "cell_type": "code",
      "source": [
        "predicted_dataset = pd.read_csv('baseline.csv')\n",
        "long_string2blank(predicted_dataset, 20)\n",
        "predicted_dataset"
      ],
      "metadata": {
        "colab": {
          "base_uri": "https://localhost:8080/",
          "height": 424
        },
        "id": "OeskfhLVMHR9",
        "outputId": "b0fdd55f-3f2d-4385-cffa-d9583fb1dbb1"
      },
      "execution_count": null,
      "outputs": [
        {
          "output_type": "execute_result",
          "data": {
            "text/plain": [
              "                                    Id             Predicted\n",
              "0     d14cb73158624cf094c546d856fd3c80                     뉴\n",
              "1     906631384e91493ebe1c7f34aea6f241                      \n",
              "2     35e61dcb479643448a2cb7d326ae50a6                    미국\n",
              "3     075e761b370040cb9041eecd39afc27c  “톱 50 가운데 22개가 IT 기업\n",
              "4     e67ed38f3dd944be94d5b4c53731f334                   백혈병\n",
              "...                                ...                   ...\n",
              "4003  05fcb8054dc44dab8683579c2cf5e465                 200만엔\n",
              "4004  cc7f826b66724ce9b39e3a974ca15661                      \n",
              "4005  3282034aa41e4fab980851ffd4a868dd                      \n",
              "4006  0a73550b36df4baf82ac2f98619d22e7                      \n",
              "4007  dfe6ef25f84f461e89e54d370e4521d5                   시진핑\n",
              "\n",
              "[4008 rows x 2 columns]"
            ],
            "text/html": [
              "\n",
              "  <div id=\"df-bb70e9bc-b963-4080-a42f-76918604fd6f\">\n",
              "    <div class=\"colab-df-container\">\n",
              "      <div>\n",
              "<style scoped>\n",
              "    .dataframe tbody tr th:only-of-type {\n",
              "        vertical-align: middle;\n",
              "    }\n",
              "\n",
              "    .dataframe tbody tr th {\n",
              "        vertical-align: top;\n",
              "    }\n",
              "\n",
              "    .dataframe thead th {\n",
              "        text-align: right;\n",
              "    }\n",
              "</style>\n",
              "<table border=\"1\" class=\"dataframe\">\n",
              "  <thead>\n",
              "    <tr style=\"text-align: right;\">\n",
              "      <th></th>\n",
              "      <th>Id</th>\n",
              "      <th>Predicted</th>\n",
              "    </tr>\n",
              "  </thead>\n",
              "  <tbody>\n",
              "    <tr>\n",
              "      <th>0</th>\n",
              "      <td>d14cb73158624cf094c546d856fd3c80</td>\n",
              "      <td>뉴</td>\n",
              "    </tr>\n",
              "    <tr>\n",
              "      <th>1</th>\n",
              "      <td>906631384e91493ebe1c7f34aea6f241</td>\n",
              "      <td></td>\n",
              "    </tr>\n",
              "    <tr>\n",
              "      <th>2</th>\n",
              "      <td>35e61dcb479643448a2cb7d326ae50a6</td>\n",
              "      <td>미국</td>\n",
              "    </tr>\n",
              "    <tr>\n",
              "      <th>3</th>\n",
              "      <td>075e761b370040cb9041eecd39afc27c</td>\n",
              "      <td>“톱 50 가운데 22개가 IT 기업</td>\n",
              "    </tr>\n",
              "    <tr>\n",
              "      <th>4</th>\n",
              "      <td>e67ed38f3dd944be94d5b4c53731f334</td>\n",
              "      <td>백혈병</td>\n",
              "    </tr>\n",
              "    <tr>\n",
              "      <th>...</th>\n",
              "      <td>...</td>\n",
              "      <td>...</td>\n",
              "    </tr>\n",
              "    <tr>\n",
              "      <th>4003</th>\n",
              "      <td>05fcb8054dc44dab8683579c2cf5e465</td>\n",
              "      <td>200만엔</td>\n",
              "    </tr>\n",
              "    <tr>\n",
              "      <th>4004</th>\n",
              "      <td>cc7f826b66724ce9b39e3a974ca15661</td>\n",
              "      <td></td>\n",
              "    </tr>\n",
              "    <tr>\n",
              "      <th>4005</th>\n",
              "      <td>3282034aa41e4fab980851ffd4a868dd</td>\n",
              "      <td></td>\n",
              "    </tr>\n",
              "    <tr>\n",
              "      <th>4006</th>\n",
              "      <td>0a73550b36df4baf82ac2f98619d22e7</td>\n",
              "      <td></td>\n",
              "    </tr>\n",
              "    <tr>\n",
              "      <th>4007</th>\n",
              "      <td>dfe6ef25f84f461e89e54d370e4521d5</td>\n",
              "      <td>시진핑</td>\n",
              "    </tr>\n",
              "  </tbody>\n",
              "</table>\n",
              "<p>4008 rows × 2 columns</p>\n",
              "</div>\n",
              "      <button class=\"colab-df-convert\" onclick=\"convertToInteractive('df-bb70e9bc-b963-4080-a42f-76918604fd6f')\"\n",
              "              title=\"Convert this dataframe to an interactive table.\"\n",
              "              style=\"display:none;\">\n",
              "        \n",
              "  <svg xmlns=\"http://www.w3.org/2000/svg\" height=\"24px\"viewBox=\"0 0 24 24\"\n",
              "       width=\"24px\">\n",
              "    <path d=\"M0 0h24v24H0V0z\" fill=\"none\"/>\n",
              "    <path d=\"M18.56 5.44l.94 2.06.94-2.06 2.06-.94-2.06-.94-.94-2.06-.94 2.06-2.06.94zm-11 1L8.5 8.5l.94-2.06 2.06-.94-2.06-.94L8.5 2.5l-.94 2.06-2.06.94zm10 10l.94 2.06.94-2.06 2.06-.94-2.06-.94-.94-2.06-.94 2.06-2.06.94z\"/><path d=\"M17.41 7.96l-1.37-1.37c-.4-.4-.92-.59-1.43-.59-.52 0-1.04.2-1.43.59L10.3 9.45l-7.72 7.72c-.78.78-.78 2.05 0 2.83L4 21.41c.39.39.9.59 1.41.59.51 0 1.02-.2 1.41-.59l7.78-7.78 2.81-2.81c.8-.78.8-2.07 0-2.86zM5.41 20L4 18.59l7.72-7.72 1.47 1.35L5.41 20z\"/>\n",
              "  </svg>\n",
              "      </button>\n",
              "      \n",
              "  <style>\n",
              "    .colab-df-container {\n",
              "      display:flex;\n",
              "      flex-wrap:wrap;\n",
              "      gap: 12px;\n",
              "    }\n",
              "\n",
              "    .colab-df-convert {\n",
              "      background-color: #E8F0FE;\n",
              "      border: none;\n",
              "      border-radius: 50%;\n",
              "      cursor: pointer;\n",
              "      display: none;\n",
              "      fill: #1967D2;\n",
              "      height: 32px;\n",
              "      padding: 0 0 0 0;\n",
              "      width: 32px;\n",
              "    }\n",
              "\n",
              "    .colab-df-convert:hover {\n",
              "      background-color: #E2EBFA;\n",
              "      box-shadow: 0px 1px 2px rgba(60, 64, 67, 0.3), 0px 1px 3px 1px rgba(60, 64, 67, 0.15);\n",
              "      fill: #174EA6;\n",
              "    }\n",
              "\n",
              "    [theme=dark] .colab-df-convert {\n",
              "      background-color: #3B4455;\n",
              "      fill: #D2E3FC;\n",
              "    }\n",
              "\n",
              "    [theme=dark] .colab-df-convert:hover {\n",
              "      background-color: #434B5C;\n",
              "      box-shadow: 0px 1px 3px 1px rgba(0, 0, 0, 0.15);\n",
              "      filter: drop-shadow(0px 1px 2px rgba(0, 0, 0, 0.3));\n",
              "      fill: #FFFFFF;\n",
              "    }\n",
              "  </style>\n",
              "\n",
              "      <script>\n",
              "        const buttonEl =\n",
              "          document.querySelector('#df-bb70e9bc-b963-4080-a42f-76918604fd6f button.colab-df-convert');\n",
              "        buttonEl.style.display =\n",
              "          google.colab.kernel.accessAllowed ? 'block' : 'none';\n",
              "\n",
              "        async function convertToInteractive(key) {\n",
              "          const element = document.querySelector('#df-bb70e9bc-b963-4080-a42f-76918604fd6f');\n",
              "          const dataTable =\n",
              "            await google.colab.kernel.invokeFunction('convertToInteractive',\n",
              "                                                     [key], {});\n",
              "          if (!dataTable) return;\n",
              "\n",
              "          const docLinkHtml = 'Like what you see? Visit the ' +\n",
              "            '<a target=\"_blank\" href=https://colab.research.google.com/notebooks/data_table.ipynb>data table notebook</a>'\n",
              "            + ' to learn more about interactive tables.';\n",
              "          element.innerHTML = '';\n",
              "          dataTable['output_type'] = 'display_data';\n",
              "          await google.colab.output.renderOutput(dataTable, element);\n",
              "          const docLink = document.createElement('div');\n",
              "          docLink.innerHTML = docLinkHtml;\n",
              "          element.appendChild(docLink);\n",
              "        }\n",
              "      </script>\n",
              "    </div>\n",
              "  </div>\n",
              "  "
            ]
          },
          "metadata": {},
          "execution_count": 54
        }
      ]
    },
    {
      "cell_type": "markdown",
      "source": [
        "## max_length의 적당한 값을 찾기\n",
        "#### 훈련데이터셋의 정답레이블 길이정보를 분석"
      ],
      "metadata": {
        "id": "0QkYTYuCRtFz"
      }
    },
    {
      "cell_type": "markdown",
      "source": [
        "#### check_answers_length() 함수"
      ],
      "metadata": {
        "id": "kWeFVzn9d8nx"
      }
    },
    {
      "cell_type": "code",
      "source": [
        "import pandas as pd\n",
        "def check_answers_length(train_json):\n",
        "    \"\"\"인수로 json 훈련 데이터셋를 넣어준다.\n",
        "    모든 answer들의 길이값과 텍스트를 추출하여 pandas의 DataFrame타입으로 반환한다.\n",
        "    이 함수를 사용하려면 import pandas as pd 가 선언되어야 한다.\n",
        "    \"\"\"\n",
        "    answers = []\n",
        "    for sample in train_json:\n",
        "        for answer in sample['paragraphs'][0]['qas'][0]['answers']:\n",
        "            answers.append([len(answer['text']),answer['text']])\n",
        "    answers_len_text = pd.DataFrame(answers, columns=['length', 'text'])\n",
        "    return answers_len_text"
      ],
      "metadata": {
        "id": "i4R11JG9cJRA"
      },
      "execution_count": null,
      "outputs": []
    },
    {
      "cell_type": "markdown",
      "source": [
        "#### 사용 예시"
      ],
      "metadata": {
        "id": "3FUp74L_eJ9R"
      }
    },
    {
      "cell_type": "code",
      "source": [
        "import json\n",
        "# 원본 파일을 로드한다.\n",
        "with open('train.json', 'r', encoding='utf-8') as fd:\n",
        "    data = json.load(fd)['data']\n",
        "\n",
        "answers_len_text = check_answers_length(data)\n",
        "# 반환값 확인\n",
        "answers_len_text"
      ],
      "metadata": {
        "colab": {
          "base_uri": "https://localhost:8080/",
          "height": 424
        },
        "id": "VHJ2ZmCDd6z2",
        "outputId": "ee39296c-284c-4e3b-ddbf-a942a8abbd3a"
      },
      "execution_count": null,
      "outputs": [
        {
          "output_type": "execute_result",
          "data": {
            "text/plain": [
              "       length            text\n",
              "0           5           한 달가량\n",
              "1           3             한 달\n",
              "2           7         삼보테크놀로지\n",
              "3           8        와쿠이 히데아키\n",
              "4           9       ‘교동반점 짬뽕’\n",
              "...       ...             ...\n",
              "14392      14  ‘혹성탈출: 반격의 서막’\n",
              "14393      12    혹성탈출: 반격의 서막\n",
              "14394       6          8시 10분\n",
              "14395       3             28개\n",
              "14396       2              28\n",
              "\n",
              "[14397 rows x 2 columns]"
            ],
            "text/html": [
              "\n",
              "  <div id=\"df-8f978502-38ed-4586-abfa-66123464668e\">\n",
              "    <div class=\"colab-df-container\">\n",
              "      <div>\n",
              "<style scoped>\n",
              "    .dataframe tbody tr th:only-of-type {\n",
              "        vertical-align: middle;\n",
              "    }\n",
              "\n",
              "    .dataframe tbody tr th {\n",
              "        vertical-align: top;\n",
              "    }\n",
              "\n",
              "    .dataframe thead th {\n",
              "        text-align: right;\n",
              "    }\n",
              "</style>\n",
              "<table border=\"1\" class=\"dataframe\">\n",
              "  <thead>\n",
              "    <tr style=\"text-align: right;\">\n",
              "      <th></th>\n",
              "      <th>length</th>\n",
              "      <th>text</th>\n",
              "    </tr>\n",
              "  </thead>\n",
              "  <tbody>\n",
              "    <tr>\n",
              "      <th>0</th>\n",
              "      <td>5</td>\n",
              "      <td>한 달가량</td>\n",
              "    </tr>\n",
              "    <tr>\n",
              "      <th>1</th>\n",
              "      <td>3</td>\n",
              "      <td>한 달</td>\n",
              "    </tr>\n",
              "    <tr>\n",
              "      <th>2</th>\n",
              "      <td>7</td>\n",
              "      <td>삼보테크놀로지</td>\n",
              "    </tr>\n",
              "    <tr>\n",
              "      <th>3</th>\n",
              "      <td>8</td>\n",
              "      <td>와쿠이 히데아키</td>\n",
              "    </tr>\n",
              "    <tr>\n",
              "      <th>4</th>\n",
              "      <td>9</td>\n",
              "      <td>‘교동반점 짬뽕’</td>\n",
              "    </tr>\n",
              "    <tr>\n",
              "      <th>...</th>\n",
              "      <td>...</td>\n",
              "      <td>...</td>\n",
              "    </tr>\n",
              "    <tr>\n",
              "      <th>14392</th>\n",
              "      <td>14</td>\n",
              "      <td>‘혹성탈출: 반격의 서막’</td>\n",
              "    </tr>\n",
              "    <tr>\n",
              "      <th>14393</th>\n",
              "      <td>12</td>\n",
              "      <td>혹성탈출: 반격의 서막</td>\n",
              "    </tr>\n",
              "    <tr>\n",
              "      <th>14394</th>\n",
              "      <td>6</td>\n",
              "      <td>8시 10분</td>\n",
              "    </tr>\n",
              "    <tr>\n",
              "      <th>14395</th>\n",
              "      <td>3</td>\n",
              "      <td>28개</td>\n",
              "    </tr>\n",
              "    <tr>\n",
              "      <th>14396</th>\n",
              "      <td>2</td>\n",
              "      <td>28</td>\n",
              "    </tr>\n",
              "  </tbody>\n",
              "</table>\n",
              "<p>14397 rows × 2 columns</p>\n",
              "</div>\n",
              "      <button class=\"colab-df-convert\" onclick=\"convertToInteractive('df-8f978502-38ed-4586-abfa-66123464668e')\"\n",
              "              title=\"Convert this dataframe to an interactive table.\"\n",
              "              style=\"display:none;\">\n",
              "        \n",
              "  <svg xmlns=\"http://www.w3.org/2000/svg\" height=\"24px\"viewBox=\"0 0 24 24\"\n",
              "       width=\"24px\">\n",
              "    <path d=\"M0 0h24v24H0V0z\" fill=\"none\"/>\n",
              "    <path d=\"M18.56 5.44l.94 2.06.94-2.06 2.06-.94-2.06-.94-.94-2.06-.94 2.06-2.06.94zm-11 1L8.5 8.5l.94-2.06 2.06-.94-2.06-.94L8.5 2.5l-.94 2.06-2.06.94zm10 10l.94 2.06.94-2.06 2.06-.94-2.06-.94-.94-2.06-.94 2.06-2.06.94z\"/><path d=\"M17.41 7.96l-1.37-1.37c-.4-.4-.92-.59-1.43-.59-.52 0-1.04.2-1.43.59L10.3 9.45l-7.72 7.72c-.78.78-.78 2.05 0 2.83L4 21.41c.39.39.9.59 1.41.59.51 0 1.02-.2 1.41-.59l7.78-7.78 2.81-2.81c.8-.78.8-2.07 0-2.86zM5.41 20L4 18.59l7.72-7.72 1.47 1.35L5.41 20z\"/>\n",
              "  </svg>\n",
              "      </button>\n",
              "      \n",
              "  <style>\n",
              "    .colab-df-container {\n",
              "      display:flex;\n",
              "      flex-wrap:wrap;\n",
              "      gap: 12px;\n",
              "    }\n",
              "\n",
              "    .colab-df-convert {\n",
              "      background-color: #E8F0FE;\n",
              "      border: none;\n",
              "      border-radius: 50%;\n",
              "      cursor: pointer;\n",
              "      display: none;\n",
              "      fill: #1967D2;\n",
              "      height: 32px;\n",
              "      padding: 0 0 0 0;\n",
              "      width: 32px;\n",
              "    }\n",
              "\n",
              "    .colab-df-convert:hover {\n",
              "      background-color: #E2EBFA;\n",
              "      box-shadow: 0px 1px 2px rgba(60, 64, 67, 0.3), 0px 1px 3px 1px rgba(60, 64, 67, 0.15);\n",
              "      fill: #174EA6;\n",
              "    }\n",
              "\n",
              "    [theme=dark] .colab-df-convert {\n",
              "      background-color: #3B4455;\n",
              "      fill: #D2E3FC;\n",
              "    }\n",
              "\n",
              "    [theme=dark] .colab-df-convert:hover {\n",
              "      background-color: #434B5C;\n",
              "      box-shadow: 0px 1px 3px 1px rgba(0, 0, 0, 0.15);\n",
              "      filter: drop-shadow(0px 1px 2px rgba(0, 0, 0, 0.3));\n",
              "      fill: #FFFFFF;\n",
              "    }\n",
              "  </style>\n",
              "\n",
              "      <script>\n",
              "        const buttonEl =\n",
              "          document.querySelector('#df-8f978502-38ed-4586-abfa-66123464668e button.colab-df-convert');\n",
              "        buttonEl.style.display =\n",
              "          google.colab.kernel.accessAllowed ? 'block' : 'none';\n",
              "\n",
              "        async function convertToInteractive(key) {\n",
              "          const element = document.querySelector('#df-8f978502-38ed-4586-abfa-66123464668e');\n",
              "          const dataTable =\n",
              "            await google.colab.kernel.invokeFunction('convertToInteractive',\n",
              "                                                     [key], {});\n",
              "          if (!dataTable) return;\n",
              "\n",
              "          const docLinkHtml = 'Like what you see? Visit the ' +\n",
              "            '<a target=\"_blank\" href=https://colab.research.google.com/notebooks/data_table.ipynb>data table notebook</a>'\n",
              "            + ' to learn more about interactive tables.';\n",
              "          element.innerHTML = '';\n",
              "          dataTable['output_type'] = 'display_data';\n",
              "          await google.colab.output.renderOutput(dataTable, element);\n",
              "          const docLink = document.createElement('div');\n",
              "          docLink.innerHTML = docLinkHtml;\n",
              "          element.appendChild(docLink);\n",
              "        }\n",
              "      </script>\n",
              "    </div>\n",
              "  </div>\n",
              "  "
            ]
          },
          "metadata": {},
          "execution_count": 56
        }
      ]
    },
    {
      "cell_type": "markdown",
      "source": [
        "#### answer들의 길이값 분석"
      ],
      "metadata": {
        "id": "VFIitBTQgpny"
      }
    },
    {
      "cell_type": "code",
      "source": [
        "answers_len_text['length'].describe()"
      ],
      "metadata": {
        "colab": {
          "base_uri": "https://localhost:8080/"
        },
        "id": "koJs6eDbgo20",
        "outputId": "1beb9956-c354-44a1-ec42-93b6a6356c9c"
      },
      "execution_count": null,
      "outputs": [
        {
          "output_type": "execute_result",
          "data": {
            "text/plain": [
              "count    14397.000000\n",
              "mean         6.040633\n",
              "std          5.485509\n",
              "min          1.000000\n",
              "25%          3.000000\n",
              "50%          5.000000\n",
              "75%          7.000000\n",
              "max        100.000000\n",
              "Name: length, dtype: float64"
            ]
          },
          "metadata": {},
          "execution_count": 57
        }
      ]
    },
    {
      "cell_type": "markdown",
      "source": [
        "길이의 평균값은 6, 최소값은 1, 최대값은 100이다.<br>\n",
        "길이가 100짜리인 answer가 뭔지 확인해보자"
      ],
      "metadata": {
        "id": "qQg8TBr5e364"
      }
    },
    {
      "cell_type": "code",
      "source": [
        "answers_len_text['text'][answers_len_text['length'].idxmax()]"
      ],
      "metadata": {
        "colab": {
          "base_uri": "https://localhost:8080/",
          "height": 35
        },
        "id": "rjWQUxtUeXOV",
        "outputId": "2cb3f5ef-d593-460e-b248-eff9a30346c2"
      },
      "execution_count": null,
      "outputs": [
        {
          "output_type": "execute_result",
          "data": {
            "text/plain": [
              "'국제전기전자기술인협회 유럽 안테나 앤드 프로퍼게이션 컨퍼런스 (IEEE European Conference on Antennas and Propagation, EuCAP 2020)'"
            ],
            "application/vnd.google.colaboratory.intrinsic+json": {
              "type": "string"
            }
          },
          "metadata": {},
          "execution_count": 58
        }
      ]
    },
    {
      "cell_type": "markdown",
      "source": [
        "#### 전체 데이터 answer들의 75%는 7글자 이하이다.\n",
        "#### 80%, 85%, 90%, 95%, 96%, 97%, 98%, 99%도 확인해보자"
      ],
      "metadata": {
        "id": "b-O-LpEehd13"
      }
    },
    {
      "cell_type": "code",
      "source": [
        "answers_len_text['length'].describe([.75, .80, .85, .90, .95, .96, .97, .98, .99])"
      ],
      "metadata": {
        "colab": {
          "base_uri": "https://localhost:8080/"
        },
        "id": "WlxXj2XPfOUF",
        "outputId": "2c0bd43e-512b-4339-ffa4-f8c4716068a9"
      },
      "execution_count": null,
      "outputs": [
        {
          "output_type": "execute_result",
          "data": {
            "text/plain": [
              "count    14397.000000\n",
              "mean         6.040633\n",
              "std          5.485509\n",
              "min          1.000000\n",
              "50%          5.000000\n",
              "75%          7.000000\n",
              "80%          8.000000\n",
              "85%          9.000000\n",
              "90%         11.000000\n",
              "95%         15.000000\n",
              "96%         17.000000\n",
              "97%         19.000000\n",
              "98%         22.000000\n",
              "99%         28.000000\n",
              "max        100.000000\n",
              "Name: length, dtype: float64"
            ]
          },
          "metadata": {},
          "execution_count": 59
        }
      ]
    },
    {
      "cell_type": "markdown",
      "source": [
        "위의 분석된 결과를 보고 적절한 max_length를 설정해주면 된다"
      ],
      "metadata": {
        "id": "UtuX0VSvh1Cn"
      }
    },
    {
      "cell_type": "markdown",
      "source": [
        "## 의미가 있는 형태소만 추출"
      ],
      "metadata": {
        "id": "M19zY0OHOsuH"
      }
    },
    {
      "cell_type": "markdown",
      "source": [
        "라이브러리 설치"
      ],
      "metadata": {
        "id": "ETFtJju1O10M"
      }
    },
    {
      "cell_type": "code",
      "source": [
        "! apt-get install -y openjdk-8-jdk python3-dev\n",
        "! pip install konlpy \"tweepy<4.0.0\"\n",
        "! /bin/bash <(curl -s https://raw.githubusercontent.com/konlpy/konlpy/master/scripts/mecab.sh)"
      ],
      "metadata": {
        "id": "8Z9LMLjo9_uy"
      },
      "execution_count": null,
      "outputs": []
    },
    {
      "cell_type": "markdown",
      "source": [
        "#### pos_extraction() 메소드"
      ],
      "metadata": {
        "id": "yB6sg7K-O368"
      }
    },
    {
      "cell_type": "code",
      "source": [
        "import pandas as pd\n",
        "import konlpy\n",
        "\n",
        "def pos_extraction(predicted_dataset):\n",
        "    \"\"\"첫 번째 인수 : 예측 데이터셋<데이터프레임>. 단, 예측 데이터셋의 컬럼명에 'Predicted'가 존재해야 한다.\n",
        "    이 함수가 돌아가기 위해선 import pandas as pd 를 선언해야 한다.\n",
        "    \"\"\"\n",
        "    tagger = konlpy.tag.Mecab()\n",
        "    def select_pos(row):\n",
        "        sub_morphs = set(['NNG', 'NNP', 'NNB', 'NNBC', 'NR', 'NP', 'VV', 'VA', 'VX', 'VCP', 'VCN', 'MM', 'MAG', 'MAJ', 'IC'])\n",
        "        predicted = row['Predicted']\n",
        "        result = \"\"\n",
        "        if not(pd.isna(predicted)):                 # 예측답안이 NAN이 아닐때\n",
        "            for word, tag in tagger.pos(predicted): # 예측답안을 형태소 분석\n",
        "                if tag in sub_morphs:               # 의미가 있는 형태소이면\n",
        "                    result += word                    # result에 추가한다.\n",
        "        row['Predicted'] = result\n",
        "        return row\n",
        "    \n",
        "    changed_dataset = predicted_dataset.apply(select_pos, axis = 1)\n",
        "    return changed_dataset"
      ],
      "metadata": {
        "id": "W14UPdiLAw_o"
      },
      "execution_count": null,
      "outputs": []
    },
    {
      "cell_type": "markdown",
      "source": [
        "#### 사용법"
      ],
      "metadata": {
        "id": "Xd52_agURK9d"
      }
    },
    {
      "cell_type": "code",
      "source": [
        "predicted_dataset = pd.read_csv('baseline.csv')\n",
        "pos_dataset = pos_extraction(predicted_dataset)\n",
        "pos_dataset"
      ],
      "metadata": {
        "colab": {
          "base_uri": "https://localhost:8080/",
          "height": 424
        },
        "id": "RDguwbHG9938",
        "outputId": "40eb89a5-2f05-4e5d-9a28-e8569b1857a2"
      },
      "execution_count": null,
      "outputs": [
        {
          "output_type": "execute_result",
          "data": {
            "text/plain": [
              "                                    Id  \\\n",
              "0     d14cb73158624cf094c546d856fd3c80   \n",
              "1     906631384e91493ebe1c7f34aea6f241   \n",
              "2     35e61dcb479643448a2cb7d326ae50a6   \n",
              "3     075e761b370040cb9041eecd39afc27c   \n",
              "4     e67ed38f3dd944be94d5b4c53731f334   \n",
              "...                                ...   \n",
              "4003  05fcb8054dc44dab8683579c2cf5e465   \n",
              "4004  cc7f826b66724ce9b39e3a974ca15661   \n",
              "4005  3282034aa41e4fab980851ffd4a868dd   \n",
              "4006  0a73550b36df4baf82ac2f98619d22e7   \n",
              "4007  dfe6ef25f84f461e89e54d370e4521d5   \n",
              "\n",
              "                                              Predicted  \n",
              "0                                                     뉴  \n",
              "1     의도여객기하강버튼여객기하강속도사고직전조종석밖있조종사문여러차례두드리소리부조종사문열않설...  \n",
              "2                                                    미국  \n",
              "3                                               톱가운데개기업  \n",
              "4                                                   백혈병  \n",
              "...                                                 ...  \n",
              "4003                                                 만엔  \n",
              "4004  한국전쟁당시언니수지여동생오목이고의로방치수지신경쓰않오빠덕좋남편결혼그후여동생죄책감그녀수...  \n",
              "4005  달러절반수준올들하락세계속있특히아시아유럽노선하락폭크이노선오가컨테이너선평균운임일달러주일전가량  \n",
              "4006  사흘간추이지켜보휴업더필요판단휴업연장여부포함별도조치마련서울교육청일서울전지역학교모든학생...  \n",
              "4007                                                시진핑  \n",
              "\n",
              "[4008 rows x 2 columns]"
            ],
            "text/html": [
              "\n",
              "  <div id=\"df-5543e15b-7e2e-4221-ad4d-ac58f7277959\">\n",
              "    <div class=\"colab-df-container\">\n",
              "      <div>\n",
              "<style scoped>\n",
              "    .dataframe tbody tr th:only-of-type {\n",
              "        vertical-align: middle;\n",
              "    }\n",
              "\n",
              "    .dataframe tbody tr th {\n",
              "        vertical-align: top;\n",
              "    }\n",
              "\n",
              "    .dataframe thead th {\n",
              "        text-align: right;\n",
              "    }\n",
              "</style>\n",
              "<table border=\"1\" class=\"dataframe\">\n",
              "  <thead>\n",
              "    <tr style=\"text-align: right;\">\n",
              "      <th></th>\n",
              "      <th>Id</th>\n",
              "      <th>Predicted</th>\n",
              "    </tr>\n",
              "  </thead>\n",
              "  <tbody>\n",
              "    <tr>\n",
              "      <th>0</th>\n",
              "      <td>d14cb73158624cf094c546d856fd3c80</td>\n",
              "      <td>뉴</td>\n",
              "    </tr>\n",
              "    <tr>\n",
              "      <th>1</th>\n",
              "      <td>906631384e91493ebe1c7f34aea6f241</td>\n",
              "      <td>의도여객기하강버튼여객기하강속도사고직전조종석밖있조종사문여러차례두드리소리부조종사문열않설...</td>\n",
              "    </tr>\n",
              "    <tr>\n",
              "      <th>2</th>\n",
              "      <td>35e61dcb479643448a2cb7d326ae50a6</td>\n",
              "      <td>미국</td>\n",
              "    </tr>\n",
              "    <tr>\n",
              "      <th>3</th>\n",
              "      <td>075e761b370040cb9041eecd39afc27c</td>\n",
              "      <td>톱가운데개기업</td>\n",
              "    </tr>\n",
              "    <tr>\n",
              "      <th>4</th>\n",
              "      <td>e67ed38f3dd944be94d5b4c53731f334</td>\n",
              "      <td>백혈병</td>\n",
              "    </tr>\n",
              "    <tr>\n",
              "      <th>...</th>\n",
              "      <td>...</td>\n",
              "      <td>...</td>\n",
              "    </tr>\n",
              "    <tr>\n",
              "      <th>4003</th>\n",
              "      <td>05fcb8054dc44dab8683579c2cf5e465</td>\n",
              "      <td>만엔</td>\n",
              "    </tr>\n",
              "    <tr>\n",
              "      <th>4004</th>\n",
              "      <td>cc7f826b66724ce9b39e3a974ca15661</td>\n",
              "      <td>한국전쟁당시언니수지여동생오목이고의로방치수지신경쓰않오빠덕좋남편결혼그후여동생죄책감그녀수...</td>\n",
              "    </tr>\n",
              "    <tr>\n",
              "      <th>4005</th>\n",
              "      <td>3282034aa41e4fab980851ffd4a868dd</td>\n",
              "      <td>달러절반수준올들하락세계속있특히아시아유럽노선하락폭크이노선오가컨테이너선평균운임일달러주일전가량</td>\n",
              "    </tr>\n",
              "    <tr>\n",
              "      <th>4006</th>\n",
              "      <td>0a73550b36df4baf82ac2f98619d22e7</td>\n",
              "      <td>사흘간추이지켜보휴업더필요판단휴업연장여부포함별도조치마련서울교육청일서울전지역학교모든학생...</td>\n",
              "    </tr>\n",
              "    <tr>\n",
              "      <th>4007</th>\n",
              "      <td>dfe6ef25f84f461e89e54d370e4521d5</td>\n",
              "      <td>시진핑</td>\n",
              "    </tr>\n",
              "  </tbody>\n",
              "</table>\n",
              "<p>4008 rows × 2 columns</p>\n",
              "</div>\n",
              "      <button class=\"colab-df-convert\" onclick=\"convertToInteractive('df-5543e15b-7e2e-4221-ad4d-ac58f7277959')\"\n",
              "              title=\"Convert this dataframe to an interactive table.\"\n",
              "              style=\"display:none;\">\n",
              "        \n",
              "  <svg xmlns=\"http://www.w3.org/2000/svg\" height=\"24px\"viewBox=\"0 0 24 24\"\n",
              "       width=\"24px\">\n",
              "    <path d=\"M0 0h24v24H0V0z\" fill=\"none\"/>\n",
              "    <path d=\"M18.56 5.44l.94 2.06.94-2.06 2.06-.94-2.06-.94-.94-2.06-.94 2.06-2.06.94zm-11 1L8.5 8.5l.94-2.06 2.06-.94-2.06-.94L8.5 2.5l-.94 2.06-2.06.94zm10 10l.94 2.06.94-2.06 2.06-.94-2.06-.94-.94-2.06-.94 2.06-2.06.94z\"/><path d=\"M17.41 7.96l-1.37-1.37c-.4-.4-.92-.59-1.43-.59-.52 0-1.04.2-1.43.59L10.3 9.45l-7.72 7.72c-.78.78-.78 2.05 0 2.83L4 21.41c.39.39.9.59 1.41.59.51 0 1.02-.2 1.41-.59l7.78-7.78 2.81-2.81c.8-.78.8-2.07 0-2.86zM5.41 20L4 18.59l7.72-7.72 1.47 1.35L5.41 20z\"/>\n",
              "  </svg>\n",
              "      </button>\n",
              "      \n",
              "  <style>\n",
              "    .colab-df-container {\n",
              "      display:flex;\n",
              "      flex-wrap:wrap;\n",
              "      gap: 12px;\n",
              "    }\n",
              "\n",
              "    .colab-df-convert {\n",
              "      background-color: #E8F0FE;\n",
              "      border: none;\n",
              "      border-radius: 50%;\n",
              "      cursor: pointer;\n",
              "      display: none;\n",
              "      fill: #1967D2;\n",
              "      height: 32px;\n",
              "      padding: 0 0 0 0;\n",
              "      width: 32px;\n",
              "    }\n",
              "\n",
              "    .colab-df-convert:hover {\n",
              "      background-color: #E2EBFA;\n",
              "      box-shadow: 0px 1px 2px rgba(60, 64, 67, 0.3), 0px 1px 3px 1px rgba(60, 64, 67, 0.15);\n",
              "      fill: #174EA6;\n",
              "    }\n",
              "\n",
              "    [theme=dark] .colab-df-convert {\n",
              "      background-color: #3B4455;\n",
              "      fill: #D2E3FC;\n",
              "    }\n",
              "\n",
              "    [theme=dark] .colab-df-convert:hover {\n",
              "      background-color: #434B5C;\n",
              "      box-shadow: 0px 1px 3px 1px rgba(0, 0, 0, 0.15);\n",
              "      filter: drop-shadow(0px 1px 2px rgba(0, 0, 0, 0.3));\n",
              "      fill: #FFFFFF;\n",
              "    }\n",
              "  </style>\n",
              "\n",
              "      <script>\n",
              "        const buttonEl =\n",
              "          document.querySelector('#df-5543e15b-7e2e-4221-ad4d-ac58f7277959 button.colab-df-convert');\n",
              "        buttonEl.style.display =\n",
              "          google.colab.kernel.accessAllowed ? 'block' : 'none';\n",
              "\n",
              "        async function convertToInteractive(key) {\n",
              "          const element = document.querySelector('#df-5543e15b-7e2e-4221-ad4d-ac58f7277959');\n",
              "          const dataTable =\n",
              "            await google.colab.kernel.invokeFunction('convertToInteractive',\n",
              "                                                     [key], {});\n",
              "          if (!dataTable) return;\n",
              "\n",
              "          const docLinkHtml = 'Like what you see? Visit the ' +\n",
              "            '<a target=\"_blank\" href=https://colab.research.google.com/notebooks/data_table.ipynb>data table notebook</a>'\n",
              "            + ' to learn more about interactive tables.';\n",
              "          element.innerHTML = '';\n",
              "          dataTable['output_type'] = 'display_data';\n",
              "          await google.colab.output.renderOutput(dataTable, element);\n",
              "          const docLink = document.createElement('div');\n",
              "          docLink.innerHTML = docLinkHtml;\n",
              "          element.appendChild(docLink);\n",
              "        }\n",
              "      </script>\n",
              "    </div>\n",
              "  </div>\n",
              "  "
            ]
          },
          "metadata": {},
          "execution_count": 48
        }
      ]
    },
    {
      "cell_type": "markdown",
      "source": [
        "형태소 추출과 동시에 띄어쓰기 정보가 사라졌다."
      ],
      "metadata": {
        "id": "3Gya4yuGQHkj"
      }
    },
    {
      "cell_type": "markdown",
      "source": [
        "## 띄어쓰기 정보 추가"
      ],
      "metadata": {
        "id": "P2Sb8tmtQLyl"
      }
    },
    {
      "cell_type": "markdown",
      "source": [
        "라이브러리 설치"
      ],
      "metadata": {
        "id": "Y8v0EnwHQhmZ"
      }
    },
    {
      "cell_type": "code",
      "source": [
        "pip install git+https://github.com/haven-jeon/PyKoSpacing.git"
      ],
      "metadata": {
        "id": "8YYwBvBxBqbH"
      },
      "execution_count": null,
      "outputs": []
    },
    {
      "cell_type": "code",
      "source": [
        "import pandas as pd\n",
        "from pykospacing import Spacing\n",
        "\n",
        "def apply_spacing(predicted_dataset):\n",
        "    \"\"\"첫 번째 인수 : 예측 데이터셋<데이터프레임>. 단, 예측 데이터셋의 컬럼명에 'Predicted'가 존재해야 한다.\n",
        "    이 함수가 돌아가기 위해선 import pandas as pd 를 선언해야 한다.\n",
        "    \"\"\"\n",
        "    spacing = Spacing()\n",
        "    def add_spacing(row):\n",
        "        predicted = row['Predicted']\n",
        "        row['Predicted'] = spacing(predicted) \n",
        "        return row\n",
        "    \n",
        "    changed_dataset = predicted_dataset.apply(add_spacing, axis = 1)\n",
        "    return changed_dataset"
      ],
      "metadata": {
        "id": "xObCxPLBKQww"
      },
      "execution_count": null,
      "outputs": []
    },
    {
      "cell_type": "code",
      "source": [
        "spacing_dataset = apply_spacing(pos_dataset)\n",
        "spacing_dataset"
      ],
      "metadata": {
        "colab": {
          "base_uri": "https://localhost:8080/",
          "height": 424
        },
        "id": "MyBttoIoK0en",
        "outputId": "6ba42e13-2bcc-43e8-a18e-c05b5955036c"
      },
      "execution_count": null,
      "outputs": [
        {
          "output_type": "execute_result",
          "data": {
            "text/plain": [
              "                                    Id  \\\n",
              "0     d14cb73158624cf094c546d856fd3c80   \n",
              "1     906631384e91493ebe1c7f34aea6f241   \n",
              "2     35e61dcb479643448a2cb7d326ae50a6   \n",
              "3     075e761b370040cb9041eecd39afc27c   \n",
              "4     e67ed38f3dd944be94d5b4c53731f334   \n",
              "...                                ...   \n",
              "4003  05fcb8054dc44dab8683579c2cf5e465   \n",
              "4004  cc7f826b66724ce9b39e3a974ca15661   \n",
              "4005  3282034aa41e4fab980851ffd4a868dd   \n",
              "4006  0a73550b36df4baf82ac2f98619d22e7   \n",
              "4007  dfe6ef25f84f461e89e54d370e4521d5   \n",
              "\n",
              "                                              Predicted  \n",
              "0                                                     뉴  \n",
              "1     의도 여객기 하강 버튼 여객기 하강 속도사고 직전 조종석 밖 있조 종사문 여러 차례...  \n",
              "2                                                    미국  \n",
              "3                                            톱 가운데 개 기업  \n",
              "4                                                   백혈병  \n",
              "...                                                 ...  \n",
              "4003                                                 만엔  \n",
              "4004  한국전쟁 당시 언니 수지 여동생 오목이고의로 방치 수지신경 쓰 않오빠덕 좋남편 결혼...  \n",
              "4005  달러 절반 수준 올들 하락 세계 속 있특히 아시아 유럽 노선 하락 폭 크 이 노선 ...  \n",
              "4006  사흘간 추이 지켜보 휴업 더 필요 판단 휴업 연장 여부 포함별도 조치 마련 서울교육...  \n",
              "4007                                                시진핑  \n",
              "\n",
              "[4008 rows x 2 columns]"
            ],
            "text/html": [
              "\n",
              "  <div id=\"df-ca05feca-d71d-4826-9785-59c481b702ca\">\n",
              "    <div class=\"colab-df-container\">\n",
              "      <div>\n",
              "<style scoped>\n",
              "    .dataframe tbody tr th:only-of-type {\n",
              "        vertical-align: middle;\n",
              "    }\n",
              "\n",
              "    .dataframe tbody tr th {\n",
              "        vertical-align: top;\n",
              "    }\n",
              "\n",
              "    .dataframe thead th {\n",
              "        text-align: right;\n",
              "    }\n",
              "</style>\n",
              "<table border=\"1\" class=\"dataframe\">\n",
              "  <thead>\n",
              "    <tr style=\"text-align: right;\">\n",
              "      <th></th>\n",
              "      <th>Id</th>\n",
              "      <th>Predicted</th>\n",
              "    </tr>\n",
              "  </thead>\n",
              "  <tbody>\n",
              "    <tr>\n",
              "      <th>0</th>\n",
              "      <td>d14cb73158624cf094c546d856fd3c80</td>\n",
              "      <td>뉴</td>\n",
              "    </tr>\n",
              "    <tr>\n",
              "      <th>1</th>\n",
              "      <td>906631384e91493ebe1c7f34aea6f241</td>\n",
              "      <td>의도 여객기 하강 버튼 여객기 하강 속도사고 직전 조종석 밖 있조 종사문 여러 차례...</td>\n",
              "    </tr>\n",
              "    <tr>\n",
              "      <th>2</th>\n",
              "      <td>35e61dcb479643448a2cb7d326ae50a6</td>\n",
              "      <td>미국</td>\n",
              "    </tr>\n",
              "    <tr>\n",
              "      <th>3</th>\n",
              "      <td>075e761b370040cb9041eecd39afc27c</td>\n",
              "      <td>톱 가운데 개 기업</td>\n",
              "    </tr>\n",
              "    <tr>\n",
              "      <th>4</th>\n",
              "      <td>e67ed38f3dd944be94d5b4c53731f334</td>\n",
              "      <td>백혈병</td>\n",
              "    </tr>\n",
              "    <tr>\n",
              "      <th>...</th>\n",
              "      <td>...</td>\n",
              "      <td>...</td>\n",
              "    </tr>\n",
              "    <tr>\n",
              "      <th>4003</th>\n",
              "      <td>05fcb8054dc44dab8683579c2cf5e465</td>\n",
              "      <td>만엔</td>\n",
              "    </tr>\n",
              "    <tr>\n",
              "      <th>4004</th>\n",
              "      <td>cc7f826b66724ce9b39e3a974ca15661</td>\n",
              "      <td>한국전쟁 당시 언니 수지 여동생 오목이고의로 방치 수지신경 쓰 않오빠덕 좋남편 결혼...</td>\n",
              "    </tr>\n",
              "    <tr>\n",
              "      <th>4005</th>\n",
              "      <td>3282034aa41e4fab980851ffd4a868dd</td>\n",
              "      <td>달러 절반 수준 올들 하락 세계 속 있특히 아시아 유럽 노선 하락 폭 크 이 노선 ...</td>\n",
              "    </tr>\n",
              "    <tr>\n",
              "      <th>4006</th>\n",
              "      <td>0a73550b36df4baf82ac2f98619d22e7</td>\n",
              "      <td>사흘간 추이 지켜보 휴업 더 필요 판단 휴업 연장 여부 포함별도 조치 마련 서울교육...</td>\n",
              "    </tr>\n",
              "    <tr>\n",
              "      <th>4007</th>\n",
              "      <td>dfe6ef25f84f461e89e54d370e4521d5</td>\n",
              "      <td>시진핑</td>\n",
              "    </tr>\n",
              "  </tbody>\n",
              "</table>\n",
              "<p>4008 rows × 2 columns</p>\n",
              "</div>\n",
              "      <button class=\"colab-df-convert\" onclick=\"convertToInteractive('df-ca05feca-d71d-4826-9785-59c481b702ca')\"\n",
              "              title=\"Convert this dataframe to an interactive table.\"\n",
              "              style=\"display:none;\">\n",
              "        \n",
              "  <svg xmlns=\"http://www.w3.org/2000/svg\" height=\"24px\"viewBox=\"0 0 24 24\"\n",
              "       width=\"24px\">\n",
              "    <path d=\"M0 0h24v24H0V0z\" fill=\"none\"/>\n",
              "    <path d=\"M18.56 5.44l.94 2.06.94-2.06 2.06-.94-2.06-.94-.94-2.06-.94 2.06-2.06.94zm-11 1L8.5 8.5l.94-2.06 2.06-.94-2.06-.94L8.5 2.5l-.94 2.06-2.06.94zm10 10l.94 2.06.94-2.06 2.06-.94-2.06-.94-.94-2.06-.94 2.06-2.06.94z\"/><path d=\"M17.41 7.96l-1.37-1.37c-.4-.4-.92-.59-1.43-.59-.52 0-1.04.2-1.43.59L10.3 9.45l-7.72 7.72c-.78.78-.78 2.05 0 2.83L4 21.41c.39.39.9.59 1.41.59.51 0 1.02-.2 1.41-.59l7.78-7.78 2.81-2.81c.8-.78.8-2.07 0-2.86zM5.41 20L4 18.59l7.72-7.72 1.47 1.35L5.41 20z\"/>\n",
              "  </svg>\n",
              "      </button>\n",
              "      \n",
              "  <style>\n",
              "    .colab-df-container {\n",
              "      display:flex;\n",
              "      flex-wrap:wrap;\n",
              "      gap: 12px;\n",
              "    }\n",
              "\n",
              "    .colab-df-convert {\n",
              "      background-color: #E8F0FE;\n",
              "      border: none;\n",
              "      border-radius: 50%;\n",
              "      cursor: pointer;\n",
              "      display: none;\n",
              "      fill: #1967D2;\n",
              "      height: 32px;\n",
              "      padding: 0 0 0 0;\n",
              "      width: 32px;\n",
              "    }\n",
              "\n",
              "    .colab-df-convert:hover {\n",
              "      background-color: #E2EBFA;\n",
              "      box-shadow: 0px 1px 2px rgba(60, 64, 67, 0.3), 0px 1px 3px 1px rgba(60, 64, 67, 0.15);\n",
              "      fill: #174EA6;\n",
              "    }\n",
              "\n",
              "    [theme=dark] .colab-df-convert {\n",
              "      background-color: #3B4455;\n",
              "      fill: #D2E3FC;\n",
              "    }\n",
              "\n",
              "    [theme=dark] .colab-df-convert:hover {\n",
              "      background-color: #434B5C;\n",
              "      box-shadow: 0px 1px 3px 1px rgba(0, 0, 0, 0.15);\n",
              "      filter: drop-shadow(0px 1px 2px rgba(0, 0, 0, 0.3));\n",
              "      fill: #FFFFFF;\n",
              "    }\n",
              "  </style>\n",
              "\n",
              "      <script>\n",
              "        const buttonEl =\n",
              "          document.querySelector('#df-ca05feca-d71d-4826-9785-59c481b702ca button.colab-df-convert');\n",
              "        buttonEl.style.display =\n",
              "          google.colab.kernel.accessAllowed ? 'block' : 'none';\n",
              "\n",
              "        async function convertToInteractive(key) {\n",
              "          const element = document.querySelector('#df-ca05feca-d71d-4826-9785-59c481b702ca');\n",
              "          const dataTable =\n",
              "            await google.colab.kernel.invokeFunction('convertToInteractive',\n",
              "                                                     [key], {});\n",
              "          if (!dataTable) return;\n",
              "\n",
              "          const docLinkHtml = 'Like what you see? Visit the ' +\n",
              "            '<a target=\"_blank\" href=https://colab.research.google.com/notebooks/data_table.ipynb>data table notebook</a>'\n",
              "            + ' to learn more about interactive tables.';\n",
              "          element.innerHTML = '';\n",
              "          dataTable['output_type'] = 'display_data';\n",
              "          await google.colab.output.renderOutput(dataTable, element);\n",
              "          const docLink = document.createElement('div');\n",
              "          docLink.innerHTML = docLinkHtml;\n",
              "          element.appendChild(docLink);\n",
              "        }\n",
              "      </script>\n",
              "    </div>\n",
              "  </div>\n",
              "  "
            ]
          },
          "metadata": {},
          "execution_count": 54
        }
      ]
    },
    {
      "cell_type": "code",
      "source": [],
      "metadata": {
        "id": "hJCWeBcfMHOS"
      },
      "execution_count": null,
      "outputs": []
    }
  ]
}