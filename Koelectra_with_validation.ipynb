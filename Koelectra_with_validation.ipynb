{
  "cells": [
    {
      "cell_type": "markdown",
      "metadata": {
        "id": "view-in-github",
        "colab_type": "text"
      },
      "source": [
        "<a href=\"https://colab.research.google.com/github/seonmia/MRC_KoBigBird_KoELECTRA/blob/main/Koelectra_with_validation.ipynb\" target=\"_parent\"><img src=\"https://colab.research.google.com/assets/colab-badge.svg\" alt=\"Open In Colab\"/></a>"
      ]
    },
    {
      "cell_type": "markdown",
      "metadata": {
        "id": "vJ43LxNsKJiJ"
      },
      "source": [
        "# Colab Mount & Import Libraries"
      ]
    },
    {
      "cell_type": "code",
      "source": [
        "from google.colab import drive\n",
        "drive.mount('/content/drive')"
      ],
      "metadata": {
        "colab": {
          "base_uri": "https://localhost:8080/"
        },
        "id": "HrDc-Yc66Tms",
        "outputId": "256b1063-fbdf-441b-a82c-aadc13c07030"
      },
      "execution_count": null,
      "outputs": [
        {
          "output_type": "stream",
          "name": "stdout",
          "text": [
            "Mounted at /content/drive\n"
          ]
        }
      ]
    },
    {
      "cell_type": "code",
      "source": [
        "# train_file = \"train.json\"\n",
        "# test_file = \"test.json\"\n",
        "# result_path = \"/content/drive/MyDrive/Colab Notebooks/KDT Project 2\"\n",
        "# blank_file = \"blank.csv\"\n",
        "\n",
        "train_file = \"data/train.json\"\n",
        "add_train_file = 'data/017.뉴스 기사 기계독해 데이터/01.데이터/1.Training/라벨링데이터/TL_span_extraction.json'\n",
        "add_train_rev_file = \"data/data_extraction_answer_len20.json\"\n",
        "test_file = \"data/test.json\"\n",
        "result_path = \"sub/\"\n",
        "blank_file = \"data/blank.csv\"\n"
      ],
      "metadata": {
        "id": "_-6a1yO10hCz"
      },
      "execution_count": null,
      "outputs": []
    },
    {
      "cell_type": "code",
      "source": [
        "%cd /content/drive/MyDrive/GoormProject/GoormProject2/"
      ],
      "metadata": {
        "id": "P7YOpPUi6Tj6",
        "colab": {
          "base_uri": "https://localhost:8080/"
        },
        "outputId": "cecc5ad6-6aa5-491a-cab5-9255de720a7b"
      },
      "execution_count": null,
      "outputs": [
        {
          "output_type": "stream",
          "name": "stdout",
          "text": [
            "/content/drive/MyDrive/GoormProject/GoormProject2\n"
          ]
        }
      ]
    },
    {
      "cell_type": "code",
      "source": [
        "!pip install transformers\n",
        "!pip install sentencepiece\n",
        "!pip install wandb"
      ],
      "metadata": {
        "id": "foHAVmUX6TeF",
        "colab": {
          "base_uri": "https://localhost:8080/"
        },
        "outputId": "cb55bce0-6710-4c97-9e13-d5cbee57b432"
      },
      "execution_count": null,
      "outputs": [
        {
          "output_type": "stream",
          "name": "stdout",
          "text": [
            "Looking in indexes: https://pypi.org/simple, https://us-python.pkg.dev/colab-wheels/public/simple/\n",
            "Collecting transformers\n",
            "  Downloading transformers-4.21.0-py3-none-any.whl (4.7 MB)\n",
            "\u001b[K     |████████████████████████████████| 4.7 MB 5.1 MB/s \n",
            "\u001b[?25hRequirement already satisfied: filelock in /usr/local/lib/python3.7/dist-packages (from transformers) (3.7.1)\n",
            "Requirement already satisfied: numpy>=1.17 in /usr/local/lib/python3.7/dist-packages (from transformers) (1.21.6)\n",
            "Requirement already satisfied: requests in /usr/local/lib/python3.7/dist-packages (from transformers) (2.23.0)\n",
            "Collecting huggingface-hub<1.0,>=0.1.0\n",
            "  Downloading huggingface_hub-0.8.1-py3-none-any.whl (101 kB)\n",
            "\u001b[K     |████████████████████████████████| 101 kB 11.8 MB/s \n",
            "\u001b[?25hRequirement already satisfied: packaging>=20.0 in /usr/local/lib/python3.7/dist-packages (from transformers) (21.3)\n",
            "Collecting pyyaml>=5.1\n",
            "  Downloading PyYAML-6.0-cp37-cp37m-manylinux_2_5_x86_64.manylinux1_x86_64.manylinux_2_12_x86_64.manylinux2010_x86_64.whl (596 kB)\n",
            "\u001b[K     |████████████████████████████████| 596 kB 81.6 MB/s \n",
            "\u001b[?25hCollecting tokenizers!=0.11.3,<0.13,>=0.11.1\n",
            "  Downloading tokenizers-0.12.1-cp37-cp37m-manylinux_2_12_x86_64.manylinux2010_x86_64.whl (6.6 MB)\n",
            "\u001b[K     |████████████████████████████████| 6.6 MB 69.8 MB/s \n",
            "\u001b[?25hRequirement already satisfied: regex!=2019.12.17 in /usr/local/lib/python3.7/dist-packages (from transformers) (2022.6.2)\n",
            "Requirement already satisfied: tqdm>=4.27 in /usr/local/lib/python3.7/dist-packages (from transformers) (4.64.0)\n",
            "Requirement already satisfied: importlib-metadata in /usr/local/lib/python3.7/dist-packages (from transformers) (4.12.0)\n",
            "Requirement already satisfied: typing-extensions>=3.7.4.3 in /usr/local/lib/python3.7/dist-packages (from huggingface-hub<1.0,>=0.1.0->transformers) (4.1.1)\n",
            "Requirement already satisfied: pyparsing!=3.0.5,>=2.0.2 in /usr/local/lib/python3.7/dist-packages (from packaging>=20.0->transformers) (3.0.9)\n",
            "Requirement already satisfied: zipp>=0.5 in /usr/local/lib/python3.7/dist-packages (from importlib-metadata->transformers) (3.8.1)\n",
            "Requirement already satisfied: certifi>=2017.4.17 in /usr/local/lib/python3.7/dist-packages (from requests->transformers) (2022.6.15)\n",
            "Requirement already satisfied: urllib3!=1.25.0,!=1.25.1,<1.26,>=1.21.1 in /usr/local/lib/python3.7/dist-packages (from requests->transformers) (1.24.3)\n",
            "Requirement already satisfied: idna<3,>=2.5 in /usr/local/lib/python3.7/dist-packages (from requests->transformers) (2.10)\n",
            "Requirement already satisfied: chardet<4,>=3.0.2 in /usr/local/lib/python3.7/dist-packages (from requests->transformers) (3.0.4)\n",
            "Installing collected packages: pyyaml, tokenizers, huggingface-hub, transformers\n",
            "  Attempting uninstall: pyyaml\n",
            "    Found existing installation: PyYAML 3.13\n",
            "    Uninstalling PyYAML-3.13:\n",
            "      Successfully uninstalled PyYAML-3.13\n",
            "Successfully installed huggingface-hub-0.8.1 pyyaml-6.0 tokenizers-0.12.1 transformers-4.21.0\n",
            "Looking in indexes: https://pypi.org/simple, https://us-python.pkg.dev/colab-wheels/public/simple/\n",
            "Collecting sentencepiece\n",
            "  Downloading sentencepiece-0.1.96-cp37-cp37m-manylinux_2_17_x86_64.manylinux2014_x86_64.whl (1.2 MB)\n",
            "\u001b[K     |████████████████████████████████| 1.2 MB 5.0 MB/s \n",
            "\u001b[?25hInstalling collected packages: sentencepiece\n",
            "Successfully installed sentencepiece-0.1.96\n",
            "Looking in indexes: https://pypi.org/simple, https://us-python.pkg.dev/colab-wheels/public/simple/\n",
            "Collecting wandb\n",
            "  Downloading wandb-0.12.21-py2.py3-none-any.whl (1.8 MB)\n",
            "\u001b[K     |████████████████████████████████| 1.8 MB 5.1 MB/s \n",
            "\u001b[?25hRequirement already satisfied: Click!=8.0.0,>=7.0 in /usr/local/lib/python3.7/dist-packages (from wandb) (7.1.2)\n",
            "Collecting GitPython>=1.0.0\n",
            "  Downloading GitPython-3.1.27-py3-none-any.whl (181 kB)\n",
            "\u001b[K     |████████████████████████████████| 181 kB 66.2 MB/s \n",
            "\u001b[?25hRequirement already satisfied: promise<3,>=2.0 in /usr/local/lib/python3.7/dist-packages (from wandb) (2.3)\n",
            "Requirement already satisfied: six>=1.13.0 in /usr/local/lib/python3.7/dist-packages (from wandb) (1.15.0)\n",
            "Requirement already satisfied: protobuf<4.0dev,>=3.12.0 in /usr/local/lib/python3.7/dist-packages (from wandb) (3.17.3)\n",
            "Collecting shortuuid>=0.5.0\n",
            "  Downloading shortuuid-1.0.9-py3-none-any.whl (9.4 kB)\n",
            "Collecting docker-pycreds>=0.4.0\n",
            "  Downloading docker_pycreds-0.4.0-py2.py3-none-any.whl (9.0 kB)\n",
            "Requirement already satisfied: PyYAML in /usr/local/lib/python3.7/dist-packages (from wandb) (6.0)\n",
            "Requirement already satisfied: setuptools in /usr/local/lib/python3.7/dist-packages (from wandb) (57.4.0)\n",
            "Collecting setproctitle\n",
            "  Downloading setproctitle-1.3.0-cp37-cp37m-manylinux_2_5_x86_64.manylinux1_x86_64.manylinux_2_17_x86_64.manylinux2014_x86_64.whl (30 kB)\n",
            "Collecting sentry-sdk>=1.0.0\n",
            "  Downloading sentry_sdk-1.9.0-py2.py3-none-any.whl (156 kB)\n",
            "\u001b[K     |████████████████████████████████| 156 kB 69.3 MB/s \n",
            "\u001b[?25hCollecting pathtools\n",
            "  Downloading pathtools-0.1.2.tar.gz (11 kB)\n",
            "Requirement already satisfied: psutil>=5.0.0 in /usr/local/lib/python3.7/dist-packages (from wandb) (5.4.8)\n",
            "Requirement already satisfied: requests<3,>=2.0.0 in /usr/local/lib/python3.7/dist-packages (from wandb) (2.23.0)\n",
            "Requirement already satisfied: typing-extensions>=3.7.4.3 in /usr/local/lib/python3.7/dist-packages (from GitPython>=1.0.0->wandb) (4.1.1)\n",
            "Collecting gitdb<5,>=4.0.1\n",
            "  Downloading gitdb-4.0.9-py3-none-any.whl (63 kB)\n",
            "\u001b[K     |████████████████████████████████| 63 kB 2.0 MB/s \n",
            "\u001b[?25hCollecting smmap<6,>=3.0.1\n",
            "  Downloading smmap-5.0.0-py3-none-any.whl (24 kB)\n",
            "Requirement already satisfied: idna<3,>=2.5 in /usr/local/lib/python3.7/dist-packages (from requests<3,>=2.0.0->wandb) (2.10)\n",
            "Requirement already satisfied: chardet<4,>=3.0.2 in /usr/local/lib/python3.7/dist-packages (from requests<3,>=2.0.0->wandb) (3.0.4)\n",
            "Requirement already satisfied: urllib3!=1.25.0,!=1.25.1,<1.26,>=1.21.1 in /usr/local/lib/python3.7/dist-packages (from requests<3,>=2.0.0->wandb) (1.24.3)\n",
            "Requirement already satisfied: certifi>=2017.4.17 in /usr/local/lib/python3.7/dist-packages (from requests<3,>=2.0.0->wandb) (2022.6.15)\n",
            "Building wheels for collected packages: pathtools\n",
            "  Building wheel for pathtools (setup.py) ... \u001b[?25l\u001b[?25hdone\n",
            "  Created wheel for pathtools: filename=pathtools-0.1.2-py3-none-any.whl size=8806 sha256=74ff31e0c9e17ef8b525c66e2e41c2728af8dd650c46b2ae20d6fb16a61e370f\n",
            "  Stored in directory: /root/.cache/pip/wheels/3e/31/09/fa59cef12cdcfecc627b3d24273699f390e71828921b2cbba2\n",
            "Successfully built pathtools\n",
            "Installing collected packages: smmap, gitdb, shortuuid, setproctitle, sentry-sdk, pathtools, GitPython, docker-pycreds, wandb\n",
            "Successfully installed GitPython-3.1.27 docker-pycreds-0.4.0 gitdb-4.0.9 pathtools-0.1.2 sentry-sdk-1.9.0 setproctitle-1.3.0 shortuuid-1.0.9 smmap-5.0.0 wandb-0.12.21\n"
          ]
        }
      ]
    },
    {
      "cell_type": "code",
      "source": [],
      "metadata": {
        "id": "lPVDNKXj6TaO"
      },
      "execution_count": null,
      "outputs": []
    },
    {
      "cell_type": "code",
      "source": [
        "import os\n",
        "import random\n",
        "import math\n",
        "import csv\n",
        "import json\n",
        "from tqdm.notebook import tqdm\n",
        "from easydict import EasyDict as edict\n",
        "from statistics import mean\n",
        "from typing import List, Tuple, Dict, Any\n",
        "\n",
        "import numpy as np\n",
        "from sklearn.preprocessing import StandardScaler\n",
        "import matplotlib.pyplot as plt\n",
        "\n",
        "import wandb\n",
        "\n",
        "import torch\n",
        "from torch.utils.data import DataLoader\n",
        "from torch.nn.utils import clip_grad_norm_\n",
        "from torch.nn.utils.rnn import pad_sequence\n",
        "import torch.nn.functional as F\n",
        "\n",
        "\n",
        "from transformers import (\n",
        "    BertTokenizer,\n",
        "    BertForQuestionAnswering,\n",
        "    AutoConfig,\n",
        "    AdamW,\n",
        "    AlbertTokenizer,\n",
        "    AlbertForSequenceClassification,\n",
        "    ElectraModel,\n",
        "    ElectraTokenizer,\n",
        "    ElectraForQuestionAnswering, \n",
        "    AutoModelForQuestionAnswering, \n",
        "    AutoTokenizer\n",
        ")"
      ],
      "metadata": {
        "id": "VCZKlB6H6TXJ"
      },
      "execution_count": null,
      "outputs": []
    },
    {
      "cell_type": "code",
      "source": [],
      "metadata": {
        "id": "c3QOflVp6TT0"
      },
      "execution_count": null,
      "outputs": []
    },
    {
      "cell_type": "markdown",
      "source": [
        "# Config"
      ],
      "metadata": {
        "id": "Nicp6sehyX47"
      }
    },
    {
      "cell_type": "code",
      "source": [
        "args = edict({'w_project': 'KoElectra',\n",
        "              'w_entity': 'reodreamer', # WandB ID\n",
        "              'learning_rate': 5e-5,\n",
        "              'batch_size': {'train': 128,\n",
        "                             'eval': 4,\n",
        "                             'test': 128},\n",
        "              'accumulate': 32,\n",
        "              'epochs': 10,\n",
        "              'seed': 42,\n",
        "              'model_name': 'monologg/koelectra-base-v3-discriminator',\n",
        "              'max_length': 512,\n",
        "              'EarlyStopping' : True,\n",
        "              'patience' : 5,\n",
        "              })\n",
        "args['NAME'] = ''f'koelectra_ep{args.epochs}_lr{args.learning_rate}_{random.randrange(0, 1024)}'\n",
        "print(args.NAME)"
      ],
      "metadata": {
        "colab": {
          "base_uri": "https://localhost:8080/"
        },
        "id": "bBNnPbhw6TOI",
        "outputId": "ac92205f-1134-4817-bcb0-9c8a6c2ec8b3"
      },
      "execution_count": null,
      "outputs": [
        {
          "output_type": "stream",
          "name": "stdout",
          "text": [
            "koelectra_ep10_lr5e-05_92\n"
          ]
        }
      ]
    },
    {
      "cell_type": "markdown",
      "source": [
        "# Wandb"
      ],
      "metadata": {
        "id": "knQimsHiygQW"
      }
    },
    {
      "cell_type": "code",
      "source": [
        "do_wandb = True"
      ],
      "metadata": {
        "id": "OTsabZWQ6TLD"
      },
      "execution_count": null,
      "outputs": []
    },
    {
      "cell_type": "code",
      "source": [
        "if do_wandb: wandb.login()"
      ],
      "metadata": {
        "id": "V-gqKD0u6THr"
      },
      "execution_count": null,
      "outputs": []
    },
    {
      "cell_type": "code",
      "source": [
        "if do_wandb: wandb.init(project = args.w_project, entity = args.w_entity)"
      ],
      "metadata": {
        "colab": {
          "base_uri": "https://localhost:8080/",
          "height": 170
        },
        "id": "TYBm0Qrf6TE1",
        "outputId": "2fd46454-8716-4bf9-824f-e0ec36db4a34"
      },
      "execution_count": null,
      "outputs": [
        {
          "output_type": "display_data",
          "data": {
            "text/plain": [
              "<IPython.core.display.Javascript object>"
            ],
            "application/javascript": [
              "\n",
              "        window._wandbApiKey = new Promise((resolve, reject) => {\n",
              "            function loadScript(url) {\n",
              "            return new Promise(function(resolve, reject) {\n",
              "                let newScript = document.createElement(\"script\");\n",
              "                newScript.onerror = reject;\n",
              "                newScript.onload = resolve;\n",
              "                document.body.appendChild(newScript);\n",
              "                newScript.src = url;\n",
              "            });\n",
              "            }\n",
              "            loadScript(\"https://cdn.jsdelivr.net/npm/postmate/build/postmate.min.js\").then(() => {\n",
              "            const iframe = document.createElement('iframe')\n",
              "            iframe.style.cssText = \"width:0;height:0;border:none\"\n",
              "            document.body.appendChild(iframe)\n",
              "            const handshake = new Postmate({\n",
              "                container: iframe,\n",
              "                url: 'https://wandb.ai/authorize'\n",
              "            });\n",
              "            const timeout = setTimeout(() => reject(\"Couldn't auto authenticate\"), 5000)\n",
              "            handshake.then(function(child) {\n",
              "                child.on('authorize', data => {\n",
              "                    clearTimeout(timeout)\n",
              "                    resolve(data)\n",
              "                });\n",
              "            });\n",
              "            })\n",
              "        });\n",
              "    "
            ]
          },
          "metadata": {}
        },
        {
          "output_type": "stream",
          "name": "stderr",
          "text": [
            "\u001b[34m\u001b[1mwandb\u001b[0m: Logging into wandb.ai. (Learn how to deploy a W&B server locally: https://wandb.me/wandb-server)\n",
            "\u001b[34m\u001b[1mwandb\u001b[0m: You can find your API key in your browser here: https://wandb.ai/authorize\n",
            "wandb: Paste an API key from your profile and hit enter, or press ctrl+c to quit: "
          ]
        },
        {
          "name": "stdout",
          "output_type": "stream",
          "text": [
            "··········\n"
          ]
        },
        {
          "output_type": "stream",
          "name": "stderr",
          "text": [
            "\u001b[34m\u001b[1mwandb\u001b[0m: Appending key for api.wandb.ai to your netrc file: /root/.netrc\n"
          ]
        },
        {
          "output_type": "display_data",
          "data": {
            "text/plain": [
              "<IPython.core.display.HTML object>"
            ],
            "text/html": [
              "Tracking run with wandb version 0.12.21"
            ]
          },
          "metadata": {}
        },
        {
          "output_type": "display_data",
          "data": {
            "text/plain": [
              "<IPython.core.display.HTML object>"
            ],
            "text/html": [
              "Run data is saved locally in <code>/content/drive/.shortcut-targets-by-id/1ovgSHdL_LDsDV-KWBQ2NNEs2v8Mpi0fm/GoormProject/GoormProject2/data/wandb/run-20220801_092527-1thinfut</code>"
            ]
          },
          "metadata": {}
        },
        {
          "output_type": "display_data",
          "data": {
            "text/plain": [
              "<IPython.core.display.HTML object>"
            ],
            "text/html": [
              "Syncing run <strong><a href=\"https://wandb.ai/zizibe/KoELECTRA/runs/1thinfut\" target=\"_blank\">gentle-disco-39</a></strong> to <a href=\"https://wandb.ai/zizibe/KoELECTRA\" target=\"_blank\">Weights & Biases</a> (<a href=\"https://wandb.me/run\" target=\"_blank\">docs</a>)<br/>"
            ]
          },
          "metadata": {}
        }
      ]
    },
    {
      "cell_type": "code",
      "source": [
        "if do_wandb:\n",
        "  wandb.run.name = args.NAME\n",
        "  wandb.config.learning_rate = args.learning_rate\n",
        "  wandb.config.epochs = args.epochs\n",
        "  wandb.config.batch_size = args.batch_size"
      ],
      "metadata": {
        "id": "0AFEZqHv6TBs"
      },
      "execution_count": null,
      "outputs": []
    },
    {
      "cell_type": "code",
      "source": [],
      "metadata": {
        "id": "KHVuJMfE6S9T"
      },
      "execution_count": null,
      "outputs": []
    },
    {
      "cell_type": "markdown",
      "source": [
        "# Setting Model"
      ],
      "metadata": {
        "id": "mQ01AD8rzVT6"
      }
    },
    {
      "cell_type": "code",
      "source": [
        "def seed_everything(seed):\n",
        "    random.seed(seed)\n",
        "    np.random.seed(seed)\n",
        "    os.environ[\"PYTHONHASHSEED\"] = str(seed)\n",
        "    torch.manual_seed(seed)\n",
        "    torch.cuda.manual_seed(seed)  # type: ignore\n",
        "    torch.backends.cudnn.deterministic = True  # type: ignore\n",
        "    torch.backends.cudnn.benchmark = True  # type: ignore\n",
        "\n",
        "seed_everything(args.seed)"
      ],
      "metadata": {
        "id": "0Fp5lzUg6S6h"
      },
      "execution_count": null,
      "outputs": []
    },
    {
      "cell_type": "code",
      "source": [
        "tokenizer = AutoTokenizer.from_pretrained(args.model_name)\n"
      ],
      "metadata": {
        "id": "d6_cJvSW6S32",
        "colab": {
          "base_uri": "https://localhost:8080/",
          "referenced_widgets": [
            "cd2a341f5bc34f44b1f48aaf81ac5db0",
            "6ea3e512716b4594b93555499a787907",
            "3b265e36cc16482fa68410dbc5475b84",
            "551732d7602745199801844141bf8675",
            "43c38de4118541b2b0b3e55780f894b6",
            "2fbe06742d6b45d8b61702caa317ec8c",
            "cb323c8f2203460b81cc57cd1e9850ea",
            "42733afbacce4dca8fa14cf34051371c",
            "58b609a19bad4ec8a43713c8ccf3d2e2",
            "b822b88426a64e8d8befb5cbbd5f9f3b",
            "4086554a434242d6aa7e61ef4725eb48",
            "5e4547ea5f7d4277a8b22e8c576f72d9",
            "63b8bfba3ef74148bfb2b7cdb975e912",
            "2147c6755bef4ef3a18d592bb648ee71",
            "3627b929b71048838bef7d19ce1b9f3d",
            "789dc1952a33423792ab6ff3925bc370",
            "d31b621fe9cb4c64902b97f81492baba",
            "473a6550d7d44f389e91fdbeffd65abf",
            "e5e1b335469843679bb026a547de83f6",
            "95a9c58a8b7549fd9c1fbfd24f592a41",
            "b8bed1ae1cbf4a7cb4601fa4076dc23f",
            "f1cb945980684637919c35d2746cfa86",
            "9c5a7f93f4d244de875256c92c622e2e",
            "6181db9bd6064f36a81b9aaecb286377",
            "c0fa668eaa15495ba96f245fc161a573",
            "241e92ffcf2a4ed290b11fb54e6014ff",
            "16cb694832714c1cbcb8d2ef5eef9645",
            "b418a4f45a0b418881b239c465a6ab4c",
            "af9de2b81c4640f4af47ce8615cd5634",
            "1f5ede0b6ebd4ec0bbeba14e2b020dca",
            "e4600b5c53e34a4690aac6ca1fc315e4",
            "b2df143bf6a54ef19ae423458d11ca75",
            "00fd7feb1a95405a9e0fec722c596db7"
          ],
          "height": 113
        },
        "outputId": "f9602612-77e6-47d5-d1a2-3d1c3cc0aa8d"
      },
      "execution_count": null,
      "outputs": [
        {
          "output_type": "display_data",
          "data": {
            "text/plain": [
              "Downloading tokenizer_config.json:   0%|          | 0.00/61.0 [00:00<?, ?B/s]"
            ],
            "application/vnd.jupyter.widget-view+json": {
              "version_major": 2,
              "version_minor": 0,
              "model_id": "cd2a341f5bc34f44b1f48aaf81ac5db0"
            }
          },
          "metadata": {}
        },
        {
          "output_type": "display_data",
          "data": {
            "text/plain": [
              "Downloading config.json:   0%|          | 0.00/467 [00:00<?, ?B/s]"
            ],
            "application/vnd.jupyter.widget-view+json": {
              "version_major": 2,
              "version_minor": 0,
              "model_id": "5e4547ea5f7d4277a8b22e8c576f72d9"
            }
          },
          "metadata": {}
        },
        {
          "output_type": "display_data",
          "data": {
            "text/plain": [
              "Downloading vocab.txt:   0%|          | 0.00/257k [00:00<?, ?B/s]"
            ],
            "application/vnd.jupyter.widget-view+json": {
              "version_major": 2,
              "version_minor": 0,
              "model_id": "9c5a7f93f4d244de875256c92c622e2e"
            }
          },
          "metadata": {}
        }
      ]
    },
    {
      "cell_type": "code",
      "source": [
        "# model = AutoModelForQuestionAnswering.from_pretrained(args.model_name)\n",
        "# device = torch.device('cuda' if torch.cuda.is_available() else 'cpu')\n",
        "\n",
        "model = AutoModelForQuestionAnswering.from_pretrained(args.model_name)\n",
        "# model.to(device)"
      ],
      "metadata": {
        "colab": {
          "base_uri": "https://localhost:8080/",
          "referenced_widgets": [
            "bba0a3ca5aab48d08f9d1501120cb786",
            "c3fa3cf2e48a4db1abd058b105c28d28",
            "0a28977e420b43369ec1d9c8ec8abfba",
            "e8c0dfdf8158496e83ac2ff4c7fa93e7",
            "5634ffb0cb1545b0894e808b44285ed5",
            "c31e1700edf14ac8bfd484fbd4fdee15",
            "b5963150aab44aa7baff3305671aaa7d",
            "82c2b6b2b46244739c9c0dd3528319e9",
            "b03655341d404fedb1e02dce96e0115b",
            "420f9378e98844e9a1d6d5e43167b777",
            "540f6f00923743dfb9565b56b76af0e6"
          ],
          "height": 161
        },
        "id": "TwrkLSHm6S03",
        "outputId": "8b5d22cf-1a2f-4928-e994-206ba3357c57"
      },
      "execution_count": null,
      "outputs": [
        {
          "output_type": "display_data",
          "data": {
            "text/plain": [
              "Downloading pytorch_model.bin:   0%|          | 0.00/431M [00:00<?, ?B/s]"
            ],
            "application/vnd.jupyter.widget-view+json": {
              "version_major": 2,
              "version_minor": 0,
              "model_id": "bba0a3ca5aab48d08f9d1501120cb786"
            }
          },
          "metadata": {}
        },
        {
          "output_type": "stream",
          "name": "stderr",
          "text": [
            "Some weights of the model checkpoint at monologg/koelectra-base-v3-discriminator were not used when initializing ElectraForQuestionAnswering: ['discriminator_predictions.dense_prediction.bias', 'discriminator_predictions.dense_prediction.weight', 'discriminator_predictions.dense.bias', 'discriminator_predictions.dense.weight']\n",
            "- This IS expected if you are initializing ElectraForQuestionAnswering from the checkpoint of a model trained on another task or with another architecture (e.g. initializing a BertForSequenceClassification model from a BertForPreTraining model).\n",
            "- This IS NOT expected if you are initializing ElectraForQuestionAnswering from the checkpoint of a model that you expect to be exactly identical (initializing a BertForSequenceClassification model from a BertForSequenceClassification model).\n",
            "Some weights of ElectraForQuestionAnswering were not initialized from the model checkpoint at monologg/koelectra-base-v3-discriminator and are newly initialized: ['qa_outputs.bias', 'qa_outputs.weight']\n",
            "You should probably TRAIN this model on a down-stream task to be able to use it for predictions and inference.\n"
          ]
        }
      ]
    },
    {
      "cell_type": "code",
      "source": [
        "model.cuda();"
      ],
      "metadata": {
        "id": "t4k-xdigxc6o"
      },
      "execution_count": null,
      "outputs": []
    },
    {
      "cell_type": "code",
      "source": [
        "optimizer = torch.optim.AdamW(model.parameters(), lr=args.learning_rate)"
      ],
      "metadata": {
        "id": "NU9AYq1w6SyA"
      },
      "execution_count": null,
      "outputs": []
    },
    {
      "cell_type": "markdown",
      "source": [
        "# Preprocessing"
      ],
      "metadata": {
        "id": "7YsE844EzZXL"
      }
    },
    {
      "cell_type": "markdown",
      "source": [
        "## KoMRC"
      ],
      "metadata": {
        "id": "jK2rosIMzcfx"
      }
    },
    {
      "cell_type": "code",
      "source": [
        "from typing import List, Tuple, Dict, Any\n",
        "import json\n",
        "import random\n",
        "import copy\n",
        "\n",
        "class KoMRC:\n",
        "    def __init__(self, data, indices: List[Tuple[int, int, int]]):\n",
        "        self._data = data\n",
        "        self._indices = indices\n",
        "\n",
        "    # Json을 불러오는 메소드\n",
        "    @classmethod\n",
        "    def load(cls, file_path: str):\n",
        "        with open(file_path, 'r', encoding='utf-8') as fd:\n",
        "            data = json.load(fd)\n",
        "\n",
        "        indices = []\n",
        "        for d_id, document in enumerate(data['data']):\n",
        "            for p_id, paragraph in enumerate(document['paragraphs']):\n",
        "                for q_id, _ in enumerate(paragraph['qas']):\n",
        "                    indices.append((d_id, p_id, q_id))\n",
        "        \n",
        "        return cls(data, indices)\n",
        "\n",
        "##################################################################\n",
        "    # 데이터 셋을 잘라내는 메소드\n",
        "    @classmethod\n",
        "    def split(cls, dataset, train_raio: float=.8,test_ratio: float=.5, seed=42):\n",
        "        indices = list(dataset._indices)\n",
        "        random.seed(seed)\n",
        "        random.shuffle(indices)\n",
        "        train_indices = indices[:int(len(indices) * train_raio)]\n",
        "        split_indices = indices[int(len(indices) * train_raio):]\n",
        "        eval_indices = split_indices[:int(len(split_indices) * test_ratio)]\n",
        "        test_indices = split_indices[int(len(split_indices) * test_ratio):]\n",
        "\n",
        "        return cls(dataset._data, train_indices), cls(dataset._data, eval_indices), cls(dataset._data, test_indices)\n",
        "################################################################################\n",
        "\n",
        "    @classmethod\n",
        "    def extraction(cls, dataset, data_number: int, save=False):\n",
        "        '''\n",
        "        첫 번째 인자 : KoMRC의 인스턴스\n",
        "        두 번째 인자 : 추출할 data 개수 (단, data단위로 추출, indices단위가 아님)\n",
        "        반환값 : KoMRC의 인스턴스\n",
        "        '''\n",
        "        if data_number > len(dataset):\n",
        "            raise Exception(\"입력한 인자가 데이터셋 크기보다 큽니다.\")\n",
        "        else:\n",
        "            data = copy.deepcopy(dataset._data)\n",
        "            data['data'] = random.sample(data['data'], data_number)\n",
        "            indices = []\n",
        "            for d_id, document in enumerate(data['data']):\n",
        "                for p_id, paragraph in enumerate(document['paragraphs']):\n",
        "                    for q_id, _ in enumerate(paragraph['qas']):\n",
        "                        indices.append((d_id, p_id, q_id))\n",
        "            \n",
        "            # 잘라낸 데이터를 저장\n",
        "            if save:\n",
        "                with open(\"cut_result.json\", \"w\") as write_file:\n",
        "                    json.dump(data, write_file, indent=4)\n",
        "        \n",
        "        return cls(data, indices)\n",
        "\n",
        "    def __add__(self, other) :\n",
        "        data = copy.deepcopy(self._data)\n",
        "        data['data'] = self._data['data'] + other._data['data']\n",
        "        indices = []\n",
        "        for d_id, document in enumerate(data['data']):\n",
        "            for p_id, paragraph in enumerate(document['paragraphs']):\n",
        "                for q_id, _ in enumerate(paragraph['qas']):\n",
        "                    indices.append((d_id, p_id, q_id))\n",
        "        return KoMRC(data, indices)\n",
        "    \n",
        "\n",
        "    def __getitem__(self, index: int) -> Dict[str, Any]:\n",
        "        d_id, p_id, q_id = self._indices[index]\n",
        "        paragraph = self._data['data'][d_id]['paragraphs'][p_id]\n",
        "\n",
        "        context = paragraph['context']\n",
        "        qa = paragraph['qas'][q_id]\n",
        "\n",
        "        guid = qa['guid']\n",
        "        question = qa['question']\n",
        "        answers = qa['answers']\n",
        "\n",
        "\n",
        "        return {\n",
        "            'guid': guid,\n",
        "            'context': context,\n",
        "            'question': question,\n",
        "            'answers': answers\n",
        "        }\n",
        "\n",
        "    def __len__(self) -> int:\n",
        "        return len(self._indices)\n",
        "    "
      ],
      "metadata": {
        "id": "lv6rOlvK6SsA"
      },
      "execution_count": null,
      "outputs": []
    },
    {
      "cell_type": "code",
      "source": [
        "dataset1 = KoMRC.load(train_file) # train json 불러오고\n",
        "dataset2 = KoMRC.load(add_train_rev_file) # 사전에 형식을 train.json 파일과 똑같이 만들어 놓은 TL_span_extraction2.json 파일을 불러오고\n",
        "dataset2 = KoMRC.extraction(dataset2, int(len(dataset1)*.3))\n",
        "dataset = dataset1 + dataset2\n",
        "\n",
        "print(len(dataset1))\n",
        "print(len(dataset2))\n",
        "print(len(dataset))"
      ],
      "metadata": {
        "colab": {
          "base_uri": "https://localhost:8080/"
        },
        "id": "u1jHsHisZnVS",
        "outputId": "25a0be21-9f81-4a00-ed8e-4403a6259e21"
      },
      "execution_count": null,
      "outputs": [
        {
          "output_type": "stream",
          "name": "stdout",
          "text": [
            "12037\n",
            "4444\n",
            "16481\n"
          ]
        }
      ]
    },
    {
      "cell_type": "code",
      "source": [
        "from pprint import pprint\n",
        "dataset = KoMRC.load(train_file)\n",
        "pprint(dataset[0])"
      ],
      "metadata": {
        "colab": {
          "base_uri": "https://localhost:8080/"
        },
        "id": "o00y79zp6SmP",
        "outputId": "bff59967-1b86-4d8d-e53d-78c26b6d67ec"
      },
      "execution_count": null,
      "outputs": [
        {
          "output_type": "stream",
          "name": "stdout",
          "text": [
            "{'answers': [{'answer_start': 478, 'text': '한 달가량'},\n",
            "             {'answer_start': 478, 'text': '한 달'}],\n",
            " 'context': '올여름 장마가 17일 제주도에서 시작됐다. 서울 등 중부지방은 예년보다 사나흘 정도 늦은 이달 말께 장마가 시작될 '\n",
            "            '전망이다.17일 기상청에 따르면 제주도 남쪽 먼바다에 있는 장마전선의 영향으로 이날 제주도 산간 및 내륙지역에 '\n",
            "            '호우주의보가 내려지면서 곳곳에 100㎜에 육박하는 많은 비가 내렸다. 제주의 장마는 평년보다 2~3일, 지난해보다는 '\n",
            "            '하루 일찍 시작됐다. 장마는 고온다습한 북태평양 기단과 한랭 습윤한 오호츠크해 기단이 만나 형성되는 장마전선에서 '\n",
            "            '내리는 비를 뜻한다.장마전선은 18일 제주도 먼 남쪽 해상으로 내려갔다가 20일께 다시 북상해 전남 남해안까지 영향을 '\n",
            "            '줄 것으로 보인다. 이에 따라 20~21일 남부지방에도 예년보다 사흘 정도 장마가 일찍 찾아올 전망이다. 그러나 '\n",
            "            '장마전선을 밀어올리는 북태평양 고기압 세력이 약해 서울 등 중부지방은 평년보다 사나흘가량 늦은 이달 말부터 장마가 '\n",
            "            '시작될 것이라는 게 기상청의 설명이다. 장마전선은 이후 한 달가량 한반도 중남부를 오르내리며 곳곳에 비를 뿌릴 '\n",
            "            '전망이다. 최근 30년간 평균치에 따르면 중부지방의 장마 시작일은 6월24~25일이었으며 장마기간은 32일, '\n",
            "            '강수일수는 17.2일이었다.기상청은 올해 장마기간의 평균 강수량이 350~400㎜로 평년과 비슷하거나 적을 것으로 '\n",
            "            '내다봤다. 브라질 월드컵 한국과 러시아의 경기가 열리는 18일 오전 서울은 대체로 구름이 많이 끼지만 비는 오지 않을 '\n",
            "            '것으로 예상돼 거리 응원에는 지장이 없을 전망이다.',\n",
            " 'guid': '798db07f0b9046759deed9d4a35ce31e',\n",
            " 'question': '북태평양 기단과 오호츠크해 기단이 만나 국내에 머무르는 기간은?'}\n"
          ]
        }
      ]
    },
    {
      "cell_type": "markdown",
      "source": [
        "## TokenizedKoMRC"
      ],
      "metadata": {
        "id": "MVHnXRQFzewi"
      }
    },
    {
      "cell_type": "code",
      "source": [
        "from typing import Generator\n",
        "class TokenizedKoMRC(KoMRC):\n",
        "    def __init__(self, data, indices: List[Tuple[int, int, int]]) -> None:\n",
        "        super().__init__(data, indices)\n",
        "        self._tokenizer  = tokenizer\n",
        "\n",
        "    \n",
        "    def _tokenize_with_position(self, sentence: str) -> List[Tuple[str, Tuple[int, int]]]:\n",
        "        position = 0\n",
        "        tokens = []\n",
        "        sentence_tokens = []\n",
        "\n",
        "        for word in sentence.split(): \n",
        "            if '[UNK]' in tokenizer.tokenize(word):\n",
        "                sentence_tokens.append(word)\n",
        "            else:\n",
        "                sentence_tokens += tokenizer.tokenize(word)\n",
        "        \n",
        "        for morph in sentence_tokens:\n",
        "            if len(morph) > 2:\n",
        "                if morph[:2] == '##':\n",
        "                    morph = morph[2:]\n",
        "\n",
        "            position = sentence.find(morph, position)\n",
        "            tokens.append((morph, (position, position + len(morph)))) # morps의 시작 위치, 형태소의 길이 만큼을 더하면 그것이 캐릭터의 끝 위치.\n",
        "            position += len(morph) # 포지션 업데이트 \n",
        "        \n",
        "        return tokens\n",
        "    \n",
        "    def __getitem__(self, index: int) -> Dict[str, Any]:\n",
        "        sample = super().__getitem__(index)\n",
        "        # sample = {'guid': guid, 'context': context, 'question': question, 'answers': answers}\n",
        "\n",
        "        context, position = zip(*self._tokenize_with_position(sample['context']))\n",
        "        context, position = list(context), list(position)\n",
        "\n",
        "        question = self._tokenizer.tokenize(sample['question'])\n",
        "\n",
        "        if sample['answers'] is not None:\n",
        "            answers = []\n",
        "            # 추가된 코드\n",
        "            local_shortest_answer_len = 200; local_shortest_answer_idx = 0\n",
        "            for i, answer in enumerate(sample['answers']):\n",
        "                if len(answer['text'])<local_shortest_answer_len:\n",
        "                  local_shortest_answer_len = len(answer['text'])\n",
        "                  local_shortest_answer_idx=i\n",
        "            answer=sample['answers'][local_shortest_answer_idx]\n",
        "            for start, (position_start, position_end) in enumerate(position):\n",
        "                if position_start <= answer['answer_start'] < position_end:\n",
        "                    break\n",
        "            # else:\n",
        "            #     print(context, answer)\n",
        "            #     # print(answer['guid'])\n",
        "            #     # print(answer['answer_start'])\n",
        "            #     raise ValueError(\"No mathced start position\")\n",
        "\n",
        "            target = ''.join(answer['text'].split(' '))\n",
        "            source = ''\n",
        "            for end, morph in enumerate(context[start:], start):\n",
        "                source += morph\n",
        "                if target in source:\n",
        "                    break\n",
        "            # else:\n",
        "            #     print(context, answer)\n",
        "            #     # print(answers['guid'])\n",
        "            #     # print(answers['answer_start'])\n",
        "            #     raise ValueError(\"No Matched end position\")\n",
        "\n",
        "            answers.append({'start': start, 'end': end})\n",
        "            answer_text = sample['answers'][0]['text']\n",
        "\n",
        "        else:\n",
        "            answers = None\n",
        "            answer_text = None\n",
        "        \n",
        "        return {\n",
        "            'guid': sample['guid'],\n",
        "            'context_original': sample['context'],\n",
        "            'context_position': position,\n",
        "            'question_original': sample['question'],\n",
        "            'context': context,\n",
        "            'question': question,\n",
        "            'answers': answers,\n",
        "            'answers_text': answer_text\n",
        "        }"
      ],
      "metadata": {
        "id": "VuqJH9kQ6Sgs"
      },
      "execution_count": null,
      "outputs": []
    },
    {
      "cell_type": "code",
      "source": [
        "dataset = TokenizedKoMRC.load(train_file)\n",
        "train_dataset, dev_dataset, stest_dataset = TokenizedKoMRC.split(dataset)\n",
        "print(\"Number of Samples:\", len(dataset))\n",
        "print(\"Number of Train Samples:\", len(train_dataset))\n",
        "print(\"Number of Dev Samples:\", len(dev_dataset))\n",
        "print(dev_dataset[0])"
      ],
      "metadata": {
        "colab": {
          "base_uri": "https://localhost:8080/"
        },
        "id": "w6-apmdL6SdY",
        "outputId": "8bf8dfed-d5f1-44fd-da21-cfbea8df85bc"
      },
      "execution_count": null,
      "outputs": [
        {
          "output_type": "stream",
          "name": "stdout",
          "text": [
            "Number of Samples: 12037\n",
            "Number of Train Samples: 9629\n",
            "Number of Dev Samples: 1204\n",
            "{'guid': 'e8a80bfc972b46589c28846b8c12b395', 'context_original': '디즈니 애니메이션 ‘겨울왕국’이 개봉 17일 만에 국내 역대 애니메이션 흥행 기록을 갈아치웠다. 2일 영화진흥위원회 영화관입장권통합전산망에 따르면 ‘겨울왕국’은 전날까지 544만명의 관객을 모아 ‘쿵푸팬더 2’(506만명)를 제치고 역대 애니메이션 흥행 신기록을 세웠다. 흥행 속도도 빨랐다. ‘겨울왕국’은 개봉 4일 만에 100만 관객을 돌파했고 9일 만에 200만, 11일 만에 300만 관객을 넘었다. 영화가 히트하면서 오리지널사운드트랙(OST) 앨범 ‘프로즌’(FROZEN)도 덩달아 인기다. 타이틀곡 ‘렛 잇 고’(Let it Go)는 벅스뮤직 일간 음원차트, 멜론의 실시간 차트에서 1위를 차지하는 등 각종 국내 음원차트에서 상위권에 올랐다. 이 영화를 수입·배급하는 소니 픽처스 릴리징 코리아는 ‘겨울왕국’이 조만간 뮤지컬 영화 최고 흥행 기록을 보유한 ‘레미제라블’(591만명)마저 넘어설 것으로 보고 있다. ‘겨울왕국’은 동화나라 왕국에 사는 마법을 가진 언니와 밝고 용감한 동생 간의 자매애를 다뤘다.', 'context_position': [(0, 3), (4, 9), (10, 11), (11, 13), (13, 14), (14, 15), (15, 16), (16, 17), (18, 20), (21, 23), (23, 24), (25, 26), (26, 27), (28, 30), (31, 33), (34, 39), (40, 42), (43, 45), (45, 46), (47, 49), (49, 50), (50, 51), (51, 52), (52, 53), (54, 55), (55, 56), (57, 59), (59, 61), (61, 64), (65, 68), (68, 69), (69, 70), (70, 71), (71, 72), (72, 73), (73, 74), (74, 75), (75, 76), (76, 77), (78, 80), (80, 81), (82, 83), (83, 85), (85, 86), (86, 87), (87, 88), (88, 89), (90, 92), (92, 93), (93, 94), (95, 97), (97, 98), (98, 99), (99, 100), (100, 101), (102, 104), (104, 105), (106, 108), (109, 110), (110, 111), (111, 112), (112, 113), (113, 114), (115, 116), (116, 117), (117, 118), (118, 120), (120, 121), (121, 122), (122, 123), (123, 124), (124, 125), (126, 128), (128, 129), (130, 132), (133, 138), (139, 141), (142, 144), (144, 145), (145, 146), (147, 149), (149, 150), (150, 151), (152, 154), (155, 157), (157, 158), (159, 161), (161, 162), (162, 163), (164, 165), (165, 167), (167, 168), (168, 169), (169, 170), (170, 171), (172, 174), (175, 176), (176, 177), (178, 179), (179, 180), (181, 184), (184, 185), (186, 188), (188, 189), (190, 192), (192, 193), (193, 194), (195, 196), (196, 197), (198, 199), (199, 200), (201, 204), (204, 205), (205, 206), (207, 209), (209, 210), (211, 212), (212, 213), (214, 217), (217, 218), (219, 221), (221, 222), (223, 224), (224, 225), (225, 226), (226, 227), (228, 230), (230, 231), (232, 234), (234, 236), (236, 237), (238, 242), (242, 243), (243, 245), (245, 247), (247, 248), (248, 251), (251, 252), (253, 255), (256, 257), (257, 259), (259, 260), (260, 261), (261, 262), (262, 264), (264, 265), (265, 266), (266, 268), (268, 269), (269, 270), (271, 273), (273, 274), (275, 277), (277, 278), (278, 279), (280, 283), (283, 284), (285, 286), (286, 287), (288, 289), (290, 291), (291, 292), (292, 293), (293, 295), (295, 296), (297, 299), (300, 302), (302, 303), (303, 304), (305, 307), (307, 308), (308, 309), (310, 312), (313, 315), (315, 316), (316, 317), (317, 318), (319, 321), (321, 322), (323, 326), (327, 329), (329, 330), (330, 331), (332, 333), (333, 334), (334, 335), (336, 338), (338, 339), (339, 340), (341, 342), (343, 345), (346, 348), (349, 351), (351, 352), (352, 353), (353, 354), (354, 355), (356, 359), (359, 360), (361, 363), (363, 364), (364, 365), (366, 367), (368, 370), (370, 371), (372, 374), (374, 375), (375, 377), (377, 378), (378, 379), (380, 382), (383, 384), (384, 385), (385, 386), (387, 389), (389, 390), (391, 394), (394, 395), (396, 397), (397, 399), (399, 400), (400, 401), (401, 402), (402, 403), (404, 407), (408, 411), (412, 414), (415, 417), (418, 420), (421, 423), (423, 424), (425, 427), (427, 428), (429, 430), (430, 432), (432, 433), (433, 434), (434, 435), (435, 436), (436, 437), (437, 439), (439, 440), (440, 441), (441, 442), (442, 443), (443, 445), (446, 449), (450, 451), (451, 453), (454, 456), (457, 458), (458, 459), (459, 460), (461, 462), (462, 464), (464, 465), (465, 466), (466, 467), (467, 468), (469, 471), (471, 473), (474, 476), (476, 477), (478, 479), (479, 480), (481, 483), (483, 484), (485, 487), (488, 490), (490, 491), (492, 493), (493, 494), (495, 498), (499, 501), (502, 504), (505, 507), (507, 508), (508, 509), (510, 512), (512, 513), (513, 514)], 'question_original': \"겨울왕국' 개봉 이전까지 누적 관객수가 가장 많았던 애니메이션은?\", 'context': ['디즈니', '애니메이션', '‘', '겨울', '왕', '국', '’', '이', '개봉', '17', '일', '만', '에', '국내', '역대', '애니메이션', '흥행', '기록', '을', '갈아', '치', '웠', '다', '.', '2', '일', '영화', '진흥', '위원회', '영화관', '입', '장', '권', '통', '합', '전', '산', '망', '에', '따르', '면', '‘', '겨울', '왕', '국', '’', '은', '전날', '까', '지', '54', '4', '만', '명', '의', '관객', '을', '모아', '‘', '쿵', '푸', '팬', '더', '2', '’', '(', '50', '6', '만', '명', ')', '를', '제치', '고', '역대', '애니메이션', '흥행', '신기', '록', '을', '세웠', '다', '.', '흥행', '속도', '도', '빨랐', '다', '.', '‘', '겨울', '왕', '국', '’', '은', '개봉', '4', '일', '만', '에', '100', '만', '관객', '을', '돌파', '했', '고', '9', '일', '만', '에', '200', '만', ',', '11', '일', '만', '에', '300', '만', '관객', '을', '넘', '었', '다', '.', '영화', '가', '히트', '하면', '서', '오리지널', '사', '운드', '트랙', '(', 'OST', ')', '앨범', '‘', '프로', '즌', '’', '(', 'FR', 'O', 'Z', 'EN', ')', '도', '덩달', '아', '인기', '다', '.', '타이틀', '곡', '‘', '렛', '잇', '고', '’', '(', 'Le', 't', 'it', 'Go', ')', '는', '벅스', '뮤', '직', '일간', '음원', '차', '트', ',', '멜론', '의', '실시간', '차트', '에', '서', '1', '위', '를', '차지', '하', '는', '등', '각종', '국내', '음원', '차', '트', '에', '서', '상위권', '에', '올랐', '다', '.', '이', '영화', '를', '수입', '·', '배급', '하', '는', '소니', '픽', '처', '스', '릴리', '징', '코리아', '는', '‘', '겨울', '왕', '국', '’', '이', '조만간', '뮤지컬', '영화', '최고', '흥행', '기록', '을', '보유', '한', '‘', '레미', '제', '라', '블', '’', '(', '59', '1', '만', '명', ')', '마저', '넘어설', '것', '으로', '보고', '있', '다', '.', '‘', '겨울', '왕', '국', '’', '은', '동화', '나라', '왕국', '에', '사', '는', '마법', '을', '가진', '언니', '와', '밝', '고', '용감한', '동생', '간의', '자매', '애', '를', '다뤘', '다', '.'], 'question': ['겨울', '##왕', '##국', \"'\", '개봉', '이전', '##까', '##지', '누적', '관객', '##수', '##가', '가장', '많', '##았', '##던', '애니메이션', '##은', '?'], 'answers': [{'start': 59, 'end': 63}], 'answers_text': '‘쿵푸팬더 2’'}\n"
          ]
        }
      ]
    },
    {
      "cell_type": "markdown",
      "source": [
        "## Indexer"
      ],
      "metadata": {
        "id": "sBOrg-3DziHa"
      }
    },
    {
      "cell_type": "code",
      "source": [
        "class Indexer:\n",
        "    def __init__(self, vocabs: List[str], max_length: int=args.max_length):\n",
        "        self.max_length = args.max_length\n",
        "        self.vocabs = vocabs\n",
        "\n",
        "    @property\n",
        "    def vocab_size(self):\n",
        "        return len(self.vocabs)\n",
        "    @property\n",
        "    def pad_id(self):\n",
        "        return tokenizer.vocab['[PAD]']\n",
        "    @property\n",
        "    def unk_id(self):\n",
        "        return tokenizer.vocab['[UNK]']\n",
        "    @property\n",
        "    def cls_id(self):\n",
        "        return tokenizer.vocab['[CLS]']\n",
        "    @property\n",
        "    def sep_id(self):\n",
        "        return tokenizer.vocab['[SEP]']\n",
        "\n",
        "\n",
        "    def sample2ids(self, sample: Dict[str, Any],) -> Dict[str, Any]:\n",
        "        context = [tokenizer.convert_tokens_to_ids(token) for token in sample['context']]\n",
        "        question = [tokenizer.convert_tokens_to_ids(token) for token in sample['question']]\n",
        "\n",
        "        context = context[:self.max_length-len(question)-3]             # Truncate context\n",
        "        \n",
        "        input_ids = [self.cls_id] + question + [self.sep_id] + context + [self.sep_id]\n",
        "        token_type_ids = [0] * (len(question) + 1) + [1] * (len(context) + 2)\n",
        "\n",
        "        if sample['answers'] is not None:\n",
        "            answer = sample['answers'][0]\n",
        "            start = min(len(question) + 2 + answer['start'], self.max_length - 1)\n",
        "            end = min(len(question) + 2 + answer['end'], self.max_length - 1)\n",
        "        else:\n",
        "            start = None\n",
        "            end = None\n",
        "\n",
        "        return {\n",
        "            'guid': sample['guid'],\n",
        "            'context': sample['context_original'],\n",
        "            'question': sample['question_original'],\n",
        "            'position': sample['context_position'],\n",
        "            'input_ids': input_ids,\n",
        "            'token_type_ids': token_type_ids,\n",
        "            'start': start,\n",
        "            'end': end,\n",
        "            'answers_text': sample['answers_text']\n",
        "        }"
      ],
      "metadata": {
        "id": "8FItPUYs6SaV"
      },
      "execution_count": null,
      "outputs": []
    },
    {
      "cell_type": "code",
      "source": [
        "indexer = Indexer(list(tokenizer.vocab.keys()))\n",
        "print(indexer.sample2ids(dev_dataset[0]))"
      ],
      "metadata": {
        "colab": {
          "base_uri": "https://localhost:8080/"
        },
        "id": "of4ObMG26SWi",
        "outputId": "90fef76f-2e12-41cc-b47f-deb36e21b6e8"
      },
      "execution_count": null,
      "outputs": [
        {
          "output_type": "stream",
          "name": "stdout",
          "text": [
            "{'guid': 'e8a80bfc972b46589c28846b8c12b395', 'context': '디즈니 애니메이션 ‘겨울왕국’이 개봉 17일 만에 국내 역대 애니메이션 흥행 기록을 갈아치웠다. 2일 영화진흥위원회 영화관입장권통합전산망에 따르면 ‘겨울왕국’은 전날까지 544만명의 관객을 모아 ‘쿵푸팬더 2’(506만명)를 제치고 역대 애니메이션 흥행 신기록을 세웠다. 흥행 속도도 빨랐다. ‘겨울왕국’은 개봉 4일 만에 100만 관객을 돌파했고 9일 만에 200만, 11일 만에 300만 관객을 넘었다. 영화가 히트하면서 오리지널사운드트랙(OST) 앨범 ‘프로즌’(FROZEN)도 덩달아 인기다. 타이틀곡 ‘렛 잇 고’(Let it Go)는 벅스뮤직 일간 음원차트, 멜론의 실시간 차트에서 1위를 차지하는 등 각종 국내 음원차트에서 상위권에 올랐다. 이 영화를 수입·배급하는 소니 픽처스 릴리징 코리아는 ‘겨울왕국’이 조만간 뮤지컬 영화 최고 흥행 기록을 보유한 ‘레미제라블’(591만명)마저 넘어설 것으로 보고 있다. ‘겨울왕국’은 동화나라 왕국에 사는 마법을 가진 언니와 밝고 용감한 동생 간의 자매애를 다뤘다.', 'question': \"겨울왕국' 개봉 이전까지 누적 관객수가 가장 많았던 애니메이션은?\", 'position': [(0, 3), (4, 9), (10, 11), (11, 13), (13, 14), (14, 15), (15, 16), (16, 17), (18, 20), (21, 23), (23, 24), (25, 26), (26, 27), (28, 30), (31, 33), (34, 39), (40, 42), (43, 45), (45, 46), (47, 49), (49, 50), (50, 51), (51, 52), (52, 53), (54, 55), (55, 56), (57, 59), (59, 61), (61, 64), (65, 68), (68, 69), (69, 70), (70, 71), (71, 72), (72, 73), (73, 74), (74, 75), (75, 76), (76, 77), (78, 80), (80, 81), (82, 83), (83, 85), (85, 86), (86, 87), (87, 88), (88, 89), (90, 92), (92, 93), (93, 94), (95, 97), (97, 98), (98, 99), (99, 100), (100, 101), (102, 104), (104, 105), (106, 108), (109, 110), (110, 111), (111, 112), (112, 113), (113, 114), (115, 116), (116, 117), (117, 118), (118, 120), (120, 121), (121, 122), (122, 123), (123, 124), (124, 125), (126, 128), (128, 129), (130, 132), (133, 138), (139, 141), (142, 144), (144, 145), (145, 146), (147, 149), (149, 150), (150, 151), (152, 154), (155, 157), (157, 158), (159, 161), (161, 162), (162, 163), (164, 165), (165, 167), (167, 168), (168, 169), (169, 170), (170, 171), (172, 174), (175, 176), (176, 177), (178, 179), (179, 180), (181, 184), (184, 185), (186, 188), (188, 189), (190, 192), (192, 193), (193, 194), (195, 196), (196, 197), (198, 199), (199, 200), (201, 204), (204, 205), (205, 206), (207, 209), (209, 210), (211, 212), (212, 213), (214, 217), (217, 218), (219, 221), (221, 222), (223, 224), (224, 225), (225, 226), (226, 227), (228, 230), (230, 231), (232, 234), (234, 236), (236, 237), (238, 242), (242, 243), (243, 245), (245, 247), (247, 248), (248, 251), (251, 252), (253, 255), (256, 257), (257, 259), (259, 260), (260, 261), (261, 262), (262, 264), (264, 265), (265, 266), (266, 268), (268, 269), (269, 270), (271, 273), (273, 274), (275, 277), (277, 278), (278, 279), (280, 283), (283, 284), (285, 286), (286, 287), (288, 289), (290, 291), (291, 292), (292, 293), (293, 295), (295, 296), (297, 299), (300, 302), (302, 303), (303, 304), (305, 307), (307, 308), (308, 309), (310, 312), (313, 315), (315, 316), (316, 317), (317, 318), (319, 321), (321, 322), (323, 326), (327, 329), (329, 330), (330, 331), (332, 333), (333, 334), (334, 335), (336, 338), (338, 339), (339, 340), (341, 342), (343, 345), (346, 348), (349, 351), (351, 352), (352, 353), (353, 354), (354, 355), (356, 359), (359, 360), (361, 363), (363, 364), (364, 365), (366, 367), (368, 370), (370, 371), (372, 374), (374, 375), (375, 377), (377, 378), (378, 379), (380, 382), (383, 384), (384, 385), (385, 386), (387, 389), (389, 390), (391, 394), (394, 395), (396, 397), (397, 399), (399, 400), (400, 401), (401, 402), (402, 403), (404, 407), (408, 411), (412, 414), (415, 417), (418, 420), (421, 423), (423, 424), (425, 427), (427, 428), (429, 430), (430, 432), (432, 433), (433, 434), (434, 435), (435, 436), (436, 437), (437, 439), (439, 440), (440, 441), (441, 442), (442, 443), (443, 445), (446, 449), (450, 451), (451, 453), (454, 456), (457, 458), (458, 459), (459, 460), (461, 462), (462, 464), (464, 465), (465, 466), (466, 467), (467, 468), (469, 471), (471, 473), (474, 476), (476, 477), (478, 479), (479, 480), (481, 483), (483, 484), (485, 487), (488, 490), (490, 491), (492, 493), (493, 494), (495, 498), (499, 501), (502, 504), (505, 507), (507, 508), (508, 509), (510, 512), (512, 513), (513, 514)], 'input_ids': [2, 7500, 4464, 4113, 11, 9470, 6766, 4149, 4200, 10582, 8438, 4141, 4070, 6275, 2631, 4494, 4820, 9750, 4112, 35, 3, 15357, 9750, 144, 7500, 3177, 2102, 145, 3240, 9470, 6478, 3243, 2630, 3130, 6359, 8696, 9750, 11354, 6385, 3232, 12393, 3496, 3205, 2348, 18, 22, 3243, 6394, 10108, 6540, 16844, 3247, 3263, 2114, 3643, 3761, 3280, 2887, 2638, 3130, 6384, 2672, 144, 7500, 3177, 2102, 145, 3231, 8088, 2147, 3348, 8498, 24, 2630, 2675, 3238, 8438, 3232, 8039, 144, 3568, 3731, 3691, 2373, 22, 145, 12, 6526, 26, 2630, 2675, 13, 2613, 14091, 2075, 8696, 9750, 11354, 10180, 2576, 3232, 9866, 2348, 18, 11354, 7163, 2396, 27821, 2348, 18, 144, 7500, 3177, 2102, 145, 3231, 9470, 24, 3243, 2630, 3130, 6399, 2630, 8438, 3232, 8693, 3771, 2075, 29, 3243, 2630, 3130, 6250, 2630, 16, 6307, 3243, 2630, 3130, 7506, 2630, 8438, 3232, 2273, 3125, 2348, 18, 6394, 2010, 10879, 1, 2914, 14649, 2884, 1, 11716, 12, 20661, 13, 8608, 144, 6316, 3343, 145, 12, 22241, 51, 62, 1, 13, 2396, 19821, 3079, 6886, 2348, 18, 10107, 2076, 144, 2562, 3248, 2075, 145, 12, 18603, 88, 15787, 21065, 13, 2331, 15718, 2710, 3349, 11674, 13734, 3420, 3663, 16, 21676, 3238, 10460, 11995, 3130, 2914, 21, 3213, 2613, 6838, 3755, 2331, 2446, 7121, 6359, 13734, 3420, 3663, 3130, 2914, 20526, 3130, 7690, 2348, 18, 3240, 6394, 2613, 7094, 107, 16799, 3755, 2331, 12317, 3748, 3443, 2999, 21532, 3356, 8432, 2331, 144, 7500, 3177, 2102, 145, 3240, 11027, 9563, 6394, 6557, 11354, 6385, 3232, 7283, 3757, 144, 21230, 3288, 2523, 2817, 145, 12, 8672, 21, 2630, 2675, 13, 7927, 21950, 2048, 6214, 6880, 3249, 2348, 18, 144, 7500, 3177, 2102, 145, 3231, 10586, 6364, 12017, 3130, 2884, 2331, 8456, 3232, 6971, 8727, 3170, 2736, 2075, 23150, 8266, 7014, 11712, 3093, 2613, 23495, 2348, 18, 3], 'token_type_ids': [0, 0, 0, 0, 0, 0, 0, 0, 0, 0, 0, 0, 0, 0, 0, 0, 0, 0, 0, 0, 1, 1, 1, 1, 1, 1, 1, 1, 1, 1, 1, 1, 1, 1, 1, 1, 1, 1, 1, 1, 1, 1, 1, 1, 1, 1, 1, 1, 1, 1, 1, 1, 1, 1, 1, 1, 1, 1, 1, 1, 1, 1, 1, 1, 1, 1, 1, 1, 1, 1, 1, 1, 1, 1, 1, 1, 1, 1, 1, 1, 1, 1, 1, 1, 1, 1, 1, 1, 1, 1, 1, 1, 1, 1, 1, 1, 1, 1, 1, 1, 1, 1, 1, 1, 1, 1, 1, 1, 1, 1, 1, 1, 1, 1, 1, 1, 1, 1, 1, 1, 1, 1, 1, 1, 1, 1, 1, 1, 1, 1, 1, 1, 1, 1, 1, 1, 1, 1, 1, 1, 1, 1, 1, 1, 1, 1, 1, 1, 1, 1, 1, 1, 1, 1, 1, 1, 1, 1, 1, 1, 1, 1, 1, 1, 1, 1, 1, 1, 1, 1, 1, 1, 1, 1, 1, 1, 1, 1, 1, 1, 1, 1, 1, 1, 1, 1, 1, 1, 1, 1, 1, 1, 1, 1, 1, 1, 1, 1, 1, 1, 1, 1, 1, 1, 1, 1, 1, 1, 1, 1, 1, 1, 1, 1, 1, 1, 1, 1, 1, 1, 1, 1, 1, 1, 1, 1, 1, 1, 1, 1, 1, 1, 1, 1, 1, 1, 1, 1, 1, 1, 1, 1, 1, 1, 1, 1, 1, 1, 1, 1, 1, 1, 1, 1, 1, 1, 1, 1, 1, 1, 1, 1, 1, 1, 1, 1, 1, 1, 1, 1, 1, 1, 1, 1, 1, 1, 1, 1, 1, 1, 1, 1, 1, 1, 1, 1, 1, 1, 1, 1, 1, 1, 1, 1, 1, 1, 1, 1, 1, 1, 1, 1, 1], 'start': 80, 'end': 84, 'answers_text': '‘쿵푸팬더 2’'}\n"
          ]
        }
      ]
    },
    {
      "cell_type": "markdown",
      "source": [
        "## IndexerWrappedDataset"
      ],
      "metadata": {
        "id": "MHzjZ7Cuzv_2"
      }
    },
    {
      "cell_type": "code",
      "source": [
        "class IndexerWrappedDataset:\n",
        "    def __init__(self, dataset: TokenizedKoMRC, indexer: Indexer) -> None:\n",
        "        self._dataset = dataset\n",
        "        self._indexer = indexer\n",
        "\n",
        "    def __len__(self) -> int:\n",
        "        return len(self._dataset)\n",
        "    \n",
        "    def __getitem__(self, index: int) -> Dict[str, Any]:\n",
        "        sample = self._indexer.sample2ids(self._dataset[index])\n",
        "        sample['attention_mask'] = [1] * len(sample['input_ids'])\n",
        "\n",
        "        return sample"
      ],
      "metadata": {
        "id": "tM4xJWc46SS5"
      },
      "execution_count": null,
      "outputs": []
    },
    {
      "cell_type": "code",
      "source": [
        "indexed_train_dataset = IndexerWrappedDataset(train_dataset, indexer)\n",
        "indexed_dev_dataset = IndexerWrappedDataset(dev_dataset, indexer)\n",
        "indexed_stest_dataset = IndexerWrappedDataset(stest_dataset, indexer)\n",
        "\n",
        "sample = indexed_dev_dataset[0]\n",
        "# print(sample['input_ids'], sample['attention_mask'], sample['token_type_ids'], sample['start'], sample['end'])\n",
        "for i in sample:\n",
        "  print(i,sample[i])"
      ],
      "metadata": {
        "colab": {
          "base_uri": "https://localhost:8080/"
        },
        "id": "MguT2II-6SPU",
        "outputId": "18c63236-8161-4720-ee58-9461087d1e7a"
      },
      "execution_count": null,
      "outputs": [
        {
          "output_type": "stream",
          "name": "stdout",
          "text": [
            "guid e8a80bfc972b46589c28846b8c12b395\n",
            "context 디즈니 애니메이션 ‘겨울왕국’이 개봉 17일 만에 국내 역대 애니메이션 흥행 기록을 갈아치웠다. 2일 영화진흥위원회 영화관입장권통합전산망에 따르면 ‘겨울왕국’은 전날까지 544만명의 관객을 모아 ‘쿵푸팬더 2’(506만명)를 제치고 역대 애니메이션 흥행 신기록을 세웠다. 흥행 속도도 빨랐다. ‘겨울왕국’은 개봉 4일 만에 100만 관객을 돌파했고 9일 만에 200만, 11일 만에 300만 관객을 넘었다. 영화가 히트하면서 오리지널사운드트랙(OST) 앨범 ‘프로즌’(FROZEN)도 덩달아 인기다. 타이틀곡 ‘렛 잇 고’(Let it Go)는 벅스뮤직 일간 음원차트, 멜론의 실시간 차트에서 1위를 차지하는 등 각종 국내 음원차트에서 상위권에 올랐다. 이 영화를 수입·배급하는 소니 픽처스 릴리징 코리아는 ‘겨울왕국’이 조만간 뮤지컬 영화 최고 흥행 기록을 보유한 ‘레미제라블’(591만명)마저 넘어설 것으로 보고 있다. ‘겨울왕국’은 동화나라 왕국에 사는 마법을 가진 언니와 밝고 용감한 동생 간의 자매애를 다뤘다.\n",
            "question 겨울왕국' 개봉 이전까지 누적 관객수가 가장 많았던 애니메이션은?\n",
            "position [(0, 3), (4, 9), (10, 11), (11, 13), (13, 14), (14, 15), (15, 16), (16, 17), (18, 20), (21, 23), (23, 24), (25, 26), (26, 27), (28, 30), (31, 33), (34, 39), (40, 42), (43, 45), (45, 46), (47, 49), (49, 50), (50, 51), (51, 52), (52, 53), (54, 55), (55, 56), (57, 59), (59, 61), (61, 64), (65, 68), (68, 69), (69, 70), (70, 71), (71, 72), (72, 73), (73, 74), (74, 75), (75, 76), (76, 77), (78, 80), (80, 81), (82, 83), (83, 85), (85, 86), (86, 87), (87, 88), (88, 89), (90, 92), (92, 93), (93, 94), (95, 97), (97, 98), (98, 99), (99, 100), (100, 101), (102, 104), (104, 105), (106, 108), (109, 110), (110, 111), (111, 112), (112, 113), (113, 114), (115, 116), (116, 117), (117, 118), (118, 120), (120, 121), (121, 122), (122, 123), (123, 124), (124, 125), (126, 128), (128, 129), (130, 132), (133, 138), (139, 141), (142, 144), (144, 145), (145, 146), (147, 149), (149, 150), (150, 151), (152, 154), (155, 157), (157, 158), (159, 161), (161, 162), (162, 163), (164, 165), (165, 167), (167, 168), (168, 169), (169, 170), (170, 171), (172, 174), (175, 176), (176, 177), (178, 179), (179, 180), (181, 184), (184, 185), (186, 188), (188, 189), (190, 192), (192, 193), (193, 194), (195, 196), (196, 197), (198, 199), (199, 200), (201, 204), (204, 205), (205, 206), (207, 209), (209, 210), (211, 212), (212, 213), (214, 217), (217, 218), (219, 221), (221, 222), (223, 224), (224, 225), (225, 226), (226, 227), (228, 230), (230, 231), (232, 234), (234, 236), (236, 237), (238, 242), (242, 243), (243, 245), (245, 247), (247, 248), (248, 251), (251, 252), (253, 255), (256, 257), (257, 259), (259, 260), (260, 261), (261, 262), (262, 264), (264, 265), (265, 266), (266, 268), (268, 269), (269, 270), (271, 273), (273, 274), (275, 277), (277, 278), (278, 279), (280, 283), (283, 284), (285, 286), (286, 287), (288, 289), (290, 291), (291, 292), (292, 293), (293, 295), (295, 296), (297, 299), (300, 302), (302, 303), (303, 304), (305, 307), (307, 308), (308, 309), (310, 312), (313, 315), (315, 316), (316, 317), (317, 318), (319, 321), (321, 322), (323, 326), (327, 329), (329, 330), (330, 331), (332, 333), (333, 334), (334, 335), (336, 338), (338, 339), (339, 340), (341, 342), (343, 345), (346, 348), (349, 351), (351, 352), (352, 353), (353, 354), (354, 355), (356, 359), (359, 360), (361, 363), (363, 364), (364, 365), (366, 367), (368, 370), (370, 371), (372, 374), (374, 375), (375, 377), (377, 378), (378, 379), (380, 382), (383, 384), (384, 385), (385, 386), (387, 389), (389, 390), (391, 394), (394, 395), (396, 397), (397, 399), (399, 400), (400, 401), (401, 402), (402, 403), (404, 407), (408, 411), (412, 414), (415, 417), (418, 420), (421, 423), (423, 424), (425, 427), (427, 428), (429, 430), (430, 432), (432, 433), (433, 434), (434, 435), (435, 436), (436, 437), (437, 439), (439, 440), (440, 441), (441, 442), (442, 443), (443, 445), (446, 449), (450, 451), (451, 453), (454, 456), (457, 458), (458, 459), (459, 460), (461, 462), (462, 464), (464, 465), (465, 466), (466, 467), (467, 468), (469, 471), (471, 473), (474, 476), (476, 477), (478, 479), (479, 480), (481, 483), (483, 484), (485, 487), (488, 490), (490, 491), (492, 493), (493, 494), (495, 498), (499, 501), (502, 504), (505, 507), (507, 508), (508, 509), (510, 512), (512, 513), (513, 514)]\n",
            "input_ids [2, 7500, 4464, 4113, 11, 9470, 6766, 4149, 4200, 10582, 8438, 4141, 4070, 6275, 2631, 4494, 4820, 9750, 4112, 35, 3, 15357, 9750, 144, 7500, 3177, 2102, 145, 3240, 9470, 6478, 3243, 2630, 3130, 6359, 8696, 9750, 11354, 6385, 3232, 12393, 3496, 3205, 2348, 18, 22, 3243, 6394, 10108, 6540, 16844, 3247, 3263, 2114, 3643, 3761, 3280, 2887, 2638, 3130, 6384, 2672, 144, 7500, 3177, 2102, 145, 3231, 8088, 2147, 3348, 8498, 24, 2630, 2675, 3238, 8438, 3232, 8039, 144, 3568, 3731, 3691, 2373, 22, 145, 12, 6526, 26, 2630, 2675, 13, 2613, 14091, 2075, 8696, 9750, 11354, 10180, 2576, 3232, 9866, 2348, 18, 11354, 7163, 2396, 27821, 2348, 18, 144, 7500, 3177, 2102, 145, 3231, 9470, 24, 3243, 2630, 3130, 6399, 2630, 8438, 3232, 8693, 3771, 2075, 29, 3243, 2630, 3130, 6250, 2630, 16, 6307, 3243, 2630, 3130, 7506, 2630, 8438, 3232, 2273, 3125, 2348, 18, 6394, 2010, 10879, 1, 2914, 14649, 2884, 1, 11716, 12, 20661, 13, 8608, 144, 6316, 3343, 145, 12, 22241, 51, 62, 1, 13, 2396, 19821, 3079, 6886, 2348, 18, 10107, 2076, 144, 2562, 3248, 2075, 145, 12, 18603, 88, 15787, 21065, 13, 2331, 15718, 2710, 3349, 11674, 13734, 3420, 3663, 16, 21676, 3238, 10460, 11995, 3130, 2914, 21, 3213, 2613, 6838, 3755, 2331, 2446, 7121, 6359, 13734, 3420, 3663, 3130, 2914, 20526, 3130, 7690, 2348, 18, 3240, 6394, 2613, 7094, 107, 16799, 3755, 2331, 12317, 3748, 3443, 2999, 21532, 3356, 8432, 2331, 144, 7500, 3177, 2102, 145, 3240, 11027, 9563, 6394, 6557, 11354, 6385, 3232, 7283, 3757, 144, 21230, 3288, 2523, 2817, 145, 12, 8672, 21, 2630, 2675, 13, 7927, 21950, 2048, 6214, 6880, 3249, 2348, 18, 144, 7500, 3177, 2102, 145, 3231, 10586, 6364, 12017, 3130, 2884, 2331, 8456, 3232, 6971, 8727, 3170, 2736, 2075, 23150, 8266, 7014, 11712, 3093, 2613, 23495, 2348, 18, 3]\n",
            "token_type_ids [0, 0, 0, 0, 0, 0, 0, 0, 0, 0, 0, 0, 0, 0, 0, 0, 0, 0, 0, 0, 1, 1, 1, 1, 1, 1, 1, 1, 1, 1, 1, 1, 1, 1, 1, 1, 1, 1, 1, 1, 1, 1, 1, 1, 1, 1, 1, 1, 1, 1, 1, 1, 1, 1, 1, 1, 1, 1, 1, 1, 1, 1, 1, 1, 1, 1, 1, 1, 1, 1, 1, 1, 1, 1, 1, 1, 1, 1, 1, 1, 1, 1, 1, 1, 1, 1, 1, 1, 1, 1, 1, 1, 1, 1, 1, 1, 1, 1, 1, 1, 1, 1, 1, 1, 1, 1, 1, 1, 1, 1, 1, 1, 1, 1, 1, 1, 1, 1, 1, 1, 1, 1, 1, 1, 1, 1, 1, 1, 1, 1, 1, 1, 1, 1, 1, 1, 1, 1, 1, 1, 1, 1, 1, 1, 1, 1, 1, 1, 1, 1, 1, 1, 1, 1, 1, 1, 1, 1, 1, 1, 1, 1, 1, 1, 1, 1, 1, 1, 1, 1, 1, 1, 1, 1, 1, 1, 1, 1, 1, 1, 1, 1, 1, 1, 1, 1, 1, 1, 1, 1, 1, 1, 1, 1, 1, 1, 1, 1, 1, 1, 1, 1, 1, 1, 1, 1, 1, 1, 1, 1, 1, 1, 1, 1, 1, 1, 1, 1, 1, 1, 1, 1, 1, 1, 1, 1, 1, 1, 1, 1, 1, 1, 1, 1, 1, 1, 1, 1, 1, 1, 1, 1, 1, 1, 1, 1, 1, 1, 1, 1, 1, 1, 1, 1, 1, 1, 1, 1, 1, 1, 1, 1, 1, 1, 1, 1, 1, 1, 1, 1, 1, 1, 1, 1, 1, 1, 1, 1, 1, 1, 1, 1, 1, 1, 1, 1, 1, 1, 1, 1, 1, 1, 1, 1, 1, 1, 1, 1, 1, 1, 1, 1, 1]\n",
            "start 80\n",
            "end 84\n",
            "answers_text ‘쿵푸팬더 2’\n",
            "attention_mask [1, 1, 1, 1, 1, 1, 1, 1, 1, 1, 1, 1, 1, 1, 1, 1, 1, 1, 1, 1, 1, 1, 1, 1, 1, 1, 1, 1, 1, 1, 1, 1, 1, 1, 1, 1, 1, 1, 1, 1, 1, 1, 1, 1, 1, 1, 1, 1, 1, 1, 1, 1, 1, 1, 1, 1, 1, 1, 1, 1, 1, 1, 1, 1, 1, 1, 1, 1, 1, 1, 1, 1, 1, 1, 1, 1, 1, 1, 1, 1, 1, 1, 1, 1, 1, 1, 1, 1, 1, 1, 1, 1, 1, 1, 1, 1, 1, 1, 1, 1, 1, 1, 1, 1, 1, 1, 1, 1, 1, 1, 1, 1, 1, 1, 1, 1, 1, 1, 1, 1, 1, 1, 1, 1, 1, 1, 1, 1, 1, 1, 1, 1, 1, 1, 1, 1, 1, 1, 1, 1, 1, 1, 1, 1, 1, 1, 1, 1, 1, 1, 1, 1, 1, 1, 1, 1, 1, 1, 1, 1, 1, 1, 1, 1, 1, 1, 1, 1, 1, 1, 1, 1, 1, 1, 1, 1, 1, 1, 1, 1, 1, 1, 1, 1, 1, 1, 1, 1, 1, 1, 1, 1, 1, 1, 1, 1, 1, 1, 1, 1, 1, 1, 1, 1, 1, 1, 1, 1, 1, 1, 1, 1, 1, 1, 1, 1, 1, 1, 1, 1, 1, 1, 1, 1, 1, 1, 1, 1, 1, 1, 1, 1, 1, 1, 1, 1, 1, 1, 1, 1, 1, 1, 1, 1, 1, 1, 1, 1, 1, 1, 1, 1, 1, 1, 1, 1, 1, 1, 1, 1, 1, 1, 1, 1, 1, 1, 1, 1, 1, 1, 1, 1, 1, 1, 1, 1, 1, 1, 1, 1, 1, 1, 1, 1, 1, 1, 1, 1, 1, 1, 1, 1, 1, 1, 1, 1, 1, 1, 1, 1, 1, 1, 1]\n"
          ]
        }
      ]
    },
    {
      "cell_type": "code",
      "source": [
        "with open(\"data/indexed_train_dataset_koel.json\", \"w\", encoding='utf-8') as write_file:\n",
        "    json.dump(list(indexed_train_dataset), write_file, indent=4)\n",
        "\n",
        "with open(\"data/indexed_dev_dataset_koel.json\", \"w\", encoding='utf-8') as write_file:\n",
        "    json.dump(list(indexed_dev_dataset), write_file, indent=4)\n",
        "\n",
        "with open(\"data/indexed_stest_dataset_koel.json\", \"w\", encoding='utf-8') as write_file:\n",
        "    json.dump(list(indexed_stest_dataset), write_file, indent=4)\n",
        "\n",
        "# with torch.no_grad(), open('data/indexed_train_dataset_koel.csv', 'w') as fd:\n",
        "#     writer = csv.writer(fd)\n",
        "#     writer.writerow(['guid', 'context', 'question', 'position','input_ids', 'token_type_ids','start', 'end', 'answers_text', 'attention_mask'])\n",
        "\n",
        "# with torch.no_grad(), open('data/indexed_dev_dataset_koel.csv', 'w') as fd:\n",
        "#     writer = csv.writer(fd)\n",
        "#     writer.writerow(['guid', 'context', 'question', 'position','input_ids', 'token_type_ids','start', 'end', 'answers_text', 'attention_mask'])"
      ],
      "metadata": {
        "id": "eRkbk48PW2DS"
      },
      "execution_count": null,
      "outputs": []
    },
    {
      "cell_type": "markdown",
      "source": [
        "## Collator"
      ],
      "metadata": {
        "id": "QtJNKsM0z1rG"
      }
    },
    {
      "cell_type": "code",
      "source": [
        "import torch\n",
        "from torch.nn.utils.rnn import pad_sequence\n",
        "\n",
        "class Collator:\n",
        "    def __init__(self, indexer: Indexer) -> None:\n",
        "        self._indexer = indexer\n",
        "\n",
        "    def __call__(self, samples: List[Dict[str, Any]]) -> Dict[str, torch.Tensor]:\n",
        "        samples = { \n",
        "            key: [sample[key] for sample in samples] # 키 단위로 묶기\n",
        "            for key in samples[0]\n",
        "        }\n",
        "\n",
        "        for key in 'start', 'end': # start랑 end는 숫자로 들어가서 패딩 필요 없음\n",
        "            if samples[key][0] is None:\n",
        "                samples[key] = None\n",
        "            else:\n",
        "                samples[key] = torch.tensor(samples[key], dtype=torch.long)\n",
        "        for key in 'input_ids', 'attention_mask', 'token_type_ids':\n",
        "            samples[key] = pad_sequence( # 패딩\n",
        "                [torch.tensor(sample, dtype=torch.long) for sample in samples[key]],\n",
        "                batch_first=True, padding_value=self._indexer.pad_id\n",
        "            )\n",
        "        return samples\n"
      ],
      "metadata": {
        "id": "Mo_pwtx26SMM"
      },
      "execution_count": null,
      "outputs": []
    },
    {
      "cell_type": "code",
      "source": [
        "collator = Collator(indexer)\n",
        "train_loader = DataLoader(indexed_train_dataset,\n",
        "                          batch_size = args.batch_size.train // args.accumulate,\n",
        "                          shuffle = True,\n",
        "                          collate_fn = collator,\n",
        "                          num_workers = 2)\n",
        "\n",
        "dev_loader = DataLoader(indexed_dev_dataset,\n",
        "                        batch_size = args.batch_size.eval,\n",
        "                        shuffle = False,\n",
        "                        collate_fn = collator,\n",
        "                        num_workers = 2)\n"
      ],
      "metadata": {
        "id": "nl1D5oGw6SJI"
      },
      "execution_count": null,
      "outputs": []
    },
    {
      "cell_type": "code",
      "source": [
        "batch = next(iter(dev_loader))\n",
        "print(batch['input_ids'].shape)\n",
        "print(batch['input_ids'])\n",
        "print(list(batch.keys()))\n",
        "# [CLS]는 2"
      ],
      "metadata": {
        "colab": {
          "base_uri": "https://localhost:8080/"
        },
        "id": "4uwV2VMH6SF6",
        "outputId": "307b38ab-bde6-4c8a-d687-4b57ca41135e"
      },
      "execution_count": null,
      "outputs": [
        {
          "output_type": "stream",
          "name": "stdout",
          "text": [
            "torch.Size([4, 512])\n",
            "tensor([[    2,  3223,  4043,  ...,   145,  2404,     3],\n",
            "        [    2,  6631,  7568,  ...,     0,     0,     0],\n",
            "        [    2,  3757,  7524,  ...,     0,     0,     0],\n",
            "        [    2, 24213,  8579,  ...,  8579,  3231,     3]])\n",
            "['guid', 'context', 'question', 'position', 'input_ids', 'token_type_ids', 'start', 'end', 'answers_text', 'attention_mask']\n"
          ]
        }
      ]
    },
    {
      "cell_type": "code",
      "source": [
        "import os\n",
        "os.environ['CUDA_LAUNCH_BLOCKING'] = \"1\"\n",
        "os.environ[\"CUDA_VISIBLE_DEVICES\"] = \"0\""
      ],
      "metadata": {
        "id": "vy8EecdhBx60"
      },
      "execution_count": null,
      "outputs": []
    },
    {
      "cell_type": "code",
      "source": [
        "import gc\n",
        "gc.collect()\n",
        "torch.cuda.empty_cache()"
      ],
      "metadata": {
        "id": "IMdNrQjpy5MW"
      },
      "execution_count": null,
      "outputs": []
    },
    {
      "cell_type": "code",
      "source": [],
      "metadata": {
        "id": "HTmXnMuoWSNg"
      },
      "execution_count": null,
      "outputs": []
    },
    {
      "cell_type": "code",
      "source": [
        "os.environ[\"TOKENIZERS_PARALLELISM\"] = \"false\""
      ],
      "metadata": {
        "id": "_3XStbSKy5Dk"
      },
      "execution_count": null,
      "outputs": []
    },
    {
      "cell_type": "markdown",
      "source": [
        "## Edit Distance"
      ],
      "metadata": {
        "id": "iGOaJi88WQam"
      }
    },
    {
      "cell_type": "code",
      "source": [
        "# 출처: https://lsh424.tistory.com/78\n",
        "def edit_distance(s:str, t: str):\n",
        "    m = len(s)+1\n",
        "    n = len(t)+1\n",
        "    D = [[0]*m for _ in range(n)]\n",
        "    D[0][0] = 0\n",
        "    \n",
        "    for i in range(1,m):\n",
        "        D[0][i] = D[0][i-1] + 1\n",
        "    \n",
        "    for j in range(1,n):\n",
        "        D[j][0] = D[j-1][0] + 1\n",
        "    \n",
        "    for i in range(1,n):\n",
        "        for j in range(1,m):\n",
        "            cost = 0\n",
        "\n",
        "            if s[j-1] != t[i-1]:\n",
        "                cost = 1\n",
        "            \n",
        "            D[i][j] = min(D[i][j-1] + 1,D[i-1][j] + 1, D[i-1][j-1] + cost)\n",
        "    \n",
        "    return D[n-1][m-1]"
      ],
      "metadata": {
        "id": "jBU4MChPWSnv"
      },
      "execution_count": null,
      "outputs": []
    },
    {
      "cell_type": "code",
      "source": [
        "class EarlyStopping:\n",
        "    \"\"\"주어진 patience 이후로 validation loss가 개선되지 않으면 학습을 조기 중지\"\"\"\n",
        "    def __init__(self, patience=args.patience, verbose=False, delta=0, path='checkpoint.pt'):\n",
        "        \"\"\"\n",
        "        Args:\n",
        "            patience (int): validation loss가 개선된 후 기다리는 기간\n",
        "                            Default: 7\n",
        "            verbose (bool): True일 경우 각 validation loss의 개선 사항 메세지 출력\n",
        "                            Default: False\n",
        "            delta (float): 개선되었다고 인정되는 monitered quantity의 최소 변화\n",
        "                            Default: 0\n",
        "            path (str): checkpoint저장 경로\n",
        "                            Default: 'checkpoint.pt'\n",
        "        \"\"\"\n",
        "        self.patience = patience\n",
        "        self.verbose = verbose\n",
        "        self.counter = 0\n",
        "        self.best_score = None\n",
        "        self.early_stop = False\n",
        "        self.val_loss_min = np.Inf\n",
        "        self.delta = delta\n",
        "        self.path = path\n",
        "\n",
        "    def __call__(self, val_loss, model):\n",
        "\n",
        "        score = -val_loss\n",
        "\n",
        "        if self.best_score is None:\n",
        "            self.best_score = score\n",
        "            # self.save_checkpoint(val_loss, model)\n",
        "        elif score < self.best_score + self.delta:\n",
        "            self.counter += 1\n",
        "            print(f'EarlyStopping counter: {self.counter} out of {self.patience}')\n",
        "            if self.counter >= self.patience:\n",
        "                self.early_stop = True\n",
        "        else:\n",
        "            self.best_score = score\n",
        "            # self.save_checkpoint(val_loss, model)\n",
        "            self.counter = 0\n"
      ],
      "metadata": {
        "id": "1gw2rLMivVSO"
      },
      "execution_count": null,
      "outputs": []
    },
    {
      "cell_type": "markdown",
      "source": [
        "# Train"
      ],
      "metadata": {
        "id": "A5jbTZVPz65c"
      }
    },
    {
      "cell_type": "code",
      "source": [
        "train_losses = []\n",
        "dev_losses = []\n",
        "\n",
        "train_loss = []\n",
        "dev_loss = []\n",
        "\n",
        "loss_accumulate = 0.\n",
        "\n",
        "early_stopping = EarlyStopping(patience=args.patience, verbose=True)\n",
        "\n",
        "best_model = [-1, int(1e9)]\n",
        "\n",
        "for epoch in range(args.epochs):\n",
        "    print(\"Epoch\", epoch, '===============================================================================================================')\n",
        "\n",
        "    # Train    \n",
        "    progress_bar_train = tqdm(train_loader, desc='Train')\n",
        "    for i, batch in enumerate(progress_bar_train, 1):\n",
        "        del batch['guid'], batch['context'], batch['question'], batch['position'], batch['answers_text']\n",
        "        batch = {key: value.cuda() for key, value in batch.items()}\n",
        "        \n",
        "        start = batch.pop('start')\n",
        "        end = batch.pop('end')\n",
        "        \n",
        "        output = model(**batch)\n",
        "\n",
        "        start_logits = output.start_logits\n",
        "        end_logits = output.end_logits\n",
        "        \n",
        "        loss = (F.cross_entropy(start_logits, start) + F.cross_entropy(end_logits, end)) / args.accumulate\n",
        "        loss.backward()\n",
        "\n",
        "        loss_accumulate += loss.item()\n",
        "\n",
        "        del batch, start, end, start_logits, end_logits, loss\n",
        "        \n",
        "        if i % args.accumulate == 0:\n",
        "            # clip_grad_norm_(model.parameters(), max_norm=1.)\n",
        "            optimizer.step()\n",
        "            optimizer.zero_grad(set_to_none=False)\n",
        "\n",
        "            train_loss.append(loss_accumulate)\n",
        "            progress_bar_train.set_description(f\"Train - Loss: {loss_accumulate:.3f}\")\n",
        "            loss_accumulate = 0.\n",
        "        else:\n",
        "            continue\n",
        "\n",
        "        if i % int(len(train_loader) / (args.accumulate * 25)) == 0:\n",
        "            # Evaluation\n",
        "            for batch in dev_loader:\n",
        "                del batch['guid'], batch['context'], batch['question'], batch['position'], batch['answers_text']\n",
        "                batch = {key: value.cuda() for key, value in batch.items()}\n",
        "\n",
        "                start = batch.pop('start')\n",
        "                end = batch.pop('end')\n",
        "                \n",
        "                model.eval()\n",
        "                with torch.no_grad():\n",
        "                    output = model(**batch)\n",
        "                \n",
        "                    start_logits = output.start_logits\n",
        "                    end_logits = output.end_logits\n",
        "                model.train()\n",
        "\n",
        "                loss = F.cross_entropy(start_logits, start) + F.cross_entropy(end_logits, end)\n",
        "\n",
        "                dev_loss.append(loss.item())\n",
        "\n",
        "                del batch, start, end, start_logits, end_logits, loss\n",
        "\n",
        "            train_losses.append(mean(train_loss))\n",
        "            dev_losses.append(mean(dev_loss))\n",
        "            train_loss = []\n",
        "            dev_loss = []\n",
        "\n",
        "            \n",
        "            if dev_losses[-1] <= best_model[1]:\n",
        "                best_model = (epoch, dev_losses[-1])\n",
        "                model.save_pretrained(f'models/{args.NAME}_{epoch}')\n",
        "                # print(f'model saved!!\\nvalid_loss: {dev_losses[-1]}')\n",
        "                \n",
        "            if do_wandb: wandb.log({\"train_loss\": train_losses[-1], \"valid_loss\": dev_losses[-1]})\n",
        "            \n",
        "            early_stopping(dev_losses[-1], model)\n",
        "\n",
        "            if early_stopping.early_stop :\n",
        "                print(\"Early stopping\")\n",
        "                break \n",
        "\n",
        "    print(f\"Train Loss: {train_losses[-1]:.3f}\")\n",
        "    print(f\"Valid Loss: {dev_losses[-1]:.3f}\")\n",
        "    print('- - - - - - - - - - - - - - - - - - - - - - - - - - - - - - - - - - - - - - - - - - -')"
      ],
      "metadata": {
        "id": "ytjv1WQN6SC_",
        "colab": {
          "base_uri": "https://localhost:8080/",
          "height": 1000,
          "referenced_widgets": [
            "cfe5ed9587ef446c8ad04de6f27afdc2",
            "e858aefa806e4206b01065c7f6883fb8",
            "d004386b24b444b899252deb9e796b46",
            "d015381ddc2c4650ad4ab8900416d18a",
            "5dfc978c345b4e09b8dbe696be78aced",
            "2accd23f7ecf45538b66e28d57a2bbe5",
            "b115968703844ab5a7e50175f924ade2",
            "2bb34b58460f42849b49943162543ff1",
            "ab42c17dfc704b1da529af1bfc35aecf",
            "76686f21926b45f1967943687bbe7f32",
            "0bd2315f5c0840e083dce6b773a457e8",
            "2e60725466234f6aaf8c21f861989e22",
            "cca2abe427a3444f8e07414624eba461",
            "519a35cf11aa4df491d9ff7de0fb4ebd",
            "c3a6ec638ec044328d4406b732411a0b",
            "d12ca3eb6c1347e4acd0ae113adb50fd",
            "7246e4eade664ee38079d74e65bbb72f",
            "27f79223b8b742989565e25345a1d643",
            "90e71bdece224d32a75107d419741faf",
            "23b2863b3d4a474cbf98ff13d6f1e932",
            "443f269d935549b681fd1776937a707b",
            "4864c56b1dcf41aeb7a7441cb6870dce",
            "b7dc408c674442aeb55157675dea718d",
            "94ae38f7a58c47068c9f178dd9f7e01a",
            "bb4d580c87904ee0b069e90e29a23440",
            "03611446008e4da3982692d6f0580c53",
            "26b051eacecb40338a88e05937ce4bce",
            "c3dc7acada7c432188a61b997785e74d",
            "15fc1d55d2fd4be0a9089b2bebf58e2c",
            "2498f0b1748f4619a92db39bbebb54be",
            "7d7fce997d614db5b33cab09ffc6372d",
            "645b0a98c49741acaa47745d71c8c5ce",
            "04bdf1fcb86942eb8e7004de38fae523",
            "0831b4da43604561b812fc46d6eb4437",
            "ff65a79452e04209a081eb2b694ec1b1",
            "d54e6ce5a7b94651bc23ee9b3d459cae",
            "7505868e07bf49248df4596db53920ef",
            "5aece01eb6f74473b129b7b99910a034",
            "4d8675d1dbe74cd59c515bee6fabdaa7",
            "d863b13918a544e79cb5580f76d4407a",
            "d20683f5da284653b2c5533d1f19e190",
            "5873a88e0a754164b167e7623614add8",
            "9271d09ffb8e4c90ab8d0c3f42322d42",
            "26c3ccb0c15a45a4a7ab1f7f308bfab0",
            "928f88512e9d458aac349e9ddfa21608",
            "50369be70dd147a397e39106fc1d7a9a",
            "f1c8e0047a0a4a56b3b9decfc0f73776",
            "2808854d2623459eb97b45be4d0e6c1c",
            "a172fb02f75c4da182f35ff7e293659c",
            "1cd4f2b0c90a4b6c974e3fe8ccba604c",
            "28d24f5332a04c21a59589befd33fe12",
            "02e962eb252d4a119688050907328d97",
            "fed0b4b366eb40ed928c421fe5224016",
            "22907910047247b2b6def536cbe8f769",
            "bc9ab2afd04c455c809ce1cb52c19dcd",
            "03f5f5151e004e7f8c94cce471befebf",
            "045e3233829c44c98de58628474149e0",
            "6a41f3273c4c44769b72adbc0e8a4e9b",
            "823d19c753eb4887a33bf87d4bd781fd",
            "e5c0037e865b42bd9fd07aa6f109154f",
            "91952bbe4043414ea2cb0856c055930f",
            "dd3573523952464e8a22068d2806d426",
            "3032ad026ba04b27837b691ea49b8117",
            "52527767e6da43f9a6c25c5d9cba0ae5",
            "b2164a8edf394a2f9f2a31663f199370",
            "09516624a33243f6911de2bda668f3cd",
            "6b370e66527f4464910fe4a75105dc7e",
            "9cc7449b4cf642eba068aa289fa2d369",
            "5b8debb1fd4742dc81cf2143fd2774a1",
            "80431da407424632850469ce1214d47f",
            "6b24ecf30b5f432caea5f999362963d0",
            "68f633a0098b4dedb57e6c84f6249766",
            "51f1100ae6aa4c7abe780aa1ce6800fa",
            "da961b41961844609c5813e780807f1f",
            "21b0d7cccbb54fa1b4b74a97a6d197be",
            "83b49d307dbe4a87afa78a4edbc3d82b",
            "bd5de27fcdb341ce8b6ca9aafefcd961",
            "9d39960dc4d747f2a69c72db6bce43de",
            "a3092bbdea494837bd6bce445c4cdd9d",
            "c32db8f7e3074f66b786f6021a938432",
            "b62ab9d988c845f898ebb51e2dd70d34",
            "bcb7b82bfa9e4afbad6e833867da0a58",
            "ea43365548b84bfb84851f80781c3ba1",
            "b5f8c5e240e44f3baa83fb4ddb1fb657",
            "888360d9e398462ab1b564c98e860abd",
            "be5d3c53112b470a9b6e5c7cfa1e6147",
            "2f3d9a70d0594f5b9eb00e37bceb26b4",
            "a05962030e524cbcbbe11667529bfec0",
            "2e3680ce0ce74cbca221d670e3573c4d",
            "cb3fcebe74e74cc8878546b5a4b28fcc"
          ]
        },
        "outputId": "32204d61-f60a-4aa7-c6a8-64ab6c5d68de"
      },
      "execution_count": null,
      "outputs": [
        {
          "metadata": {
            "tags": null
          },
          "name": "stdout",
          "output_type": "stream",
          "text": [
            "Epoch 0 ===============================================================================================================\n"
          ]
        },
        {
          "data": {
            "application/vnd.jupyter.widget-view+json": {
              "model_id": "cfe5ed9587ef446c8ad04de6f27afdc2",
              "version_major": 2,
              "version_minor": 0
            },
            "text/plain": [
              "Train:   0%|          | 0/2709 [00:00<?, ?it/s]"
            ]
          },
          "metadata": {},
          "output_type": "display_data"
        },
        {
          "metadata": {
            "tags": null
          },
          "name": "stdout",
          "output_type": "stream",
          "text": [
            "EarlyStopping counter: 1 out of 5\n",
            "EarlyStopping counter: 1 out of 5\n",
            "Train Loss: 4.250\n",
            "Valid Loss: 4.014\n",
            "- - - - - - - - - - - - - - - - - - - - - - - - - - - - - - - - - - - - - - - - - - -\n",
            "Epoch 1 ===============================================================================================================\n"
          ]
        },
        {
          "data": {
            "application/vnd.jupyter.widget-view+json": {
              "model_id": "2e60725466234f6aaf8c21f861989e22",
              "version_major": 2,
              "version_minor": 0
            },
            "text/plain": [
              "Train:   0%|          | 0/2709 [00:00<?, ?it/s]"
            ]
          },
          "metadata": {},
          "output_type": "display_data"
        },
        {
          "metadata": {
            "tags": null
          },
          "name": "stdout",
          "output_type": "stream",
          "text": [
            "EarlyStopping counter: 1 out of 5\n",
            "EarlyStopping counter: 1 out of 5\n",
            "EarlyStopping counter: 2 out of 5\n",
            "EarlyStopping counter: 1 out of 5\n",
            "EarlyStopping counter: 1 out of 5\n",
            "EarlyStopping counter: 2 out of 5\n",
            "EarlyStopping counter: 1 out of 5\n",
            "EarlyStopping counter: 2 out of 5\n",
            "EarlyStopping counter: 1 out of 5\n",
            "EarlyStopping counter: 2 out of 5\n",
            "EarlyStopping counter: 3 out of 5\n",
            "EarlyStopping counter: 1 out of 5\n",
            "EarlyStopping counter: 1 out of 5\n",
            "EarlyStopping counter: 2 out of 5\n",
            "Train Loss: 3.087\n",
            "Valid Loss: 3.072\n",
            "- - - - - - - - - - - - - - - - - - - - - - - - - - - - - - - - - - - - - - - - - - -\n",
            "Epoch 2 ===============================================================================================================\n"
          ]
        },
        {
          "data": {
            "application/vnd.jupyter.widget-view+json": {
              "model_id": "b7dc408c674442aeb55157675dea718d",
              "version_major": 2,
              "version_minor": 0
            },
            "text/plain": [
              "Train:   0%|          | 0/2709 [00:00<?, ?it/s]"
            ]
          },
          "metadata": {},
          "output_type": "display_data"
        },
        {
          "metadata": {
            "tags": null
          },
          "name": "stdout",
          "output_type": "stream",
          "text": [
            "EarlyStopping counter: 1 out of 5\n",
            "EarlyStopping counter: 2 out of 5\n",
            "EarlyStopping counter: 3 out of 5\n",
            "EarlyStopping counter: 4 out of 5\n",
            "EarlyStopping counter: 5 out of 5\n",
            "Early stopping\n",
            "Train Loss: 1.985\n",
            "Valid Loss: 3.315\n",
            "- - - - - - - - - - - - - - - - - - - - - - - - - - - - - - - - - - - - - - - - - - -\n",
            "Epoch 3 ===============================================================================================================\n"
          ]
        },
        {
          "data": {
            "application/vnd.jupyter.widget-view+json": {
              "model_id": "0831b4da43604561b812fc46d6eb4437",
              "version_major": 2,
              "version_minor": 0
            },
            "text/plain": [
              "Train:   0%|          | 0/2709 [00:00<?, ?it/s]"
            ]
          },
          "metadata": {},
          "output_type": "display_data"
        },
        {
          "metadata": {
            "tags": null
          },
          "name": "stdout",
          "output_type": "stream",
          "text": [
            "EarlyStopping counter: 6 out of 5\n",
            "Early stopping\n",
            "Train Loss: 2.046\n",
            "Valid Loss: 3.150\n",
            "- - - - - - - - - - - - - - - - - - - - - - - - - - - - - - - - - - - - - - - - - - -\n",
            "Epoch 4 ===============================================================================================================\n"
          ]
        },
        {
          "data": {
            "application/vnd.jupyter.widget-view+json": {
              "model_id": "ff65a79452e04209a081eb2b694ec1b1",
              "version_major": 2,
              "version_minor": 0
            },
            "text/plain": [
              "Train:   0%|          | 0/2709 [00:00<?, ?it/s]"
            ]
          },
          "metadata": {},
          "output_type": "display_data"
        },
        {
          "metadata": {
            "tags": null
          },
          "name": "stdout",
          "output_type": "stream",
          "text": [
            "EarlyStopping counter: 7 out of 5\n",
            "Early stopping\n",
            "Train Loss: 1.885\n",
            "Valid Loss: 3.155\n",
            "- - - - - - - - - - - - - - - - - - - - - - - - - - - - - - - - - - - - - - - - - - -\n",
            "Epoch 5 ===============================================================================================================\n"
          ]
        },
        {
          "data": {
            "application/vnd.jupyter.widget-view+json": {
              "model_id": "d54e6ce5a7b94651bc23ee9b3d459cae",
              "version_major": 2,
              "version_minor": 0
            },
            "text/plain": [
              "Train:   0%|          | 0/2709 [00:00<?, ?it/s]"
            ]
          },
          "metadata": {},
          "output_type": "display_data"
        },
        {
          "output_type": "stream",
          "name": "stdout",
          "text": [
            "EarlyStopping counter: 8 out of 5\n",
            "Early stopping\n",
            "Train Loss: 2.240\n",
            "Valid Loss: 3.188\n",
            "- - - - - - - - - - - - - - - - - - - - - - - - - - - - - - - - - - - - - - - - - - -\n",
            "Epoch 6 ===============================================================================================================\n"
          ]
        },
        {
          "output_type": "display_data",
          "data": {
            "text/plain": [
              "Train:   0%|          | 0/2709 [00:00<?, ?it/s]"
            ],
            "application/vnd.jupyter.widget-view+json": {
              "version_major": 2,
              "version_minor": 0,
              "model_id": "f1c8e0047a0a4a56b3b9decfc0f73776"
            }
          },
          "metadata": {}
        },
        {
          "output_type": "stream",
          "name": "stdout",
          "text": [
            "EarlyStopping counter: 9 out of 5\n",
            "Early stopping\n",
            "Train Loss: 2.061\n",
            "Valid Loss: 3.182\n",
            "- - - - - - - - - - - - - - - - - - - - - - - - - - - - - - - - - - - - - - - - - - -\n",
            "Epoch 7 ===============================================================================================================\n"
          ]
        },
        {
          "output_type": "display_data",
          "data": {
            "text/plain": [
              "Train:   0%|          | 0/2709 [00:00<?, ?it/s]"
            ],
            "application/vnd.jupyter.widget-view+json": {
              "version_major": 2,
              "version_minor": 0,
              "model_id": "6a41f3273c4c44769b72adbc0e8a4e9b"
            }
          },
          "metadata": {}
        },
        {
          "output_type": "stream",
          "name": "stdout",
          "text": [
            "EarlyStopping counter: 10 out of 5\n",
            "Early stopping\n",
            "Train Loss: 1.858\n",
            "Valid Loss: 3.160\n",
            "- - - - - - - - - - - - - - - - - - - - - - - - - - - - - - - - - - - - - - - - - - -\n",
            "Epoch 8 ===============================================================================================================\n"
          ]
        },
        {
          "output_type": "display_data",
          "data": {
            "text/plain": [
              "Train:   0%|          | 0/2709 [00:00<?, ?it/s]"
            ],
            "application/vnd.jupyter.widget-view+json": {
              "version_major": 2,
              "version_minor": 0,
              "model_id": "5b8debb1fd4742dc81cf2143fd2774a1"
            }
          },
          "metadata": {}
        },
        {
          "output_type": "stream",
          "name": "stdout",
          "text": [
            "EarlyStopping counter: 11 out of 5\n",
            "Early stopping\n",
            "Train Loss: 1.932\n",
            "Valid Loss: 3.150\n",
            "- - - - - - - - - - - - - - - - - - - - - - - - - - - - - - - - - - - - - - - - - - -\n",
            "Epoch 9 ===============================================================================================================\n"
          ]
        },
        {
          "output_type": "display_data",
          "data": {
            "text/plain": [
              "Train:   0%|          | 0/2709 [00:00<?, ?it/s]"
            ],
            "application/vnd.jupyter.widget-view+json": {
              "version_major": 2,
              "version_minor": 0,
              "model_id": "c32db8f7e3074f66b786f6021a938432"
            }
          },
          "metadata": {}
        },
        {
          "output_type": "stream",
          "name": "stdout",
          "text": [
            "EarlyStopping counter: 12 out of 5\n",
            "Early stopping\n",
            "Train Loss: 1.810\n",
            "Valid Loss: 3.224\n",
            "- - - - - - - - - - - - - - - - - - - - - - - - - - - - - - - - - - - - - - - - - - -\n"
          ]
        }
      ]
    },
    {
      "cell_type": "code",
      "source": [
        "len(dev_losses)"
      ],
      "metadata": {
        "id": "HGkxmyyiJ69b",
        "colab": {
          "base_uri": "https://localhost:8080/"
        },
        "outputId": "93bb66b3-46e9-4ca6-aa0d-9019c37194dd"
      },
      "execution_count": null,
      "outputs": [
        {
          "output_type": "execute_result",
          "data": {
            "text/plain": [
              "68"
            ]
          },
          "metadata": {},
          "execution_count": 42
        }
      ]
    },
    {
      "cell_type": "code",
      "source": [
        "import matplotlib.pyplot as plt\n",
        "\n",
        "t = list(range(1, len(dev_losses)+1))\n",
        "plt.plot(t, train_losses, label=\"Train Loss\")\n",
        "plt.plot(t, dev_losses, label=\"Dev Loss\")\n",
        "plt.xlabel(\"Steps\")\n",
        "plt.ylabel(\"Loss\")\n",
        "plt.legend()\n",
        "plt.show()"
      ],
      "metadata": {
        "id": "3aFjb3sC6R_9",
        "colab": {
          "base_uri": "https://localhost:8080/",
          "height": 279
        },
        "outputId": "592a8256-92f5-4cb6-9669-a47e449f28a3"
      },
      "execution_count": null,
      "outputs": [
        {
          "output_type": "display_data",
          "data": {
            "text/plain": [
              "<Figure size 432x288 with 1 Axes>"
            ],
            "image/png": "[encoded data removed]"
          },
          "metadata": {
            "needs_background": "light"
          }
        }
      ]
    },
    {
      "cell_type": "markdown",
      "source": [
        "# Test"
      ],
      "metadata": {
        "id": "IRwnmT6U0Tsm"
      }
    },
    {
      "cell_type": "code",
      "source": [
        "test_dataset = TokenizedKoMRC.load(test_file)\n",
        "indexer_test = Indexer(list(tokenizer.vocab.keys()))\n",
        "indexed_test_dataset = IndexerWrappedDataset(test_dataset, indexer_test)\n",
        "print(\"Number of Test Samples\", len(test_dataset))\n",
        "# print(test_dataset[0])"
      ],
      "metadata": {
        "id": "gThxGJJ-6R5D",
        "colab": {
          "base_uri": "https://localhost:8080/"
        },
        "outputId": "1eefc659-bf0c-4d1c-e91c-30f5e52fcabb"
      },
      "execution_count": null,
      "outputs": [
        {
          "output_type": "stream",
          "name": "stdout",
          "text": [
            "Number of Test Samples 4008\n"
          ]
        }
      ]
    },
    {
      "cell_type": "code",
      "source": [
        "print(best_model[0])\n",
        "print(f'models/{args.NAME}_{best_model[0]}')"
      ],
      "metadata": {
        "id": "kuRvNt65vVgo",
        "colab": {
          "base_uri": "https://localhost:8080/"
        },
        "outputId": "9e449d80-18de-40f2-8139-da939a931b49"
      },
      "execution_count": null,
      "outputs": [
        {
          "output_type": "stream",
          "name": "stdout",
          "text": [
            "1\n",
            "models/koelectra_ep10_lr5e-05_316_1\n"
          ]
        }
      ]
    },
    {
      "cell_type": "code",
      "source": [
        "# 저장된 베스트 모델 가져오기 \n",
        "model = AutoModelForQuestionAnswering.from_pretrained(f'models/{args.NAME}_{best_model[0]}')\n",
        "model.cuda();\n"
      ],
      "metadata": {
        "id": "Z8sRtd-ivVd2"
      },
      "execution_count": null,
      "outputs": []
    },
    {
      "cell_type": "code",
      "source": [
        "for i in indexed_train_dataset[1]:\n",
        "  print(i,':',indexed_train_dataset[1][i])"
      ],
      "metadata": {
        "colab": {
          "base_uri": "https://localhost:8080/"
        },
        "id": "MyabmZl3bmDK",
        "outputId": "e7f33e0e-4038-4084-884f-d62c1d34c6d5"
      },
      "execution_count": null,
      "outputs": [
        {
          "output_type": "stream",
          "name": "stdout",
          "text": [
            "guid : 79f424fd9d404f18895fc9610153b2d7\n",
            "context : 해양지각의 구조는 여러가지 방법을 통하여 직간접적으로 추론할 수 있다. 오피올라이트를 통한 암석 성분의 분석, 관측된 지진파 자료와 암석별 지진파 진행 속도의 비교, 해양저에서의 암석 채집 등의 방법이 사용되며, 물론 직접적인 굴착을 통해 지각 심부의 암석 표본을 얻을 수도 있다. 해양지각은 대륙지각에 비하여 훨씬 단순하며 대체로 다음의 세 층으로 구분될 수 있다.\n",
            "\n",
            "* 1층은 미고결 또는 반 고결된 퇴적물층으로 얇으며, 중앙해령 근처에서는 아예 존재하지 않을 수도 있으나 해구쪽으로 갈수록 두꺼워진다. 대륙 연변부 근처에서는 대륙기원의 퇴적물들이 많아져서 퇴적층의 성분이 변화한다. 해양기원의 퇴적물은 주로 작은 해양생물의의 껍질로 주로 탄산염이나 규산염질인데 반하여 대륙기원의 퇴적물에는 화산재나 저탁류를 통해 운반된 퇴적물이 포함된다.\n",
            "* 2층은 두 층으로 구분된다. 상부의 2A층은 유리질 또는 세립질 현무암의 침상용암으로 이루어져 있는 두께 약 0.5 km의 층이고, 아래의 2B층은 돌러라이트의 암맥으로 이루어진 두께 약 1.5 km의 층이다.\n",
            "* 3층은 지표 아래에서 천천히 식어 이루어진 반려암을 비롯한 초염기성암으로 이루어져 있다. 해양지각 부피의 2/3 이상을 차지하며 두깨는 거의 5 km에 달한다.\n",
            "question : 탄산염과 규산염질로 이루어진 퇴적물은 어디에서 온 것인가?\n",
            "position : [(0, 2), (2, 3), (3, 4), (4, 5), (6, 8), (8, 9), (10, 12), (12, 14), (15, 17), (17, 18), (19, 21), (21, 22), (23, 26), (26, 27), (27, 29), (30, 32), (32, 33), (34, 35), (36, 37), (37, 38), (38, 39), (40, 42), (42, 44), (44, 46), (46, 47), (48, 50), (51, 53), (54, 56), (56, 57), (58, 60), (60, 61), (62, 64), (64, 65), (66, 68), (68, 69), (70, 72), (72, 73), (74, 76), (76, 77), (78, 80), (80, 81), (82, 84), (85, 87), (87, 88), (89, 91), (91, 92), (93, 95), (95, 96), (96, 97), (97, 98), (98, 99), (100, 102), (103, 105), (106, 108), (109, 111), (111, 112), (113, 115), (115, 116), (116, 117), (117, 118), (119, 121), (122, 124), (124, 125), (125, 126), (127, 129), (129, 130), (131, 133), (134, 136), (137, 139), (139, 140), (141, 143), (144, 146), (146, 147), (148, 149), (149, 150), (151, 153), (154, 155), (155, 156), (156, 157), (158, 160), (160, 161), (161, 162), (162, 163), (164, 166), (166, 167), (167, 168), (168, 169), (170, 172), (172, 173), (174, 176), (177, 179), (179, 180), (180, 181), (182, 185), (186, 188), (188, 189), (190, 191), (192, 193), (193, 195), (196, 198), (198, 199), (200, 201), (202, 203), (203, 204), (204, 205), (207, 208), (209, 210), (210, 211), (211, 212), (213, 214), (214, 215), (215, 216), (217, 219), (220, 221), (222, 223), (223, 224), (224, 225), (226, 228), (228, 229), (229, 230), (230, 232), (233, 234), (234, 236), (236, 237), (238, 240), (240, 241), (241, 242), (243, 245), (245, 246), (246, 248), (249, 251), (252, 254), (254, 255), (255, 256), (257, 258), (258, 259), (260, 262), (263, 264), (264, 266), (267, 268), (268, 269), (269, 270), (270, 272), (273, 276), (277, 279), (279, 281), (281, 282), (282, 283), (284, 286), (287, 288), (288, 289), (289, 290), (291, 293), (293, 294), (294, 296), (297, 299), (299, 300), (300, 301), (301, 302), (303, 305), (305, 306), (306, 308), (309, 310), (310, 311), (311, 313), (314, 316), (316, 317), (317, 318), (319, 321), (321, 322), (323, 325), (325, 327), (327, 328), (329, 331), (331, 332), (332, 333), (333, 334), (335, 337), (337, 338), (338, 339), (340, 342), (343, 344), (344, 345), (346, 348), (348, 349), (349, 350), (350, 351), (351, 352), (353, 355), (355, 356), (357, 359), (360, 362), (362, 363), (363, 365), (366, 367), (367, 368), (368, 369), (369, 370), (370, 371), (371, 372), (373, 374), (374, 376), (377, 379), (379, 380), (380, 381), (381, 382), (383, 385), (385, 386), (386, 387), (387, 388), (389, 391), (391, 392), (392, 393), (394, 395), (395, 396), (396, 397), (397, 398), (399, 401), (402, 404), (404, 405), (406, 408), (408, 409), (409, 410), (411, 413), (413, 414), (414, 415), (415, 416), (417, 418), (419, 420), (420, 421), (421, 422), (423, 424), (425, 426), (426, 428), (429, 431), (431, 432), (432, 433), (433, 434), (435, 437), (437, 438), (439, 440), (440, 441), (441, 442), (442, 443), (444, 446), (446, 447), (448, 450), (451, 452), (452, 453), (453, 454), (455, 456), (456, 457), (457, 458), (458, 459), (460, 461), (461, 462), (462, 463), (463, 464), (464, 466), (467, 471), (472, 473), (473, 474), (475, 477), (478, 479), (480, 481), (481, 482), (482, 483), (484, 486), (486, 487), (488, 489), (489, 490), (490, 491), (491, 492), (493, 495), (495, 496), (497, 498), (498, 499), (499, 500), (500, 501), (502, 503), (503, 504), (504, 507), (507, 508), (509, 510), (510, 511), (511, 513), (514, 518), (519, 521), (522, 523), (524, 525), (525, 526), (526, 527), (528, 530), (530, 531), (532, 533), (533, 535), (535, 536), (537, 538), (539, 540), (540, 541), (541, 542), (543, 545), (546, 548), (548, 549), (549, 550), (551, 554), (555, 556), (556, 557), (558, 562), (563, 565), (565, 566), (566, 567), (568, 570), (570, 571), (572, 573), (573, 574), (574, 575), (575, 576), (576, 577), (577, 579), (580, 584), (585, 586), (586, 587), (587, 588), (589, 591), (591, 592), (592, 593), (594, 596), (596, 597), (598, 599), (599, 600), (600, 601), (602, 604), (604, 605), (606, 608), (608, 609), (609, 610), (611, 612), (612, 613), (613, 614), (615, 617), (618, 619), (620, 622), (622, 623), (624, 627), (627, 628)]\n",
            "input_ids : [2, 17669, 4033, 4047, 2123, 4122, 4033, 4152, 4239, 11886, 26436, 4188, 4112, 6769, 4073, 4129, 3160, 2048, 4139, 4070, 35, 3, 7829, 3348, 2011, 3238, 6549, 2331, 6407, 6274, 6472, 3232, 8648, 3138, 28063, 3279, 6214, 18640, 3758, 2967, 3249, 2348, 18, 31118, 6692, 1, 2613, 7484, 24583, 8685, 3238, 6520, 16, 8435, 2412, 9241, 3678, 6812, 3170, 24583, 2773, 9241, 3678, 6355, 7163, 3238, 6894, 16, 7829, 3278, 3130, 2914, 3238, 24583, 27238, 6496, 6472, 3240, 6267, 2411, 2670, 16, 6499, 6493, 3279, 3242, 28010, 3232, 6260, 12749, 18095, 3238, 24583, 14880, 3232, 3118, 3232, 6416, 3249, 2348, 18, 7829, 3348, 2011, 3231, 10050, 3348, 2011, 3130, 10104, 3138, 7342, 7194, 3755, 2670, 10399, 6340, 3238, 2926, 3495, 6214, 8172, 2413, 2967, 3249, 2348, 18, 14, 21, 3495, 3231, 2718, 2075, 2066, 6587, 2733, 2075, 2066, 2412, 26436, 2695, 3495, 6214, 3106, 6305, 16, 6672, 3764, 2572, 8504, 3130, 1, 8148, 6616, 3755, 3348, 3083, 3232, 6416, 3249, 6814, 3764, 2101, 3389, 6214, 9753, 14241, 1, 2348, 18, 10050, 3141, 2772, 2799, 8504, 3130, 1, 10050, 2136, 3201, 3238, 26436, 2695, 9845, 2631, 3079, 13377, 26436, 3495, 3238, 8685, 3240, 6560, 6217, 18, 7829, 2136, 3201, 3238, 26436, 2695, 3231, 7262, 3255, 3231, 7829, 2904, 2695, 3238, 3238, 13094, 2575, 7262, 17669, 3144, 6255, 2123, 2887, 3144, 3351, 3242, 2384, 2733, 9958, 10050, 2136, 3201, 3238, 26436, 2695, 3130, 2331, 14433, 3265, 2236, 3278, 3597, 2604, 2613, 6260, 13473, 2412, 26436, 2695, 3240, 6469, 2412, 2348, 18, 14, 22, 3495, 3231, 2419, 3495, 6214, 8172, 2412, 2348, 18, 17998, 3238, 22, 37, 3495, 3231, 7471, 3351, 6587, 2926, 2625, 3351, 3794, 2690, 3087, 3238, 3501, 2895, 3190, 3087, 6214, 12828, 3249, 2331, 14609, 3103, 20, 18, 25, 8071, 3238, 3495, 3240, 2075, 16, 6966, 3238, 22, 38, 3495, 3231, 2400, 2546, 11167, 3238, 3087, 2643, 6214, 11886, 14609, 3103, 21, 18, 25, 8071, 3238, 3495, 1, 18, 14, 23, 3495, 3231, 9321, 6966, 3130, 2914, 10342, 3009, 3114, 11886, 12587, 3087, 3232, 6744, 3757, 3461, 3144, 2136, 2924, 3087, 6214, 12828, 3249, 2348, 18, 7829, 3348, 2011, 22549, 3238, 22, 19, 23, 6264, 3232, 6838, 3755, 2670, 2419, 2158, 2331, 6576, 25, 8071, 3130, 11228, 18, 3]\n",
            "token_type_ids : [0, 0, 0, 0, 0, 0, 0, 0, 0, 0, 0, 0, 0, 0, 0, 0, 0, 0, 0, 0, 0, 1, 1, 1, 1, 1, 1, 1, 1, 1, 1, 1, 1, 1, 1, 1, 1, 1, 1, 1, 1, 1, 1, 1, 1, 1, 1, 1, 1, 1, 1, 1, 1, 1, 1, 1, 1, 1, 1, 1, 1, 1, 1, 1, 1, 1, 1, 1, 1, 1, 1, 1, 1, 1, 1, 1, 1, 1, 1, 1, 1, 1, 1, 1, 1, 1, 1, 1, 1, 1, 1, 1, 1, 1, 1, 1, 1, 1, 1, 1, 1, 1, 1, 1, 1, 1, 1, 1, 1, 1, 1, 1, 1, 1, 1, 1, 1, 1, 1, 1, 1, 1, 1, 1, 1, 1, 1, 1, 1, 1, 1, 1, 1, 1, 1, 1, 1, 1, 1, 1, 1, 1, 1, 1, 1, 1, 1, 1, 1, 1, 1, 1, 1, 1, 1, 1, 1, 1, 1, 1, 1, 1, 1, 1, 1, 1, 1, 1, 1, 1, 1, 1, 1, 1, 1, 1, 1, 1, 1, 1, 1, 1, 1, 1, 1, 1, 1, 1, 1, 1, 1, 1, 1, 1, 1, 1, 1, 1, 1, 1, 1, 1, 1, 1, 1, 1, 1, 1, 1, 1, 1, 1, 1, 1, 1, 1, 1, 1, 1, 1, 1, 1, 1, 1, 1, 1, 1, 1, 1, 1, 1, 1, 1, 1, 1, 1, 1, 1, 1, 1, 1, 1, 1, 1, 1, 1, 1, 1, 1, 1, 1, 1, 1, 1, 1, 1, 1, 1, 1, 1, 1, 1, 1, 1, 1, 1, 1, 1, 1, 1, 1, 1, 1, 1, 1, 1, 1, 1, 1, 1, 1, 1, 1, 1, 1, 1, 1, 1, 1, 1, 1, 1, 1, 1, 1, 1, 1, 1, 1, 1, 1, 1, 1, 1, 1, 1, 1, 1, 1, 1, 1, 1, 1, 1, 1, 1, 1, 1, 1, 1, 1, 1, 1, 1, 1, 1, 1, 1, 1, 1, 1, 1, 1, 1, 1, 1, 1, 1, 1, 1, 1, 1, 1, 1, 1, 1, 1, 1, 1, 1, 1, 1, 1, 1, 1, 1, 1, 1, 1, 1, 1, 1, 1, 1, 1, 1, 1, 1, 1]\n",
            "start : 195\n",
            "end : 195\n",
            "answers_text : 해양\n",
            "attention_mask : [1, 1, 1, 1, 1, 1, 1, 1, 1, 1, 1, 1, 1, 1, 1, 1, 1, 1, 1, 1, 1, 1, 1, 1, 1, 1, 1, 1, 1, 1, 1, 1, 1, 1, 1, 1, 1, 1, 1, 1, 1, 1, 1, 1, 1, 1, 1, 1, 1, 1, 1, 1, 1, 1, 1, 1, 1, 1, 1, 1, 1, 1, 1, 1, 1, 1, 1, 1, 1, 1, 1, 1, 1, 1, 1, 1, 1, 1, 1, 1, 1, 1, 1, 1, 1, 1, 1, 1, 1, 1, 1, 1, 1, 1, 1, 1, 1, 1, 1, 1, 1, 1, 1, 1, 1, 1, 1, 1, 1, 1, 1, 1, 1, 1, 1, 1, 1, 1, 1, 1, 1, 1, 1, 1, 1, 1, 1, 1, 1, 1, 1, 1, 1, 1, 1, 1, 1, 1, 1, 1, 1, 1, 1, 1, 1, 1, 1, 1, 1, 1, 1, 1, 1, 1, 1, 1, 1, 1, 1, 1, 1, 1, 1, 1, 1, 1, 1, 1, 1, 1, 1, 1, 1, 1, 1, 1, 1, 1, 1, 1, 1, 1, 1, 1, 1, 1, 1, 1, 1, 1, 1, 1, 1, 1, 1, 1, 1, 1, 1, 1, 1, 1, 1, 1, 1, 1, 1, 1, 1, 1, 1, 1, 1, 1, 1, 1, 1, 1, 1, 1, 1, 1, 1, 1, 1, 1, 1, 1, 1, 1, 1, 1, 1, 1, 1, 1, 1, 1, 1, 1, 1, 1, 1, 1, 1, 1, 1, 1, 1, 1, 1, 1, 1, 1, 1, 1, 1, 1, 1, 1, 1, 1, 1, 1, 1, 1, 1, 1, 1, 1, 1, 1, 1, 1, 1, 1, 1, 1, 1, 1, 1, 1, 1, 1, 1, 1, 1, 1, 1, 1, 1, 1, 1, 1, 1, 1, 1, 1, 1, 1, 1, 1, 1, 1, 1, 1, 1, 1, 1, 1, 1, 1, 1, 1, 1, 1, 1, 1, 1, 1, 1, 1, 1, 1, 1, 1, 1, 1, 1, 1, 1, 1, 1, 1, 1, 1, 1, 1, 1, 1, 1, 1, 1, 1, 1, 1, 1, 1, 1, 1, 1, 1, 1, 1, 1, 1, 1, 1, 1, 1, 1, 1, 1, 1, 1, 1, 1, 1, 1]\n"
          ]
        }
      ]
    },
    {
      "cell_type": "code",
      "source": [
        "for idx, sample in zip(range(1, 4), indexed_train_dataset):\n",
        "    print(f'------{idx}------')\n",
        "    print('Context:', sample['context'])\n",
        "    print('Question:', sample['question'])\n",
        "    \n",
        "    input_ids, token_type_ids = [\n",
        "        torch.tensor(sample[key], dtype=torch.long, device=\"cuda\")\n",
        "        for key in (\"input_ids\", \"token_type_ids\")\n",
        "    ]\n",
        "    \n",
        "    model.eval()\n",
        "    with torch.no_grad():\n",
        "        output = model(input_ids=input_ids[None, :], token_type_ids=token_type_ids[None, :])\n",
        "\n",
        "    start_logits = output.start_logits\n",
        "    end_logits = output.end_logits\n",
        "    start_logits.squeeze_(0), end_logits.squeeze_(0)\n",
        "    \n",
        "    start_prob = start_logits[token_type_ids.bool()][1:-1].softmax(-1)\n",
        "    end_prob = end_logits[token_type_ids.bool()][1:-1].softmax(-1)\n",
        "\n",
        "    probability = torch.triu(start_prob[:, None] @ end_prob[None, :])\n",
        "\n",
        "    index = torch.argmax(probability).item()\n",
        "    \n",
        "    start = index // len(end_prob)\n",
        "    end = index % len(end_prob)\n",
        "    \n",
        "    start_str = sample['position'][start][0]\n",
        "    end_str = sample['position'][end][1]\n",
        "    print(start_str,end_str)\n",
        "    pred_ans = sample['context'][start_str:end_str]\n",
        "    print('Predicted Answer:', pred_ans)\n",
        "    print('Real Answer:',sample['answers_text'])\n",
        "    print('Edit Distance:',edit_distance(pred_ans,sample['answers_text']))\n",
        "    "
      ],
      "metadata": {
        "id": "62Di_fypvVbC",
        "colab": {
          "base_uri": "https://localhost:8080/"
        },
        "outputId": "ecd7afb8-8ef0-4734-e22d-8afb2f44c028"
      },
      "execution_count": null,
      "outputs": [
        {
          "output_type": "stream",
          "name": "stdout",
          "text": [
            "------1------\n",
            "Context: 한국은 캐나다와 자유무역협정(FTA)을 맺으면서 ‘경제영토’를 북미 전체로 확장하게 됐다. 캐나다는 G8 회원국이자 세계 11위 경제 대국이다. 한국과의 교역 규모는 지난해 99억2200만달러로 적은 편이지만 시장의 잠재 성장 가능성은 높다는 평가다. 특히 FTA 발효 2년 후 자동차 관세가 완전 철폐되면서 한국산 자동차의 가격 경쟁력이 높아질 전망이다. ○일본 앞서 시장 선점한·캐나다 FTA 체결로 가장 이득을 보는 품목은 자동차다. 캐나다는 한국의 5대 자동차시장이다. 지난해 캐나다에 수출한 자동차 수는 13만3000대. 캐나다는 현재 한국산 자동차에 부과하는 관세 6.1%를 발효 시점부터 2년 동안 단계적으로 없애기로 했다. 이렇게 되면 일본·유럽산 자동차보다 가격경쟁력에서 앞설 수 있게 된다. 북미자유무역협정(NAFTA) 회원국인 미국·멕시코산 자동차와 비슷한 조건에서 경쟁할 수 있다. 작년 캐나다 자동차시장 점유율은 미국 44.5%, 일본 33.6%, 한국 12.0%, 유럽 9.9% 등이다. 캐나다가 일본과 FTA 협상을 진행 중이고 유럽연합(EU)과는 추가 협상 문제로 발효가 늦어지고 있어 FTA 발효를 서두른다면 적어도 수년간은 시장 선점 효과를 누릴 수 있을 것으로 보인다. 김태년 한국자동차산업협회 이사는 “소형차의 경우 영업이익률이 3%밖에 안되기 때문에 관세 철폐 효과가 클 것으로 기대된다”고 말했다.주요 수출 품목인 자동차 부품도 3년 내 6%에 달하는 관세가 사라진다. 7%에 이르는 타이어 관세는 5년 뒤 완전 철폐된다. 관세율이 8%인 세탁기는 FTA 발효 즉시 없어지고, 6%인 냉장고 관세도 3년 내 철폐돼 가전제품 수출에도 파란불이 켜졌다. 평균 관세율 5.9%인 섬유도 대부분 3년 내 관세가 사라진다. 개성공단 원산지 인정 문제에 관해서는 향후 역외가공지역위원회 설립과 충족 기준을 논의하기로 했다. 이와 관련, 박근혜 대통령은 “개성공단 제품이 한국산으로 인정받아 관세 혜택을 받을 수 있도록 캐나다와 적극 협의해나갈 것”이라고 말했다. ○쌀 분유 인삼은 제외대신 한국은 소고기(관세율 40%)는 15년, 돼지고기(22.5~25%) 삼겹살(냉장냉동)은 13년 내 시장을 완전 개방하기로 했다. 닭고기(18~30%) 오리고기(18~27%) 등 가금육도 부위에 따라 10년 내 관세를 없애야 한다. 딸기·자두·키위(45%), 감(50%) 등 과실류는 10년 뒤 관세가 철폐된다. 겉보리(324%), 쌀보리(299.7%) 등 곡물류는 15년 후에 관세를 없앨 계획이다. 최경림 산업통상자원부 통상차관보는 “한국은 수출 주력 제품의 북미시장 점유율을 높일 수 있고, 캐나다는 미국·EU와 FTA를 체결한 한국을 아시아 진출의 교두보로 삼을 수 있다는 점에서 상호 접점을 찾았다”고 설명했다. 한국은 캐나다와 ‘FTA 동맹’으로 묶이면서 세계 최대 다자간 FTA인 환태평양경제동반자협정(TPP) 참여도 수월해질 전망이다. 캐나다는 미국 호주 뉴질랜드 멕시코 페루 칠레 싱가포르 브루나이 베트남 말레이시아 일본 등 11개국과 함께 기존 TPP 협상국이다. 한국은 이 중 일본 멕시코 뉴질랜드를 제외한 9개국과 FTA를 맺은 것이다. 지난해 11월 TPP 참여에 관심을 표명한 정부는 기존 12개 협상 참여국과 1차 예비 양자협의를 마쳤다. 조미현/정종태/고은이 기자\n",
            "Question: 한국과 캐나다의 협정이 발효되는 순간 관세가 사라지는 품목은?\n",
            "772 775\n",
            "Predicted Answer: 세탁기\n",
            "Real Answer: 세탁기\n",
            "Edit Distance: 0\n",
            "------2------\n",
            "Context: 해양지각의 구조는 여러가지 방법을 통하여 직간접적으로 추론할 수 있다. 오피올라이트를 통한 암석 성분의 분석, 관측된 지진파 자료와 암석별 지진파 진행 속도의 비교, 해양저에서의 암석 채집 등의 방법이 사용되며, 물론 직접적인 굴착을 통해 지각 심부의 암석 표본을 얻을 수도 있다. 해양지각은 대륙지각에 비하여 훨씬 단순하며 대체로 다음의 세 층으로 구분될 수 있다.\n",
            "\n",
            "* 1층은 미고결 또는 반 고결된 퇴적물층으로 얇으며, 중앙해령 근처에서는 아예 존재하지 않을 수도 있으나 해구쪽으로 갈수록 두꺼워진다. 대륙 연변부 근처에서는 대륙기원의 퇴적물들이 많아져서 퇴적층의 성분이 변화한다. 해양기원의 퇴적물은 주로 작은 해양생물의의 껍질로 주로 탄산염이나 규산염질인데 반하여 대륙기원의 퇴적물에는 화산재나 저탁류를 통해 운반된 퇴적물이 포함된다.\n",
            "* 2층은 두 층으로 구분된다. 상부의 2A층은 유리질 또는 세립질 현무암의 침상용암으로 이루어져 있는 두께 약 0.5 km의 층이고, 아래의 2B층은 돌러라이트의 암맥으로 이루어진 두께 약 1.5 km의 층이다.\n",
            "* 3층은 지표 아래에서 천천히 식어 이루어진 반려암을 비롯한 초염기성암으로 이루어져 있다. 해양지각 부피의 2/3 이상을 차지하며 두깨는 거의 5 km에 달한다.\n",
            "Question: 탄산염과 규산염질로 이루어진 퇴적물은 어디에서 온 것인가?\n",
            "329 333\n",
            "Predicted Answer: 해양기원\n",
            "Real Answer: 해양\n",
            "Edit Distance: 2\n",
            "------3------\n",
            "Context: 제일모직에 비상이 걸렸다. 오는 9월14일까지 주가를 끌어올려야 해서다. 이날은 제일모직과 삼성물산이 합병해 탄생하는 ‘통합 삼성물산’의 신주를 옛 삼성물산 주주들에게 배부하는 날이다. 이날 주가가 높은 수준에 형성되면 옛 삼성물산 주주들도 합병에 공감하게 된다. 제일모직은 이를 위해 당초 10월23일까지 사겠다고 발표한 자사주 4400억원어치를 8월 중 대부분 매입하기로 하는 등 ‘주가 부양’에 총력을 기울이고 있다.제일모직은 다음달 7일께부터 주식시장에서 삼성물산으로 이름을 바꿔 거래된다. 이달 27일부터 옛 삼성물산 주식은 거래가 정지된다. 9월14일이 되면 제일모직과 삼성물산의 합병 계약상 주식 교환 비율인 ‘1 대 0.35’에 따라 옛 삼성물산 주주들에게 통합 삼성물산의 신주가 배부된다. 현재 삼성물산 주식 100주를 갖고 있는 주주는 9월14일 통합 삼성물산의 신주 35주를 받게 된다. 그날 옛 삼성물산 주주들이 받게 되는 주식의 주당 가치는 당일 삼성물산(제일모직) 주식의 종가가 된다.문제는 현재 삼성물산 주주 상당수가 주식 교환 비율 1 대 0.35에 불만이 있다는 점이다. 9월14일 제일모직 주가가 충분히 높으면 합병비율에 대한 불만이 어느 정도 누그러질 수 있다. 하지만 당일 주가가 낮으면 불만이 증폭될 수 있다는 것이 삼성의 우려다. 주주들 사이에서 ‘합병이 무산되면 주가가 폭락한다고 해서 합병을 지지했는데, 제일모직 주가가 떨어져 이중으로 손해를 봤다’는 항의가 나올 수 있어서다.\n",
            "Question: 통합 삼성물산의 신주를 배부하는 날짜는?\n",
            "422 427\n",
            "Predicted Answer: 9월14일\n",
            "Real Answer: 9월14일\n",
            "Edit Distance: 0\n"
          ]
        }
      ]
    },
    {
      "cell_type": "code",
      "source": [
        "for idx, sample in zip(range(1, 4), indexed_dev_dataset):\n",
        "    print(f'------{idx}------')\n",
        "    print('Context:', sample['context'])\n",
        "    print('Question:', sample['question'])\n",
        "    \n",
        "    input_ids, token_type_ids = [\n",
        "        torch.tensor(sample[key], dtype=torch.long, device=\"cuda\")\n",
        "        for key in (\"input_ids\", \"token_type_ids\")\n",
        "    ]\n",
        "    \n",
        "    model.eval()\n",
        "    with torch.no_grad():\n",
        "        output = model(input_ids=input_ids[None, :], token_type_ids=token_type_ids[None, :])\n",
        "\n",
        "    start_logits = output.start_logits\n",
        "    end_logits = output.end_logits\n",
        "    start_logits.squeeze_(0), end_logits.squeeze_(0)\n",
        "    \n",
        "    start_prob = start_logits[token_type_ids.bool()][1:-1].softmax(-1)\n",
        "    end_prob = end_logits[token_type_ids.bool()][1:-1].softmax(-1)\n",
        "\n",
        "    probability = torch.triu(start_prob[:, None] @ end_prob[None, :])\n",
        "\n",
        "    index = torch.argmax(probability).item()\n",
        "    \n",
        "    start = index // len(end_prob)\n",
        "    end = index % len(end_prob)\n",
        "    \n",
        "    start_str = sample['position'][start][0]\n",
        "    end_str = sample['position'][end][1]\n",
        "    print(start_str,end_str)\n",
        "    pred_ans = sample['context'][start_str:end_str]\n",
        "    print('Predicted Answer:', pred_ans)\n",
        "    print('Real Answer:',sample['answers_text'])\n",
        "    print('Edit Distance:',edit_distance(pred_ans,sample['answers_text']))"
      ],
      "metadata": {
        "colab": {
          "base_uri": "https://localhost:8080/"
        },
        "id": "ldyW0x8xx4ZD",
        "outputId": "7a967316-ada9-4728-e620-eab51b209219"
      },
      "execution_count": null,
      "outputs": [
        {
          "output_type": "stream",
          "name": "stdout",
          "text": [
            "------1------\n",
            "Context: 지난해 주요 연극상을 나눠 가졌던 세 편의 작품이 올봄에 나란히 앙코르 무대를 갖는다. 대한민국연극대상 연기·무대예술상, 동아연극상 작품·희곡·연기상 등을 수상한 ‘알리바이 연대기’(17~20일 대학로 아르코예술극장 대극장, 25일~5월11일 서계동 국립극단 백성희장민호극장), 연극대상에서 대상과 희곡상을 받은 ‘여기가 집이다’(18일~5월22일 대학로 연우소극장), 연극대상 작품·연출상과 김상열연극상 수상작인 ‘황금용’(5월9~18일 서강대 메리홀 대극장)이다. 초연 당시 짧은 상연 기간과 낮은 인지도 등으로 공연을 놓친 연극팬에겐 평단으로부터 작품성을 인정받은 수작을 관람할 수 있는 기회다. ‘알리바이 연대기’는 희곡을 쓰고 연출한 김재엽의 가족사에 근거한 다큐멘터리 드라마다. 1930년에 태어난 한 개인의 사적인 연대기를 바탕으로 그 사이를 파고드는 역사적 순간들을 정밀하게 조명한다. 연출가는 “공적인 권력이 사적인 권리를 지켜주기보다 억압하기 일쑤였던 한국 현대사 속에서 개인은 언제나 무죄를 입증하며 하루하루 자신을 지켜내야 하는 ‘알리바이의 연대기’ 속에서 살아왔다”고 말한다.한국연극평론가협회는 이 작품을 ‘2013년 올해의 연극 베스트3’로 선정하며 “촘촘하고 세세하게 삶에 천착해 개인과 역사에 대한 이분법적 관점을 극복한다. 정치극에 대한 새로운 가능성을 보여줬다”고 평했다. 이 작품으로 연기상을 휩쓴 남명렬을 비롯해 지춘성 정원조 등 초연 배우들이 그대로 출연한다.‘여기가 집이다’는 허름하고 볼품 없는 ‘20년 전통’의 고시원에 모여 사는 사람들의 절망과 희망을 그린 작품. ‘차력사와 아코디언’ ‘택배 왔어요’를 만든 극단 이와삼의 장우재 대표가 직접 대본을 쓰고 연출했다. 나름의 규칙을 가지고 평화로웠던 고시원에 새로운 주인으로 등장한 ‘20세 고등학생’ 동교가 “이제부터 고시원 식구들에게 월세를 받지 않겠다”고 선언하면서 갑작스런 변화의 바람이 분다.날것 그대로의 직설 화법으로 풀어 놓는 풍성한 인생 이야기와 생동감 넘치는 극적 구조로 ‘집’의 본원적 의미와 삶에 대한 성찰의 기회를 제공한다는 평가를 받았다. 재연에서는 중견 배우 김세동이 장씨 역으로 출연해 박무영 김충근 한동규 류제승 김정민 등 초연 배우들과 호흡을 맞춘다.독일 극작가 롤란트 시멜페니히가 쓴 현대극 ‘황금용’은 독일 소도시에 있는 아시아계 간이식당을 배경으로 현대 물질사회와 세계화 속에 가려진 욕망과 폭력, 소외를 그린다. 치통을 앓지만 불법 체류자 신분으로 치과에 가지 못하는 한 젊은 중국인 요리사는 결국 비참한 최후를 맞는다.작품을 연출한 윤광진 용인대 교수는 “극의 배경은 유럽의 한 소도시이지만 서울이나 경기 안산의 어느 거리에서 일어나는 듯 우리에게 가깝게 다가오는 작품”이라며 “지하철에서 마주치는 외국인 근로자들, 그 옆에서 졸고 있는 우리의 이야기”라고 말했다. 이호성 남미정 이동근 한덕호 방현숙 등 초연 배우들이 다시 뭉친다.\n",
            "Question: 윤광진 교수가 연출한 연극이 앙코르 공연을 하는 장소는 어디인가?\n",
            "246 257\n",
            "Predicted Answer: 서강대 메리홀 대극장\n",
            "Real Answer: 서강대 메리홀 대극장\n",
            "Edit Distance: 0\n",
            "------2------\n",
            "Context: 정부가 저축은행의 수익성 확보를 위해 내년 2월부터 펀드와 보험, 신용카드 판매를 활성화하기로 했다. 또 지역 밀착형 서민금융회사라는 저축은행 본연의 기능을 강화하기 위해 비 수도권 저축은행의 지역 내 점포 확장 기준을 완화해주기로 했다.금융위원회는 17일 이 같은 내용을 골자로 한 ‘저축은행의 건전한 발전을 위한 정책방향’을 발표했다. 금융위는 우선 펀드판매와 할부금융 등 법적 근거가 필요한 업무는 세부 시행기준을 마련해 활성화하기로 했다. 저축은행의 펀드판매는 불완전판매가 최소화되도록 기준을 마련해 제한적으로 허용된다. 할부금융은 하위 법령이 정비되면 내년 2월부터 취급할 수 있게 된다. 보험과 신용카드는 저축은행중앙회가 카드·보험사와 계약 후 모든 저축은행에서 판매하는 방식으로 추진된다.금융위는 아울러 여신심사 능력을 갖춘 저축은행을 선별해 △정책금융공사의 온렌딩(중소기업 간접 지원)대출 △주택금융공사 보금자리론 △미소금융 등과 같은 서민과 중소기업 대상 정책자금도 취급할 수 있도록 할 방침이다.영업실적이나 대출모집인 활용도를 평가해 지역밀착형·관계형 영업을 충실히 수행하는 저축은행에 대해서는 영업구역 내 점포를 신설할 때 증자요건 등을 완화(수도권 제외)해 주기로 했다. 금융위는 또 저축은행이 체계적인 신용평가를 통해 금리를 적용하는 대신 높은 수준의 최고 금리를 적용하는 경우가 많다는 지적에 따라 신용평가시스템(CSS)을 개선하기로 했다. 자체 CSS가 있는 대형 저축은행의 경우 은행권 수준으로 시스템을 발전시키고, 자체 CSS 구축이 어려운 저축은행은 중앙회의 표준 CSS를 활용하도록 하는 방식이다.금융위는 다만 서민 대출이 늘어날 것으로 예상됨에 따라 소액신용대출 비중이 높은 저축은행의 관리·감독을 강화하고 개별 차주에 대한 신용공여 한도(법인 100억원)의 적정성을 재검토하는 등 건전성 관리에도 힘을 쏟을 방침이다.\n",
            "Question: 자체 신용평가시스템이 없는 저축은행은 어느 기관의 시스템을 따르는가?\n",
            "774 778\n",
            "Predicted Answer: 중앙회의\n",
            "Real Answer: 저축은행중앙회\n",
            "Edit Distance: 5\n",
            "------3------\n",
            "Context: 전산 언어학은 인공 지능에 전제되는 분야로써 종종 다루어지기도 한다. 전산 언어학은 1950년대 미국에서, 외국어, 특히 러시아의 과학 잡지를 영어로 자동 번역하려는 노력으로부터 기원한다. 컴퓨터는 인간보다 수리적 능력이 더욱 빠르고 정확하다고 입증되었기 때문에, 기술적 세부사항에서 컴퓨터가 인간처럼 언어를 처리할 능력을 갖게 될 수 있는 것은 단지 시간문제라고 생각되었다.\n",
            "\n",
            "기계 번역(또한 기계적 번역)이 정확한 번역을 즉시 해내는 것에 실패했을 때, 인간 언어 자동화 프로세싱은 원래 여겨지던 것보다 더욱 복잡한 것으로 인식되었다. 전산 언어학은 언어 데이터를 지적으로 처리할 수 있는 산술과 소프트웨어의 발달에 힘입어 새로운 학문 분야의 이름을 가지고 탄생했다. 인공지능(AI)이 1960년대에 접어들면서, 인간 수준의 이해를 다루고 자연 언어의 생산을 다루는 전산 언어학의 분야는 인공지능의 하위 분야가 되었다.\n",
            "\n",
            "한 언어를 다른 언어로 번역하기 위해서, 각각의 언어들의 형태론과 구문론을 포함한 문법을 이해해야 했다. 구문론을 이해하기 위해서는, 또한 의미론과 사전학(또는 어휘), 심지어 언어 사용의 화용론에 대해서도 이해해야 했다. 따라서, 어떻게 표상되는가를 이해하기 위한 전체 분야로 진화하는 언어들과 컴퓨터를 이용한 자연 언어 처리 사이를 번역하기 위한 노력으로써 시작되었다고 볼 수 있다.\n",
            "Question: 한 언어를 다른 언어로 번역하기 위해 필요하며, 의미론, 사전학, 화용론을 이해해야 하는 문법은?\n",
            "499 510\n",
            "Predicted Answer: 구문론을 포함한 문법\n",
            "Real Answer: 구문론\n",
            "Edit Distance: 8\n"
          ]
        }
      ]
    },
    {
      "cell_type": "code",
      "source": [
        "pred_answers = []\n",
        "real_answers = []"
      ],
      "metadata": {
        "id": "ySgoCsk6pYFa"
      },
      "execution_count": null,
      "outputs": []
    },
    {
      "cell_type": "code",
      "source": [
        "edit_dists = []\n",
        "for sample in tqdm(indexed_dev_dataset):\n",
        "    input_ids, token_type_ids = [\n",
        "        torch.tensor(sample[key], dtype=torch.long, device=\"cuda\")\n",
        "        for key in (\"input_ids\", \"token_type_ids\")\n",
        "    ]\n",
        "    \n",
        "    model.eval()\n",
        "    with torch.no_grad():\n",
        "        output = model(input_ids=input_ids[None, :], token_type_ids=token_type_ids[None, :])\n",
        "\n",
        "    start_logits = output.start_logits\n",
        "    end_logits = output.end_logits\n",
        "    start_logits.squeeze_(0), end_logits.squeeze_(0)\n",
        "    \n",
        "    start_prob = start_logits[token_type_ids.bool()][1:-1].softmax(-1)\n",
        "    end_prob = end_logits[token_type_ids.bool()][1:-1].softmax(-1)\n",
        "\n",
        "    probability = torch.triu(start_prob[:, None] @ end_prob[None, :])\n",
        "\n",
        "    index = torch.argmax(probability).item()\n",
        "    \n",
        "    start = index // len(end_prob)\n",
        "    end = index % len(end_prob)\n",
        "    \n",
        "    start_str = sample['position'][start][0]\n",
        "    end_str = sample['position'][end][1]\n",
        "    pred_ans = sample['context'][start_str:end_str]\n",
        "    if len(pred_ans)>20: pred_ans=''\n",
        "    edit_dists.append(edit_distance(pred_ans,sample['answers_text']))\n",
        "    pred_answers.append(pred_ans); real_answers.append(sample['answers_text'])"
      ],
      "metadata": {
        "colab": {
          "base_uri": "https://localhost:8080/",
          "height": 49,
          "referenced_widgets": [
            "fb3706f9f46d4434a80d82bca4f7ab55",
            "cc46214bf94b4897b43d086d29a96ebf",
            "28041215baf94c3cb2e3d48192f71a91",
            "574091f2487244b5aabf3dd26cc4ab3d",
            "0de034d7c8bb4241987dd2bca2a920f1",
            "36ac6fcbfe784c419f02a6ffcb2f5303",
            "805fbb67de2f46e0b3960774bcfd3abc",
            "1dc3316a17db4a6392fca4090f72ca68",
            "b2d1bec3d75c4aefb9c5c17f43f14843",
            "f43480cd8adc4a5ba61bda819d883cd9",
            "f7b074ecdbd64a6e8ddee0e478fc554a"
          ]
        },
        "id": "PB9-ocmeeXFd",
        "outputId": "a8231bde-7261-49ab-edb7-57ffa5ef2fad"
      },
      "execution_count": null,
      "outputs": [
        {
          "output_type": "display_data",
          "data": {
            "text/plain": [
              "  0%|          | 0/1203 [00:00<?, ?it/s]"
            ],
            "application/vnd.jupyter.widget-view+json": {
              "version_major": 2,
              "version_minor": 0,
              "model_id": "fb3706f9f46d4434a80d82bca4f7ab55"
            }
          },
          "metadata": {}
        }
      ]
    },
    {
      "cell_type": "code",
      "source": [
        "max(len(i) for i in pred_answers)"
      ],
      "metadata": {
        "colab": {
          "base_uri": "https://localhost:8080/"
        },
        "id": "azIheLf_qeDB",
        "outputId": "b0647eff-387a-4b82-a161-c83388cf6fdf"
      },
      "execution_count": null,
      "outputs": [
        {
          "output_type": "execute_result",
          "data": {
            "text/plain": [
              "20"
            ]
          },
          "metadata": {},
          "execution_count": 52
        }
      ]
    },
    {
      "cell_type": "code",
      "source": [
        "# 실제 답변 길이에 대해 예측 길이\n",
        "pred_arr = [[0]*20 for _ in range(21)]\n",
        "for i in range(len(pred_answers)):\n",
        "  if len(real_answers[i])>20: continue\n",
        "  pred_arr[len(real_answers[i])][len(pred_answers[i])]+=1\n",
        "plt.matshow(pred_arr)\n",
        "plt.xlabel('Length of Real Answer')\n",
        "plt.ylabel('Length of Predicted Answer')\n",
        "plt.colorbar()\n",
        "plt.show()"
      ],
      "metadata": {
        "colab": {
          "base_uri": "https://localhost:8080/",
          "height": 232
        },
        "id": "HGZ-jOYMqSTS",
        "outputId": "026eab19-4669-442d-ea1c-92f0497d806a"
      },
      "execution_count": null,
      "outputs": [
        {
          "output_type": "error",
          "ename": "IndexError",
          "evalue": "ignored",
          "traceback": [
            "\u001b[0;31m---------------------------------------------------------------------------\u001b[0m",
            "\u001b[0;31mIndexError\u001b[0m                                Traceback (most recent call last)",
            "\u001b[0;32m<ipython-input-54-a75d0b089fb4>\u001b[0m in \u001b[0;36m<module>\u001b[0;34m()\u001b[0m\n\u001b[1;32m      3\u001b[0m \u001b[0;32mfor\u001b[0m \u001b[0mi\u001b[0m \u001b[0;32min\u001b[0m \u001b[0mrange\u001b[0m\u001b[0;34m(\u001b[0m\u001b[0mlen\u001b[0m\u001b[0;34m(\u001b[0m\u001b[0mpred_answers\u001b[0m\u001b[0;34m)\u001b[0m\u001b[0;34m)\u001b[0m\u001b[0;34m:\u001b[0m\u001b[0;34m\u001b[0m\u001b[0;34m\u001b[0m\u001b[0m\n\u001b[1;32m      4\u001b[0m   \u001b[0;32mif\u001b[0m \u001b[0mlen\u001b[0m\u001b[0;34m(\u001b[0m\u001b[0mreal_answers\u001b[0m\u001b[0;34m[\u001b[0m\u001b[0mi\u001b[0m\u001b[0;34m]\u001b[0m\u001b[0;34m)\u001b[0m\u001b[0;34m>\u001b[0m\u001b[0;36m20\u001b[0m\u001b[0;34m:\u001b[0m \u001b[0;32mcontinue\u001b[0m\u001b[0;34m\u001b[0m\u001b[0;34m\u001b[0m\u001b[0m\n\u001b[0;32m----> 5\u001b[0;31m   \u001b[0mpred_arr\u001b[0m\u001b[0;34m[\u001b[0m\u001b[0mlen\u001b[0m\u001b[0;34m(\u001b[0m\u001b[0mreal_answers\u001b[0m\u001b[0;34m[\u001b[0m\u001b[0mi\u001b[0m\u001b[0;34m]\u001b[0m\u001b[0;34m)\u001b[0m\u001b[0;34m]\u001b[0m\u001b[0;34m[\u001b[0m\u001b[0mlen\u001b[0m\u001b[0;34m(\u001b[0m\u001b[0mpred_answers\u001b[0m\u001b[0;34m[\u001b[0m\u001b[0mi\u001b[0m\u001b[0;34m]\u001b[0m\u001b[0;34m)\u001b[0m\u001b[0;34m]\u001b[0m\u001b[0;34m+=\u001b[0m\u001b[0;36m1\u001b[0m\u001b[0;34m\u001b[0m\u001b[0;34m\u001b[0m\u001b[0m\n\u001b[0m\u001b[1;32m      6\u001b[0m \u001b[0mplt\u001b[0m\u001b[0;34m.\u001b[0m\u001b[0mmatshow\u001b[0m\u001b[0;34m(\u001b[0m\u001b[0mpred_arr\u001b[0m\u001b[0;34m)\u001b[0m\u001b[0;34m\u001b[0m\u001b[0;34m\u001b[0m\u001b[0m\n\u001b[1;32m      7\u001b[0m \u001b[0mplt\u001b[0m\u001b[0;34m.\u001b[0m\u001b[0mxlabel\u001b[0m\u001b[0;34m(\u001b[0m\u001b[0;34m'Length of Real Answer'\u001b[0m\u001b[0;34m)\u001b[0m\u001b[0;34m\u001b[0m\u001b[0;34m\u001b[0m\u001b[0m\n",
            "\u001b[0;31mIndexError\u001b[0m: list index out of range"
          ]
        }
      ]
    },
    {
      "cell_type": "code",
      "source": [
        "import math\n",
        "squared_pred_arr=[[0]*20 for _ in range(21)]\n",
        "for i in range(21):\n",
        "  for j in range(20):\n",
        "    squared_pred_arr[i][j] = math.log(pred_arr[i][j]+1)\n",
        "plt.matshow(squared_pred_arr)\n",
        "plt.xlabel('Length of Real Answer')\n",
        "plt.ylabel('Length of Predicted Answer')\n",
        "plt.colorbar()\n",
        "plt.show()"
      ],
      "metadata": {
        "colab": {
          "base_uri": "https://localhost:8080/",
          "height": 271
        },
        "id": "KDFXVOYOtBAl",
        "outputId": "bd490bd7-4b1e-49e1-95cc-3336f2329ca5"
      },
      "execution_count": null,
      "outputs": [
        {
          "output_type": "display_data",
          "data": {
            "text/plain": [
              "<Figure size 288x302.4 with 2 Axes>"
            ],
            "image/png": "[encoded data removed]"
          },
          "metadata": {
            "needs_background": "light"
          }
        }
      ]
    },
    {
      "cell_type": "code",
      "source": [
        "pred_real_ratio = [len(pred_answers[i])/len(real_answers[i]) if len(real_answers[i]) else 0\n",
        "                   for i in range(len(pred_answers))]\n",
        "print(sum(pred_real_ratio)/len(pred_real_ratio))"
      ],
      "metadata": {
        "colab": {
          "base_uri": "https://localhost:8080/"
        },
        "id": "4mdACn9nsL8x",
        "outputId": "1ef76390-43e6-47ce-f501-0162953ea24d"
      },
      "execution_count": null,
      "outputs": [
        {
          "output_type": "stream",
          "name": "stdout",
          "text": [
            "0.9120369887518551\n"
          ]
        }
      ]
    },
    {
      "cell_type": "code",
      "source": [
        "from collections import Counter\n",
        "edit_dists_counter = Counter(edit_dists)\n",
        "dists_list=list(edit_dists_counter.items()); dists_list.sort()\n",
        "dists_keys = [i[0] for i in dists_list]\n",
        "dists_vals = [i[1] for i in dists_list]\n",
        "\n",
        "print('Average:',sum(edit_dists)/len(edit_dists))"
      ],
      "metadata": {
        "colab": {
          "base_uri": "https://localhost:8080/"
        },
        "id": "moapCUMCerv8",
        "outputId": "dad6f561-704c-42e9-ee76-16c4f40ef6d3"
      },
      "execution_count": null,
      "outputs": [
        {
          "output_type": "stream",
          "name": "stdout",
          "text": [
            "Average: 3.2593516209476308\n"
          ]
        }
      ]
    },
    {
      "cell_type": "code",
      "source": [
        "tmp=0; dists_sum = sum(dists_vals)\n",
        "for i, j in dists_list:\n",
        "  tmp+=j\n",
        "  print(f'편집 거리 {i} - {j}개 ({j/dists_sum*100:.2f}%) - 누적 {tmp/dists_sum*100:.2f}%')"
      ],
      "metadata": {
        "colab": {
          "base_uri": "https://localhost:8080/"
        },
        "id": "7fhDe2mAj5LK",
        "outputId": "956b54bd-1b68-412b-a562-283bc5729a98"
      },
      "execution_count": null,
      "outputs": [
        {
          "output_type": "stream",
          "name": "stdout",
          "text": [
            "편집 거리 0 - 538개 (44.72%) - 누적 44.72%\n",
            "편집 거리 1 - 136개 (11.31%) - 누적 56.03%\n",
            "편집 거리 2 - 130개 (10.81%) - 누적 66.83%\n",
            "편집 거리 3 - 103개 (8.56%) - 누적 75.39%\n",
            "편집 거리 4 - 60개 (4.99%) - 누적 80.38%\n",
            "편집 거리 5 - 45개 (3.74%) - 누적 84.12%\n",
            "편집 거리 6 - 32개 (2.66%) - 누적 86.78%\n",
            "편집 거리 7 - 30개 (2.49%) - 누적 89.28%\n",
            "편집 거리 8 - 24개 (2.00%) - 누적 91.27%\n",
            "편집 거리 9 - 23개 (1.91%) - 누적 93.18%\n",
            "편집 거리 10 - 13개 (1.08%) - 누적 94.26%\n",
            "편집 거리 11 - 15개 (1.25%) - 누적 95.51%\n",
            "편집 거리 12 - 8개 (0.67%) - 누적 96.18%\n",
            "편집 거리 13 - 8개 (0.67%) - 누적 96.84%\n",
            "편집 거리 14 - 7개 (0.58%) - 누적 97.42%\n",
            "편집 거리 15 - 2개 (0.17%) - 누적 97.59%\n",
            "편집 거리 16 - 6개 (0.50%) - 누적 98.09%\n",
            "편집 거리 17 - 3개 (0.25%) - 누적 98.34%\n",
            "편집 거리 19 - 2개 (0.17%) - 누적 98.50%\n",
            "편집 거리 20 - 1개 (0.08%) - 누적 98.59%\n",
            "편집 거리 21 - 3개 (0.25%) - 누적 98.84%\n",
            "편집 거리 23 - 2개 (0.17%) - 누적 99.00%\n",
            "편집 거리 24 - 3개 (0.25%) - 누적 99.25%\n",
            "편집 거리 25 - 1개 (0.08%) - 누적 99.33%\n",
            "편집 거리 29 - 1개 (0.08%) - 누적 99.42%\n",
            "편집 거리 32 - 2개 (0.17%) - 누적 99.58%\n",
            "편집 거리 33 - 2개 (0.17%) - 누적 99.75%\n",
            "편집 거리 34 - 1개 (0.08%) - 누적 99.83%\n",
            "편집 거리 36 - 1개 (0.08%) - 누적 99.92%\n",
            "편집 거리 71 - 1개 (0.08%) - 누적 100.00%\n"
          ]
        }
      ]
    },
    {
      "cell_type": "code",
      "source": [
        "plt.plot(dists_keys, dists_vals)\n",
        "plt.xlabel('Edit Distance')\n",
        "plt.ylabel('Number of Answers')\n",
        "plt.show()"
      ],
      "metadata": {
        "colab": {
          "base_uri": "https://localhost:8080/",
          "height": 279
        },
        "id": "kkA5MFT9gFpk",
        "outputId": "e93acb67-a639-456a-9da3-e4421a9d432f"
      },
      "execution_count": null,
      "outputs": [
        {
          "output_type": "display_data",
          "data": {
            "text/plain": [
              "<Figure size 432x288 with 1 Axes>"
            ],
            "image/png": "[encoded data removed]"
          },
          "metadata": {
            "needs_background": "light"
          }
        }
      ]
    },
    {
      "cell_type": "code",
      "source": [
        "start_visualize = []\n",
        "end_visualize = []\n",
        "\n",
        "with torch.no_grad(), open(f'{args.NAME}.csv', 'w') as fd:\n",
        "    writer = csv.writer(fd)\n",
        "    writer.writerow(['Id', 'Predicted'])\n",
        "\n",
        "    rows = []\n",
        "    c = 0\n",
        "    # for sample in tqdm(test_dataset, \"Testing\"):\n",
        "    for sample in tqdm(indexed_test_dataset, \"Testing\"):\n",
        "        input_ids, token_type_ids = [torch.tensor(sample[key], dtype=torch.long, device=\"cuda\") for key in (\"input_ids\", \"token_type_ids\")]\n",
        "        # print(sample)\n",
        "    \n",
        "        model.eval()\n",
        "        with torch.no_grad():\n",
        "            output = model(input_ids=input_ids[None, :], token_type_ids=token_type_ids[None, :])\n",
        "\n",
        "        start_logits = output.start_logits\n",
        "        end_logits = output.end_logits\n",
        "        start_logits.squeeze_(0), end_logits.squeeze_(0)\n",
        "\n",
        "        start_prob = start_logits[token_type_ids.bool()][1:-1].softmax(-1)\n",
        "        end_prob = end_logits[token_type_ids.bool()][1:-1].softmax(-1)\n",
        "\n",
        "        probability = torch.triu(start_prob[:, None] @ end_prob[None, :])\n",
        "\n",
        "        # 토큰 길이 8까지만\n",
        "        for row in range(len(start_prob) - 8):\n",
        "            probability[row] = torch.cat((probability[row][:8+row].cpu(), torch.Tensor([0] * (len(start_prob)-(8+row))).cpu()), 0)\n",
        "\n",
        "        index = torch.argmax(probability).item()\n",
        "\n",
        "        start = index // len(end_prob)\n",
        "        end = index % len(end_prob)\n",
        "        \n",
        "        # 확률 너무 낮으면 자르기\n",
        "        if start_prob[start] > 0.3 and end_prob[end] > 0.3:\n",
        "            start_str = sample['position'][start][0]\n",
        "            end_str = sample['position'][end][1]\n",
        "        else:\n",
        "            start_str = 0\n",
        "            end_str = 0\n",
        "\n",
        "        start_visualize.append((list(start_prob.cpu()), (start, end), (start_str, end_str)))\n",
        "        end_visualize.append((list(end_prob.cpu()), (start, end), (start_str, end_str)))\n",
        "        \n",
        "        rows.append([sample[\"guid\"], sample['context'][start_str:end_str]])\n",
        "\n",
        "    writer.writerows(rows)"
      ],
      "metadata": {
        "id": "lQF0j2syvVYN",
        "colab": {
          "base_uri": "https://localhost:8080/",
          "height": 49,
          "referenced_widgets": [
            "7eba7893cbe44476bc749b28113bde33",
            "66493e5927d1400684a1458bf2cd7b32",
            "0a2cbdfa04e14df9941fce5abae78346",
            "babeb4fe3cf5455a9da66cbf27378302",
            "24d1ccf6b7c24363a55818cb14477051",
            "1367fb06b1df432b996e3442f881b42c",
            "329541b4ecc546b4b7b63e68b8d33b01",
            "6c32f183697249b0ad1859185de6b1c4",
            "9833304c067e43c0be2b3e9cadcc13e3",
            "e84a2140d0fe4e94acd0465f47451ea5",
            "d5d9a0af0161470f8fb41b68bca52e0e"
          ]
        },
        "outputId": "32426a4f-b642-47ef-b06b-6562da0678d8"
      },
      "execution_count": null,
      "outputs": [
        {
          "output_type": "display_data",
          "data": {
            "text/plain": [
              "Testing:   0%|          | 0/4008 [00:00<?, ?it/s]"
            ],
            "application/vnd.jupyter.widget-view+json": {
              "version_major": 2,
              "version_minor": 0,
              "model_id": "7eba7893cbe44476bc749b28113bde33"
            }
          },
          "metadata": {}
        }
      ]
    },
    {
      "cell_type": "code",
      "source": [],
      "metadata": {
        "id": "yE9IIagfvVEu"
      },
      "execution_count": null,
      "outputs": []
    },
    {
      "cell_type": "code",
      "source": [],
      "metadata": {
        "id": "fbhGDqrKvVBG"
      },
      "execution_count": null,
      "outputs": []
    },
    {
      "cell_type": "code",
      "source": [],
      "metadata": {
        "id": "If6uK46pvU9b"
      },
      "execution_count": null,
      "outputs": []
    },
    {
      "cell_type": "code",
      "source": [],
      "metadata": {
        "id": "-v-8qwhCvU5_"
      },
      "execution_count": null,
      "outputs": []
    },
    {
      "cell_type": "code",
      "source": [],
      "metadata": {
        "id": "AC4Pj6btvUs-"
      },
      "execution_count": null,
      "outputs": []
    },
    {
      "cell_type": "code",
      "source": [],
      "metadata": {
        "id": "49tSPGvmvUpt"
      },
      "execution_count": null,
      "outputs": []
    },
    {
      "cell_type": "code",
      "source": [],
      "metadata": {
        "id": "CPZEspLovUkA"
      },
      "execution_count": null,
      "outputs": []
    },
    {
      "cell_type": "code",
      "source": [],
      "metadata": {
        "id": "-tr1YZ1PLpXH"
      },
      "execution_count": null,
      "outputs": []
    },
    {
      "cell_type": "code",
      "source": [],
      "metadata": {
        "id": "Hy2M8xCVsGJ4"
      },
      "execution_count": null,
      "outputs": []
    },
    {
      "cell_type": "code",
      "source": [],
      "metadata": {
        "id": "7kS3xWlwj60i"
      },
      "execution_count": null,
      "outputs": []
    },
    {
      "cell_type": "code",
      "source": [],
      "metadata": {
        "id": "9_d4U9BIj6vp"
      },
      "execution_count": null,
      "outputs": []
    }
  ],
  "metadata": {
    "accelerator": "GPU",
    "colab": {
      "background_execution": "on",
      "collapsed_sections": [],
      "provenance": [],
      "machine_shape": "hm",
      "include_colab_link": true
    },
    "gpuClass": "standard",
    "kernelspec": {
      "display_name": "Python 3",
      "language": "python",
      "name": "python3"
    },
    "language_info": {
      "codemirror_mode": {
        "name": "ipython",
        "version": 3
      },
      "file_extension": ".py",
      "mimetype": "text/x-python",
      "name": "python",
      "nbconvert_exporter": "python",
      "pygments_lexer": "ipython3",
      "version": "3.6.4"
    },
    "widgets": {
      "application/vnd.jupyter.widget-state+json": {
        "cfe5ed9587ef446c8ad04de6f27afdc2": {
          "model_module": "@jupyter-widgets/controls",
          "model_name": "HBoxModel",
          "model_module_version": "1.5.0",
          "state": {
            "_dom_classes": [],
            "_model_module": "@jupyter-widgets/controls",
            "_model_module_version": "1.5.0",
            "_model_name": "HBoxModel",
            "_view_count": null,
            "_view_module": "@jupyter-widgets/controls",
            "_view_module_version": "1.5.0",
            "_view_name": "HBoxView",
            "box_style": "",
            "children": [
              "IPY_MODEL_e858aefa806e4206b01065c7f6883fb8",
              "IPY_MODEL_d004386b24b444b899252deb9e796b46",
              "IPY_MODEL_d015381ddc2c4650ad4ab8900416d18a"
            ],
            "layout": "IPY_MODEL_5dfc978c345b4e09b8dbe696be78aced"
          }
        },
        "e858aefa806e4206b01065c7f6883fb8": {
          "model_module": "@jupyter-widgets/controls",
          "model_name": "HTMLModel",
          "model_module_version": "1.5.0",
          "state": {
            "_dom_classes": [],
            "_model_module": "@jupyter-widgets/controls",
            "_model_module_version": "1.5.0",
            "_model_name": "HTMLModel",
            "_view_count": null,
            "_view_module": "@jupyter-widgets/controls",
            "_view_module_version": "1.5.0",
            "_view_name": "HTMLView",
            "description": "",
            "description_tooltip": null,
            "layout": "IPY_MODEL_2accd23f7ecf45538b66e28d57a2bbe5",
            "placeholder": "​",
            "style": "IPY_MODEL_b115968703844ab5a7e50175f924ade2",
            "value": "Train - Loss: 4.455: 100%"
          }
        },
        "d004386b24b444b899252deb9e796b46": {
          "model_module": "@jupyter-widgets/controls",
          "model_name": "FloatProgressModel",
          "model_module_version": "1.5.0",
          "state": {
            "_dom_classes": [],
            "_model_module": "@jupyter-widgets/controls",
            "_model_module_version": "1.5.0",
            "_model_name": "FloatProgressModel",
            "_view_count": null,
            "_view_module": "@jupyter-widgets/controls",
            "_view_module_version": "1.5.0",
            "_view_name": "ProgressView",
            "bar_style": "success",
            "description": "",
            "description_tooltip": null,
            "layout": "IPY_MODEL_2bb34b58460f42849b49943162543ff1",
            "max": 2709,
            "min": 0,
            "orientation": "horizontal",
            "style": "IPY_MODEL_ab42c17dfc704b1da529af1bfc35aecf",
            "value": 2709
          }
        },
        "d015381ddc2c4650ad4ab8900416d18a": {
          "model_module": "@jupyter-widgets/controls",
          "model_name": "HTMLModel",
          "model_module_version": "1.5.0",
          "state": {
            "_dom_classes": [],
            "_model_module": "@jupyter-widgets/controls",
            "_model_module_version": "1.5.0",
            "_model_name": "HTMLModel",
            "_view_count": null,
            "_view_module": "@jupyter-widgets/controls",
            "_view_module_version": "1.5.0",
            "_view_name": "HTMLView",
            "description": "",
            "description_tooltip": null,
            "layout": "IPY_MODEL_76686f21926b45f1967943687bbe7f32",
            "placeholder": "​",
            "style": "IPY_MODEL_0bd2315f5c0840e083dce6b773a457e8",
            "value": " 2709/2709 [42:11&lt;00:00,  4.94it/s]"
          }
        },
        "5dfc978c345b4e09b8dbe696be78aced": {
          "model_module": "@jupyter-widgets/base",
          "model_name": "LayoutModel",
          "model_module_version": "1.2.0",
          "state": {
            "_model_module": "@jupyter-widgets/base",
            "_model_module_version": "1.2.0",
            "_model_name": "LayoutModel",
            "_view_count": null,
            "_view_module": "@jupyter-widgets/base",
            "_view_module_version": "1.2.0",
            "_view_name": "LayoutView",
            "align_content": null,
            "align_items": null,
            "align_self": null,
            "border": null,
            "bottom": null,
            "display": null,
            "flex": null,
            "flex_flow": null,
            "grid_area": null,
            "grid_auto_columns": null,
            "grid_auto_flow": null,
            "grid_auto_rows": null,
            "grid_column": null,
            "grid_gap": null,
            "grid_row": null,
            "grid_template_areas": null,
            "grid_template_columns": null,
            "grid_template_rows": null,
            "height": null,
            "justify_content": null,
            "justify_items": null,
            "left": null,
            "margin": null,
            "max_height": null,
            "max_width": null,
            "min_height": null,
            "min_width": null,
            "object_fit": null,
            "object_position": null,
            "order": null,
            "overflow": null,
            "overflow_x": null,
            "overflow_y": null,
            "padding": null,
            "right": null,
            "top": null,
            "visibility": null,
            "width": null
          }
        },
        "2accd23f7ecf45538b66e28d57a2bbe5": {
          "model_module": "@jupyter-widgets/base",
          "model_name": "LayoutModel",
          "model_module_version": "1.2.0",
          "state": {
            "_model_module": "@jupyter-widgets/base",
            "_model_module_version": "1.2.0",
            "_model_name": "LayoutModel",
            "_view_count": null,
            "_view_module": "@jupyter-widgets/base",
            "_view_module_version": "1.2.0",
            "_view_name": "LayoutView",
            "align_content": null,
            "align_items": null,
            "align_self": null,
            "border": null,
            "bottom": null,
            "display": null,
            "flex": null,
            "flex_flow": null,
            "grid_area": null,
            "grid_auto_columns": null,
            "grid_auto_flow": null,
            "grid_auto_rows": null,
            "grid_column": null,
            "grid_gap": null,
            "grid_row": null,
            "grid_template_areas": null,
            "grid_template_columns": null,
            "grid_template_rows": null,
            "height": null,
            "justify_content": null,
            "justify_items": null,
            "left": null,
            "margin": null,
            "max_height": null,
            "max_width": null,
            "min_height": null,
            "min_width": null,
            "object_fit": null,
            "object_position": null,
            "order": null,
            "overflow": null,
            "overflow_x": null,
            "overflow_y": null,
            "padding": null,
            "right": null,
            "top": null,
            "visibility": null,
            "width": null
          }
        },
        "b115968703844ab5a7e50175f924ade2": {
          "model_module": "@jupyter-widgets/controls",
          "model_name": "DescriptionStyleModel",
          "model_module_version": "1.5.0",
          "state": {
            "_model_module": "@jupyter-widgets/controls",
            "_model_module_version": "1.5.0",
            "_model_name": "DescriptionStyleModel",
            "_view_count": null,
            "_view_module": "@jupyter-widgets/base",
            "_view_module_version": "1.2.0",
            "_view_name": "StyleView",
            "description_width": ""
          }
        },
        "2bb34b58460f42849b49943162543ff1": {
          "model_module": "@jupyter-widgets/base",
          "model_name": "LayoutModel",
          "model_module_version": "1.2.0",
          "state": {
            "_model_module": "@jupyter-widgets/base",
            "_model_module_version": "1.2.0",
            "_model_name": "LayoutModel",
            "_view_count": null,
            "_view_module": "@jupyter-widgets/base",
            "_view_module_version": "1.2.0",
            "_view_name": "LayoutView",
            "align_content": null,
            "align_items": null,
            "align_self": null,
            "border": null,
            "bottom": null,
            "display": null,
            "flex": null,
            "flex_flow": null,
            "grid_area": null,
            "grid_auto_columns": null,
            "grid_auto_flow": null,
            "grid_auto_rows": null,
            "grid_column": null,
            "grid_gap": null,
            "grid_row": null,
            "grid_template_areas": null,
            "grid_template_columns": null,
            "grid_template_rows": null,
            "height": null,
            "justify_content": null,
            "justify_items": null,
            "left": null,
            "margin": null,
            "max_height": null,
            "max_width": null,
            "min_height": null,
            "min_width": null,
            "object_fit": null,
            "object_position": null,
            "order": null,
            "overflow": null,
            "overflow_x": null,
            "overflow_y": null,
            "padding": null,
            "right": null,
            "top": null,
            "visibility": null,
            "width": null
          }
        },
        "ab42c17dfc704b1da529af1bfc35aecf": {
          "model_module": "@jupyter-widgets/controls",
          "model_name": "ProgressStyleModel",
          "model_module_version": "1.5.0",
          "state": {
            "_model_module": "@jupyter-widgets/controls",
            "_model_module_version": "1.5.0",
            "_model_name": "ProgressStyleModel",
            "_view_count": null,
            "_view_module": "@jupyter-widgets/base",
            "_view_module_version": "1.2.0",
            "_view_name": "StyleView",
            "bar_color": null,
            "description_width": ""
          }
        },
        "76686f21926b45f1967943687bbe7f32": {
          "model_module": "@jupyter-widgets/base",
          "model_name": "LayoutModel",
          "model_module_version": "1.2.0",
          "state": {
            "_model_module": "@jupyter-widgets/base",
            "_model_module_version": "1.2.0",
            "_model_name": "LayoutModel",
            "_view_count": null,
            "_view_module": "@jupyter-widgets/base",
            "_view_module_version": "1.2.0",
            "_view_name": "LayoutView",
            "align_content": null,
            "align_items": null,
            "align_self": null,
            "border": null,
            "bottom": null,
            "display": null,
            "flex": null,
            "flex_flow": null,
            "grid_area": null,
            "grid_auto_columns": null,
            "grid_auto_flow": null,
            "grid_auto_rows": null,
            "grid_column": null,
            "grid_gap": null,
            "grid_row": null,
            "grid_template_areas": null,
            "grid_template_columns": null,
            "grid_template_rows": null,
            "height": null,
            "justify_content": null,
            "justify_items": null,
            "left": null,
            "margin": null,
            "max_height": null,
            "max_width": null,
            "min_height": null,
            "min_width": null,
            "object_fit": null,
            "object_position": null,
            "order": null,
            "overflow": null,
            "overflow_x": null,
            "overflow_y": null,
            "padding": null,
            "right": null,
            "top": null,
            "visibility": null,
            "width": null
          }
        },
        "0bd2315f5c0840e083dce6b773a457e8": {
          "model_module": "@jupyter-widgets/controls",
          "model_name": "DescriptionStyleModel",
          "model_module_version": "1.5.0",
          "state": {
            "_model_module": "@jupyter-widgets/controls",
            "_model_module_version": "1.5.0",
            "_model_name": "DescriptionStyleModel",
            "_view_count": null,
            "_view_module": "@jupyter-widgets/base",
            "_view_module_version": "1.2.0",
            "_view_name": "StyleView",
            "description_width": ""
          }
        },
        "2e60725466234f6aaf8c21f861989e22": {
          "model_module": "@jupyter-widgets/controls",
          "model_name": "HBoxModel",
          "model_module_version": "1.5.0",
          "state": {
            "_dom_classes": [],
            "_model_module": "@jupyter-widgets/controls",
            "_model_module_version": "1.5.0",
            "_model_name": "HBoxModel",
            "_view_count": null,
            "_view_module": "@jupyter-widgets/controls",
            "_view_module_version": "1.5.0",
            "_view_name": "HBoxView",
            "box_style": "",
            "children": [
              "IPY_MODEL_cca2abe427a3444f8e07414624eba461",
              "IPY_MODEL_519a35cf11aa4df491d9ff7de0fb4ebd",
              "IPY_MODEL_c3a6ec638ec044328d4406b732411a0b"
            ],
            "layout": "IPY_MODEL_d12ca3eb6c1347e4acd0ae113adb50fd"
          }
        },
        "cca2abe427a3444f8e07414624eba461": {
          "model_module": "@jupyter-widgets/controls",
          "model_name": "HTMLModel",
          "model_module_version": "1.5.0",
          "state": {
            "_dom_classes": [],
            "_model_module": "@jupyter-widgets/controls",
            "_model_module_version": "1.5.0",
            "_model_name": "HTMLModel",
            "_view_count": null,
            "_view_module": "@jupyter-widgets/controls",
            "_view_module_version": "1.5.0",
            "_view_name": "HTMLView",
            "description": "",
            "description_tooltip": null,
            "layout": "IPY_MODEL_7246e4eade664ee38079d74e65bbb72f",
            "placeholder": "​",
            "style": "IPY_MODEL_27f79223b8b742989565e25345a1d643",
            "value": "Train - Loss: 3.010: 100%"
          }
        },
        "519a35cf11aa4df491d9ff7de0fb4ebd": {
          "model_module": "@jupyter-widgets/controls",
          "model_name": "FloatProgressModel",
          "model_module_version": "1.5.0",
          "state": {
            "_dom_classes": [],
            "_model_module": "@jupyter-widgets/controls",
            "_model_module_version": "1.5.0",
            "_model_name": "FloatProgressModel",
            "_view_count": null,
            "_view_module": "@jupyter-widgets/controls",
            "_view_module_version": "1.5.0",
            "_view_name": "ProgressView",
            "bar_style": "success",
            "description": "",
            "description_tooltip": null,
            "layout": "IPY_MODEL_90e71bdece224d32a75107d419741faf",
            "max": 2709,
            "min": 0,
            "orientation": "horizontal",
            "style": "IPY_MODEL_23b2863b3d4a474cbf98ff13d6f1e932",
            "value": 2709
          }
        },
        "c3a6ec638ec044328d4406b732411a0b": {
          "model_module": "@jupyter-widgets/controls",
          "model_name": "HTMLModel",
          "model_module_version": "1.5.0",
          "state": {
            "_dom_classes": [],
            "_model_module": "@jupyter-widgets/controls",
            "_model_module_version": "1.5.0",
            "_model_name": "HTMLModel",
            "_view_count": null,
            "_view_module": "@jupyter-widgets/controls",
            "_view_module_version": "1.5.0",
            "_view_name": "HTMLView",
            "description": "",
            "description_tooltip": null,
            "layout": "IPY_MODEL_443f269d935549b681fd1776937a707b",
            "placeholder": "​",
            "style": "IPY_MODEL_4864c56b1dcf41aeb7a7441cb6870dce",
            "value": " 2709/2709 [36:19&lt;00:00,  3.85it/s]"
          }
        },
        "d12ca3eb6c1347e4acd0ae113adb50fd": {
          "model_module": "@jupyter-widgets/base",
          "model_name": "LayoutModel",
          "model_module_version": "1.2.0",
          "state": {
            "_model_module": "@jupyter-widgets/base",
            "_model_module_version": "1.2.0",
            "_model_name": "LayoutModel",
            "_view_count": null,
            "_view_module": "@jupyter-widgets/base",
            "_view_module_version": "1.2.0",
            "_view_name": "LayoutView",
            "align_content": null,
            "align_items": null,
            "align_self": null,
            "border": null,
            "bottom": null,
            "display": null,
            "flex": null,
            "flex_flow": null,
            "grid_area": null,
            "grid_auto_columns": null,
            "grid_auto_flow": null,
            "grid_auto_rows": null,
            "grid_column": null,
            "grid_gap": null,
            "grid_row": null,
            "grid_template_areas": null,
            "grid_template_columns": null,
            "grid_template_rows": null,
            "height": null,
            "justify_content": null,
            "justify_items": null,
            "left": null,
            "margin": null,
            "max_height": null,
            "max_width": null,
            "min_height": null,
            "min_width": null,
            "object_fit": null,
            "object_position": null,
            "order": null,
            "overflow": null,
            "overflow_x": null,
            "overflow_y": null,
            "padding": null,
            "right": null,
            "top": null,
            "visibility": null,
            "width": null
          }
        },
        "7246e4eade664ee38079d74e65bbb72f": {
          "model_module": "@jupyter-widgets/base",
          "model_name": "LayoutModel",
          "model_module_version": "1.2.0",
          "state": {
            "_model_module": "@jupyter-widgets/base",
            "_model_module_version": "1.2.0",
            "_model_name": "LayoutModel",
            "_view_count": null,
            "_view_module": "@jupyter-widgets/base",
            "_view_module_version": "1.2.0",
            "_view_name": "LayoutView",
            "align_content": null,
            "align_items": null,
            "align_self": null,
            "border": null,
            "bottom": null,
            "display": null,
            "flex": null,
            "flex_flow": null,
            "grid_area": null,
            "grid_auto_columns": null,
            "grid_auto_flow": null,
            "grid_auto_rows": null,
            "grid_column": null,
            "grid_gap": null,
            "grid_row": null,
            "grid_template_areas": null,
            "grid_template_columns": null,
            "grid_template_rows": null,
            "height": null,
            "justify_content": null,
            "justify_items": null,
            "left": null,
            "margin": null,
            "max_height": null,
            "max_width": null,
            "min_height": null,
            "min_width": null,
            "object_fit": null,
            "object_position": null,
            "order": null,
            "overflow": null,
            "overflow_x": null,
            "overflow_y": null,
            "padding": null,
            "right": null,
            "top": null,
            "visibility": null,
            "width": null
          }
        },
        "27f79223b8b742989565e25345a1d643": {
          "model_module": "@jupyter-widgets/controls",
          "model_name": "DescriptionStyleModel",
          "model_module_version": "1.5.0",
          "state": {
            "_model_module": "@jupyter-widgets/controls",
            "_model_module_version": "1.5.0",
            "_model_name": "DescriptionStyleModel",
            "_view_count": null,
            "_view_module": "@jupyter-widgets/base",
            "_view_module_version": "1.2.0",
            "_view_name": "StyleView",
            "description_width": ""
          }
        },
        "90e71bdece224d32a75107d419741faf": {
          "model_module": "@jupyter-widgets/base",
          "model_name": "LayoutModel",
          "model_module_version": "1.2.0",
          "state": {
            "_model_module": "@jupyter-widgets/base",
            "_model_module_version": "1.2.0",
            "_model_name": "LayoutModel",
            "_view_count": null,
            "_view_module": "@jupyter-widgets/base",
            "_view_module_version": "1.2.0",
            "_view_name": "LayoutView",
            "align_content": null,
            "align_items": null,
            "align_self": null,
            "border": null,
            "bottom": null,
            "display": null,
            "flex": null,
            "flex_flow": null,
            "grid_area": null,
            "grid_auto_columns": null,
            "grid_auto_flow": null,
            "grid_auto_rows": null,
            "grid_column": null,
            "grid_gap": null,
            "grid_row": null,
            "grid_template_areas": null,
            "grid_template_columns": null,
            "grid_template_rows": null,
            "height": null,
            "justify_content": null,
            "justify_items": null,
            "left": null,
            "margin": null,
            "max_height": null,
            "max_width": null,
            "min_height": null,
            "min_width": null,
            "object_fit": null,
            "object_position": null,
            "order": null,
            "overflow": null,
            "overflow_x": null,
            "overflow_y": null,
            "padding": null,
            "right": null,
            "top": null,
            "visibility": null,
            "width": null
          }
        },
        "23b2863b3d4a474cbf98ff13d6f1e932": {
          "model_module": "@jupyter-widgets/controls",
          "model_name": "ProgressStyleModel",
          "model_module_version": "1.5.0",
          "state": {
            "_model_module": "@jupyter-widgets/controls",
            "_model_module_version": "1.5.0",
            "_model_name": "ProgressStyleModel",
            "_view_count": null,
            "_view_module": "@jupyter-widgets/base",
            "_view_module_version": "1.2.0",
            "_view_name": "StyleView",
            "bar_color": null,
            "description_width": ""
          }
        },
        "443f269d935549b681fd1776937a707b": {
          "model_module": "@jupyter-widgets/base",
          "model_name": "LayoutModel",
          "model_module_version": "1.2.0",
          "state": {
            "_model_module": "@jupyter-widgets/base",
            "_model_module_version": "1.2.0",
            "_model_name": "LayoutModel",
            "_view_count": null,
            "_view_module": "@jupyter-widgets/base",
            "_view_module_version": "1.2.0",
            "_view_name": "LayoutView",
            "align_content": null,
            "align_items": null,
            "align_self": null,
            "border": null,
            "bottom": null,
            "display": null,
            "flex": null,
            "flex_flow": null,
            "grid_area": null,
            "grid_auto_columns": null,
            "grid_auto_flow": null,
            "grid_auto_rows": null,
            "grid_column": null,
            "grid_gap": null,
            "grid_row": null,
            "grid_template_areas": null,
            "grid_template_columns": null,
            "grid_template_rows": null,
            "height": null,
            "justify_content": null,
            "justify_items": null,
            "left": null,
            "margin": null,
            "max_height": null,
            "max_width": null,
            "min_height": null,
            "min_width": null,
            "object_fit": null,
            "object_position": null,
            "order": null,
            "overflow": null,
            "overflow_x": null,
            "overflow_y": null,
            "padding": null,
            "right": null,
            "top": null,
            "visibility": null,
            "width": null
          }
        },
        "4864c56b1dcf41aeb7a7441cb6870dce": {
          "model_module": "@jupyter-widgets/controls",
          "model_name": "DescriptionStyleModel",
          "model_module_version": "1.5.0",
          "state": {
            "_model_module": "@jupyter-widgets/controls",
            "_model_module_version": "1.5.0",
            "_model_name": "DescriptionStyleModel",
            "_view_count": null,
            "_view_module": "@jupyter-widgets/base",
            "_view_module_version": "1.2.0",
            "_view_name": "StyleView",
            "description_width": ""
          }
        },
        "b7dc408c674442aeb55157675dea718d": {
          "model_module": "@jupyter-widgets/controls",
          "model_name": "HBoxModel",
          "model_module_version": "1.5.0",
          "state": {
            "_dom_classes": [],
            "_model_module": "@jupyter-widgets/controls",
            "_model_module_version": "1.5.0",
            "_model_name": "HBoxModel",
            "_view_count": null,
            "_view_module": "@jupyter-widgets/controls",
            "_view_module_version": "1.5.0",
            "_view_name": "HBoxView",
            "box_style": "",
            "children": [
              "IPY_MODEL_94ae38f7a58c47068c9f178dd9f7e01a",
              "IPY_MODEL_bb4d580c87904ee0b069e90e29a23440",
              "IPY_MODEL_03611446008e4da3982692d6f0580c53"
            ],
            "layout": "IPY_MODEL_26b051eacecb40338a88e05937ce4bce"
          }
        },
        "94ae38f7a58c47068c9f178dd9f7e01a": {
          "model_module": "@jupyter-widgets/controls",
          "model_name": "HTMLModel",
          "model_module_version": "1.5.0",
          "state": {
            "_dom_classes": [],
            "_model_module": "@jupyter-widgets/controls",
            "_model_module_version": "1.5.0",
            "_model_name": "HTMLModel",
            "_view_count": null,
            "_view_module": "@jupyter-widgets/controls",
            "_view_module_version": "1.5.0",
            "_view_name": "HTMLView",
            "description": "",
            "description_tooltip": null,
            "layout": "IPY_MODEL_c3dc7acada7c432188a61b997785e74d",
            "placeholder": "​",
            "style": "IPY_MODEL_15fc1d55d2fd4be0a9089b2bebf58e2c",
            "value": "Train - Loss: 1.602:  14%"
          }
        },
        "bb4d580c87904ee0b069e90e29a23440": {
          "model_module": "@jupyter-widgets/controls",
          "model_name": "FloatProgressModel",
          "model_module_version": "1.5.0",
          "state": {
            "_dom_classes": [],
            "_model_module": "@jupyter-widgets/controls",
            "_model_module_version": "1.5.0",
            "_model_name": "FloatProgressModel",
            "_view_count": null,
            "_view_module": "@jupyter-widgets/controls",
            "_view_module_version": "1.5.0",
            "_view_name": "ProgressView",
            "bar_style": "",
            "description": "",
            "description_tooltip": null,
            "layout": "IPY_MODEL_2498f0b1748f4619a92db39bbebb54be",
            "max": 2709,
            "min": 0,
            "orientation": "horizontal",
            "style": "IPY_MODEL_7d7fce997d614db5b33cab09ffc6372d",
            "value": 383
          }
        },
        "03611446008e4da3982692d6f0580c53": {
          "model_module": "@jupyter-widgets/controls",
          "model_name": "HTMLModel",
          "model_module_version": "1.5.0",
          "state": {
            "_dom_classes": [],
            "_model_module": "@jupyter-widgets/controls",
            "_model_module_version": "1.5.0",
            "_model_name": "HTMLModel",
            "_view_count": null,
            "_view_module": "@jupyter-widgets/controls",
            "_view_module_version": "1.5.0",
            "_view_name": "HTMLView",
            "description": "",
            "description_tooltip": null,
            "layout": "IPY_MODEL_645b0a98c49741acaa47745d71c8c5ce",
            "placeholder": "​",
            "style": "IPY_MODEL_04bdf1fcb86942eb8e7004de38fae523",
            "value": " 383/2709 [04:19&lt;08:19,  4.66it/s]"
          }
        },
        "26b051eacecb40338a88e05937ce4bce": {
          "model_module": "@jupyter-widgets/base",
          "model_name": "LayoutModel",
          "model_module_version": "1.2.0",
          "state": {
            "_model_module": "@jupyter-widgets/base",
            "_model_module_version": "1.2.0",
            "_model_name": "LayoutModel",
            "_view_count": null,
            "_view_module": "@jupyter-widgets/base",
            "_view_module_version": "1.2.0",
            "_view_name": "LayoutView",
            "align_content": null,
            "align_items": null,
            "align_self": null,
            "border": null,
            "bottom": null,
            "display": null,
            "flex": null,
            "flex_flow": null,
            "grid_area": null,
            "grid_auto_columns": null,
            "grid_auto_flow": null,
            "grid_auto_rows": null,
            "grid_column": null,
            "grid_gap": null,
            "grid_row": null,
            "grid_template_areas": null,
            "grid_template_columns": null,
            "grid_template_rows": null,
            "height": null,
            "justify_content": null,
            "justify_items": null,
            "left": null,
            "margin": null,
            "max_height": null,
            "max_width": null,
            "min_height": null,
            "min_width": null,
            "object_fit": null,
            "object_position": null,
            "order": null,
            "overflow": null,
            "overflow_x": null,
            "overflow_y": null,
            "padding": null,
            "right": null,
            "top": null,
            "visibility": null,
            "width": null
          }
        },
        "c3dc7acada7c432188a61b997785e74d": {
          "model_module": "@jupyter-widgets/base",
          "model_name": "LayoutModel",
          "model_module_version": "1.2.0",
          "state": {
            "_model_module": "@jupyter-widgets/base",
            "_model_module_version": "1.2.0",
            "_model_name": "LayoutModel",
            "_view_count": null,
            "_view_module": "@jupyter-widgets/base",
            "_view_module_version": "1.2.0",
            "_view_name": "LayoutView",
            "align_content": null,
            "align_items": null,
            "align_self": null,
            "border": null,
            "bottom": null,
            "display": null,
            "flex": null,
            "flex_flow": null,
            "grid_area": null,
            "grid_auto_columns": null,
            "grid_auto_flow": null,
            "grid_auto_rows": null,
            "grid_column": null,
            "grid_gap": null,
            "grid_row": null,
            "grid_template_areas": null,
            "grid_template_columns": null,
            "grid_template_rows": null,
            "height": null,
            "justify_content": null,
            "justify_items": null,
            "left": null,
            "margin": null,
            "max_height": null,
            "max_width": null,
            "min_height": null,
            "min_width": null,
            "object_fit": null,
            "object_position": null,
            "order": null,
            "overflow": null,
            "overflow_x": null,
            "overflow_y": null,
            "padding": null,
            "right": null,
            "top": null,
            "visibility": null,
            "width": null
          }
        },
        "15fc1d55d2fd4be0a9089b2bebf58e2c": {
          "model_module": "@jupyter-widgets/controls",
          "model_name": "DescriptionStyleModel",
          "model_module_version": "1.5.0",
          "state": {
            "_model_module": "@jupyter-widgets/controls",
            "_model_module_version": "1.5.0",
            "_model_name": "DescriptionStyleModel",
            "_view_count": null,
            "_view_module": "@jupyter-widgets/base",
            "_view_module_version": "1.2.0",
            "_view_name": "StyleView",
            "description_width": ""
          }
        },
        "2498f0b1748f4619a92db39bbebb54be": {
          "model_module": "@jupyter-widgets/base",
          "model_name": "LayoutModel",
          "model_module_version": "1.2.0",
          "state": {
            "_model_module": "@jupyter-widgets/base",
            "_model_module_version": "1.2.0",
            "_model_name": "LayoutModel",
            "_view_count": null,
            "_view_module": "@jupyter-widgets/base",
            "_view_module_version": "1.2.0",
            "_view_name": "LayoutView",
            "align_content": null,
            "align_items": null,
            "align_self": null,
            "border": null,
            "bottom": null,
            "display": null,
            "flex": null,
            "flex_flow": null,
            "grid_area": null,
            "grid_auto_columns": null,
            "grid_auto_flow": null,
            "grid_auto_rows": null,
            "grid_column": null,
            "grid_gap": null,
            "grid_row": null,
            "grid_template_areas": null,
            "grid_template_columns": null,
            "grid_template_rows": null,
            "height": null,
            "justify_content": null,
            "justify_items": null,
            "left": null,
            "margin": null,
            "max_height": null,
            "max_width": null,
            "min_height": null,
            "min_width": null,
            "object_fit": null,
            "object_position": null,
            "order": null,
            "overflow": null,
            "overflow_x": null,
            "overflow_y": null,
            "padding": null,
            "right": null,
            "top": null,
            "visibility": null,
            "width": null
          }
        },
        "7d7fce997d614db5b33cab09ffc6372d": {
          "model_module": "@jupyter-widgets/controls",
          "model_name": "ProgressStyleModel",
          "model_module_version": "1.5.0",
          "state": {
            "_model_module": "@jupyter-widgets/controls",
            "_model_module_version": "1.5.0",
            "_model_name": "ProgressStyleModel",
            "_view_count": null,
            "_view_module": "@jupyter-widgets/base",
            "_view_module_version": "1.2.0",
            "_view_name": "StyleView",
            "bar_color": null,
            "description_width": ""
          }
        },
        "645b0a98c49741acaa47745d71c8c5ce": {
          "model_module": "@jupyter-widgets/base",
          "model_name": "LayoutModel",
          "model_module_version": "1.2.0",
          "state": {
            "_model_module": "@jupyter-widgets/base",
            "_model_module_version": "1.2.0",
            "_model_name": "LayoutModel",
            "_view_count": null,
            "_view_module": "@jupyter-widgets/base",
            "_view_module_version": "1.2.0",
            "_view_name": "LayoutView",
            "align_content": null,
            "align_items": null,
            "align_self": null,
            "border": null,
            "bottom": null,
            "display": null,
            "flex": null,
            "flex_flow": null,
            "grid_area": null,
            "grid_auto_columns": null,
            "grid_auto_flow": null,
            "grid_auto_rows": null,
            "grid_column": null,
            "grid_gap": null,
            "grid_row": null,
            "grid_template_areas": null,
            "grid_template_columns": null,
            "grid_template_rows": null,
            "height": null,
            "justify_content": null,
            "justify_items": null,
            "left": null,
            "margin": null,
            "max_height": null,
            "max_width": null,
            "min_height": null,
            "min_width": null,
            "object_fit": null,
            "object_position": null,
            "order": null,
            "overflow": null,
            "overflow_x": null,
            "overflow_y": null,
            "padding": null,
            "right": null,
            "top": null,
            "visibility": null,
            "width": null
          }
        },
        "04bdf1fcb86942eb8e7004de38fae523": {
          "model_module": "@jupyter-widgets/controls",
          "model_name": "DescriptionStyleModel",
          "model_module_version": "1.5.0",
          "state": {
            "_model_module": "@jupyter-widgets/controls",
            "_model_module_version": "1.5.0",
            "_model_name": "DescriptionStyleModel",
            "_view_count": null,
            "_view_module": "@jupyter-widgets/base",
            "_view_module_version": "1.2.0",
            "_view_name": "StyleView",
            "description_width": ""
          }
        },
        "d54e6ce5a7b94651bc23ee9b3d459cae": {
          "model_module": "@jupyter-widgets/controls",
          "model_name": "HBoxModel",
          "model_module_version": "1.5.0",
          "state": {
            "_dom_classes": [],
            "_model_module": "@jupyter-widgets/controls",
            "_model_module_version": "1.5.0",
            "_model_name": "HBoxModel",
            "_view_count": null,
            "_view_module": "@jupyter-widgets/controls",
            "_view_module_version": "1.5.0",
            "_view_name": "HBoxView",
            "box_style": "",
            "children": [
              "IPY_MODEL_7505868e07bf49248df4596db53920ef",
              "IPY_MODEL_5aece01eb6f74473b129b7b99910a034",
              "IPY_MODEL_4d8675d1dbe74cd59c515bee6fabdaa7"
            ],
            "layout": "IPY_MODEL_d863b13918a544e79cb5580f76d4407a"
          }
        },
        "7505868e07bf49248df4596db53920ef": {
          "model_module": "@jupyter-widgets/controls",
          "model_name": "HTMLModel",
          "model_module_version": "1.5.0",
          "state": {
            "_dom_classes": [],
            "_model_module": "@jupyter-widgets/controls",
            "_model_module_version": "1.5.0",
            "_model_name": "HTMLModel",
            "_view_count": null,
            "_view_module": "@jupyter-widgets/controls",
            "_view_module_version": "1.5.0",
            "_view_name": "HTMLView",
            "description": "",
            "description_tooltip": null,
            "layout": "IPY_MODEL_d20683f5da284653b2c5533d1f19e190",
            "placeholder": "​",
            "style": "IPY_MODEL_5873a88e0a754164b167e7623614add8",
            "value": "Train - Loss: 2.340:   4%"
          }
        },
        "5aece01eb6f74473b129b7b99910a034": {
          "model_module": "@jupyter-widgets/controls",
          "model_name": "FloatProgressModel",
          "model_module_version": "1.5.0",
          "state": {
            "_dom_classes": [],
            "_model_module": "@jupyter-widgets/controls",
            "_model_module_version": "1.5.0",
            "_model_name": "FloatProgressModel",
            "_view_count": null,
            "_view_module": "@jupyter-widgets/controls",
            "_view_module_version": "1.5.0",
            "_view_name": "ProgressView",
            "bar_style": "danger",
            "description": "",
            "description_tooltip": null,
            "layout": "IPY_MODEL_9271d09ffb8e4c90ab8d0c3f42322d42",
            "max": 2709,
            "min": 0,
            "orientation": "horizontal",
            "style": "IPY_MODEL_26c3ccb0c15a45a4a7ab1f7f308bfab0",
            "value": 95
          }
        },
        "4d8675d1dbe74cd59c515bee6fabdaa7": {
          "model_module": "@jupyter-widgets/controls",
          "model_name": "HTMLModel",
          "model_module_version": "1.5.0",
          "state": {
            "_dom_classes": [],
            "_model_module": "@jupyter-widgets/controls",
            "_model_module_version": "1.5.0",
            "_model_name": "HTMLModel",
            "_view_count": null,
            "_view_module": "@jupyter-widgets/controls",
            "_view_module_version": "1.5.0",
            "_view_name": "HTMLView",
            "description": "",
            "description_tooltip": null,
            "layout": "IPY_MODEL_928f88512e9d458aac349e9ddfa21608",
            "placeholder": "​",
            "style": "IPY_MODEL_50369be70dd147a397e39106fc1d7a9a",
            "value": " 95/2709 [01:20&lt;09:23,  4.64it/s]"
          }
        },
        "d863b13918a544e79cb5580f76d4407a": {
          "model_module": "@jupyter-widgets/base",
          "model_name": "LayoutModel",
          "model_module_version": "1.2.0",
          "state": {
            "_model_module": "@jupyter-widgets/base",
            "_model_module_version": "1.2.0",
            "_model_name": "LayoutModel",
            "_view_count": null,
            "_view_module": "@jupyter-widgets/base",
            "_view_module_version": "1.2.0",
            "_view_name": "LayoutView",
            "align_content": null,
            "align_items": null,
            "align_self": null,
            "border": null,
            "bottom": null,
            "display": null,
            "flex": null,
            "flex_flow": null,
            "grid_area": null,
            "grid_auto_columns": null,
            "grid_auto_flow": null,
            "grid_auto_rows": null,
            "grid_column": null,
            "grid_gap": null,
            "grid_row": null,
            "grid_template_areas": null,
            "grid_template_columns": null,
            "grid_template_rows": null,
            "height": null,
            "justify_content": null,
            "justify_items": null,
            "left": null,
            "margin": null,
            "max_height": null,
            "max_width": null,
            "min_height": null,
            "min_width": null,
            "object_fit": null,
            "object_position": null,
            "order": null,
            "overflow": null,
            "overflow_x": null,
            "overflow_y": null,
            "padding": null,
            "right": null,
            "top": null,
            "visibility": null,
            "width": null
          }
        },
        "d20683f5da284653b2c5533d1f19e190": {
          "model_module": "@jupyter-widgets/base",
          "model_name": "LayoutModel",
          "model_module_version": "1.2.0",
          "state": {
            "_model_module": "@jupyter-widgets/base",
            "_model_module_version": "1.2.0",
            "_model_name": "LayoutModel",
            "_view_count": null,
            "_view_module": "@jupyter-widgets/base",
            "_view_module_version": "1.2.0",
            "_view_name": "LayoutView",
            "align_content": null,
            "align_items": null,
            "align_self": null,
            "border": null,
            "bottom": null,
            "display": null,
            "flex": null,
            "flex_flow": null,
            "grid_area": null,
            "grid_auto_columns": null,
            "grid_auto_flow": null,
            "grid_auto_rows": null,
            "grid_column": null,
            "grid_gap": null,
            "grid_row": null,
            "grid_template_areas": null,
            "grid_template_columns": null,
            "grid_template_rows": null,
            "height": null,
            "justify_content": null,
            "justify_items": null,
            "left": null,
            "margin": null,
            "max_height": null,
            "max_width": null,
            "min_height": null,
            "min_width": null,
            "object_fit": null,
            "object_position": null,
            "order": null,
            "overflow": null,
            "overflow_x": null,
            "overflow_y": null,
            "padding": null,
            "right": null,
            "top": null,
            "visibility": null,
            "width": null
          }
        },
        "5873a88e0a754164b167e7623614add8": {
          "model_module": "@jupyter-widgets/controls",
          "model_name": "DescriptionStyleModel",
          "model_module_version": "1.5.0",
          "state": {
            "_model_module": "@jupyter-widgets/controls",
            "_model_module_version": "1.5.0",
            "_model_name": "DescriptionStyleModel",
            "_view_count": null,
            "_view_module": "@jupyter-widgets/base",
            "_view_module_version": "1.2.0",
            "_view_name": "StyleView",
            "description_width": ""
          }
        },
        "9271d09ffb8e4c90ab8d0c3f42322d42": {
          "model_module": "@jupyter-widgets/base",
          "model_name": "LayoutModel",
          "model_module_version": "1.2.0",
          "state": {
            "_model_module": "@jupyter-widgets/base",
            "_model_module_version": "1.2.0",
            "_model_name": "LayoutModel",
            "_view_count": null,
            "_view_module": "@jupyter-widgets/base",
            "_view_module_version": "1.2.0",
            "_view_name": "LayoutView",
            "align_content": null,
            "align_items": null,
            "align_self": null,
            "border": null,
            "bottom": null,
            "display": null,
            "flex": null,
            "flex_flow": null,
            "grid_area": null,
            "grid_auto_columns": null,
            "grid_auto_flow": null,
            "grid_auto_rows": null,
            "grid_column": null,
            "grid_gap": null,
            "grid_row": null,
            "grid_template_areas": null,
            "grid_template_columns": null,
            "grid_template_rows": null,
            "height": null,
            "justify_content": null,
            "justify_items": null,
            "left": null,
            "margin": null,
            "max_height": null,
            "max_width": null,
            "min_height": null,
            "min_width": null,
            "object_fit": null,
            "object_position": null,
            "order": null,
            "overflow": null,
            "overflow_x": null,
            "overflow_y": null,
            "padding": null,
            "right": null,
            "top": null,
            "visibility": null,
            "width": null
          }
        },
        "26c3ccb0c15a45a4a7ab1f7f308bfab0": {
          "model_module": "@jupyter-widgets/controls",
          "model_name": "ProgressStyleModel",
          "model_module_version": "1.5.0",
          "state": {
            "_model_module": "@jupyter-widgets/controls",
            "_model_module_version": "1.5.0",
            "_model_name": "ProgressStyleModel",
            "_view_count": null,
            "_view_module": "@jupyter-widgets/base",
            "_view_module_version": "1.2.0",
            "_view_name": "StyleView",
            "bar_color": null,
            "description_width": ""
          }
        },
        "928f88512e9d458aac349e9ddfa21608": {
          "model_module": "@jupyter-widgets/base",
          "model_name": "LayoutModel",
          "model_module_version": "1.2.0",
          "state": {
            "_model_module": "@jupyter-widgets/base",
            "_model_module_version": "1.2.0",
            "_model_name": "LayoutModel",
            "_view_count": null,
            "_view_module": "@jupyter-widgets/base",
            "_view_module_version": "1.2.0",
            "_view_name": "LayoutView",
            "align_content": null,
            "align_items": null,
            "align_self": null,
            "border": null,
            "bottom": null,
            "display": null,
            "flex": null,
            "flex_flow": null,
            "grid_area": null,
            "grid_auto_columns": null,
            "grid_auto_flow": null,
            "grid_auto_rows": null,
            "grid_column": null,
            "grid_gap": null,
            "grid_row": null,
            "grid_template_areas": null,
            "grid_template_columns": null,
            "grid_template_rows": null,
            "height": null,
            "justify_content": null,
            "justify_items": null,
            "left": null,
            "margin": null,
            "max_height": null,
            "max_width": null,
            "min_height": null,
            "min_width": null,
            "object_fit": null,
            "object_position": null,
            "order": null,
            "overflow": null,
            "overflow_x": null,
            "overflow_y": null,
            "padding": null,
            "right": null,
            "top": null,
            "visibility": null,
            "width": null
          }
        },
        "50369be70dd147a397e39106fc1d7a9a": {
          "model_module": "@jupyter-widgets/controls",
          "model_name": "DescriptionStyleModel",
          "model_module_version": "1.5.0",
          "state": {
            "_model_module": "@jupyter-widgets/controls",
            "_model_module_version": "1.5.0",
            "_model_name": "DescriptionStyleModel",
            "_view_count": null,
            "_view_module": "@jupyter-widgets/base",
            "_view_module_version": "1.2.0",
            "_view_name": "StyleView",
            "description_width": ""
          }
        },
        "f1c8e0047a0a4a56b3b9decfc0f73776": {
          "model_module": "@jupyter-widgets/controls",
          "model_name": "HBoxModel",
          "model_module_version": "1.5.0",
          "state": {
            "_dom_classes": [],
            "_model_module": "@jupyter-widgets/controls",
            "_model_module_version": "1.5.0",
            "_model_name": "HBoxModel",
            "_view_count": null,
            "_view_module": "@jupyter-widgets/controls",
            "_view_module_version": "1.5.0",
            "_view_name": "HBoxView",
            "box_style": "",
            "children": [
              "IPY_MODEL_2808854d2623459eb97b45be4d0e6c1c",
              "IPY_MODEL_a172fb02f75c4da182f35ff7e293659c",
              "IPY_MODEL_1cd4f2b0c90a4b6c974e3fe8ccba604c"
            ],
            "layout": "IPY_MODEL_28d24f5332a04c21a59589befd33fe12"
          }
        },
        "2808854d2623459eb97b45be4d0e6c1c": {
          "model_module": "@jupyter-widgets/controls",
          "model_name": "HTMLModel",
          "model_module_version": "1.5.0",
          "state": {
            "_dom_classes": [],
            "_model_module": "@jupyter-widgets/controls",
            "_model_module_version": "1.5.0",
            "_model_name": "HTMLModel",
            "_view_count": null,
            "_view_module": "@jupyter-widgets/controls",
            "_view_module_version": "1.5.0",
            "_view_name": "HTMLView",
            "description": "",
            "description_tooltip": null,
            "layout": "IPY_MODEL_02e962eb252d4a119688050907328d97",
            "placeholder": "​",
            "style": "IPY_MODEL_fed0b4b366eb40ed928c421fe5224016",
            "value": "Train - Loss: 2.124:   4%"
          }
        },
        "a172fb02f75c4da182f35ff7e293659c": {
          "model_module": "@jupyter-widgets/controls",
          "model_name": "FloatProgressModel",
          "model_module_version": "1.5.0",
          "state": {
            "_dom_classes": [],
            "_model_module": "@jupyter-widgets/controls",
            "_model_module_version": "1.5.0",
            "_model_name": "FloatProgressModel",
            "_view_count": null,
            "_view_module": "@jupyter-widgets/controls",
            "_view_module_version": "1.5.0",
            "_view_name": "ProgressView",
            "bar_style": "danger",
            "description": "",
            "description_tooltip": null,
            "layout": "IPY_MODEL_22907910047247b2b6def536cbe8f769",
            "max": 2709,
            "min": 0,
            "orientation": "horizontal",
            "style": "IPY_MODEL_bc9ab2afd04c455c809ce1cb52c19dcd",
            "value": 95
          }
        },
        "1cd4f2b0c90a4b6c974e3fe8ccba604c": {
          "model_module": "@jupyter-widgets/controls",
          "model_name": "HTMLModel",
          "model_module_version": "1.5.0",
          "state": {
            "_dom_classes": [],
            "_model_module": "@jupyter-widgets/controls",
            "_model_module_version": "1.5.0",
            "_model_name": "HTMLModel",
            "_view_count": null,
            "_view_module": "@jupyter-widgets/controls",
            "_view_module_version": "1.5.0",
            "_view_name": "HTMLView",
            "description": "",
            "description_tooltip": null,
            "layout": "IPY_MODEL_03f5f5151e004e7f8c94cce471befebf",
            "placeholder": "​",
            "style": "IPY_MODEL_045e3233829c44c98de58628474149e0",
            "value": " 95/2709 [01:21&lt;09:14,  4.71it/s]"
          }
        },
        "28d24f5332a04c21a59589befd33fe12": {
          "model_module": "@jupyter-widgets/base",
          "model_name": "LayoutModel",
          "model_module_version": "1.2.0",
          "state": {
            "_model_module": "@jupyter-widgets/base",
            "_model_module_version": "1.2.0",
            "_model_name": "LayoutModel",
            "_view_count": null,
            "_view_module": "@jupyter-widgets/base",
            "_view_module_version": "1.2.0",
            "_view_name": "LayoutView",
            "align_content": null,
            "align_items": null,
            "align_self": null,
            "border": null,
            "bottom": null,
            "display": null,
            "flex": null,
            "flex_flow": null,
            "grid_area": null,
            "grid_auto_columns": null,
            "grid_auto_flow": null,
            "grid_auto_rows": null,
            "grid_column": null,
            "grid_gap": null,
            "grid_row": null,
            "grid_template_areas": null,
            "grid_template_columns": null,
            "grid_template_rows": null,
            "height": null,
            "justify_content": null,
            "justify_items": null,
            "left": null,
            "margin": null,
            "max_height": null,
            "max_width": null,
            "min_height": null,
            "min_width": null,
            "object_fit": null,
            "object_position": null,
            "order": null,
            "overflow": null,
            "overflow_x": null,
            "overflow_y": null,
            "padding": null,
            "right": null,
            "top": null,
            "visibility": null,
            "width": null
          }
        },
        "02e962eb252d4a119688050907328d97": {
          "model_module": "@jupyter-widgets/base",
          "model_name": "LayoutModel",
          "model_module_version": "1.2.0",
          "state": {
            "_model_module": "@jupyter-widgets/base",
            "_model_module_version": "1.2.0",
            "_model_name": "LayoutModel",
            "_view_count": null,
            "_view_module": "@jupyter-widgets/base",
            "_view_module_version": "1.2.0",
            "_view_name": "LayoutView",
            "align_content": null,
            "align_items": null,
            "align_self": null,
            "border": null,
            "bottom": null,
            "display": null,
            "flex": null,
            "flex_flow": null,
            "grid_area": null,
            "grid_auto_columns": null,
            "grid_auto_flow": null,
            "grid_auto_rows": null,
            "grid_column": null,
            "grid_gap": null,
            "grid_row": null,
            "grid_template_areas": null,
            "grid_template_columns": null,
            "grid_template_rows": null,
            "height": null,
            "justify_content": null,
            "justify_items": null,
            "left": null,
            "margin": null,
            "max_height": null,
            "max_width": null,
            "min_height": null,
            "min_width": null,
            "object_fit": null,
            "object_position": null,
            "order": null,
            "overflow": null,
            "overflow_x": null,
            "overflow_y": null,
            "padding": null,
            "right": null,
            "top": null,
            "visibility": null,
            "width": null
          }
        },
        "fed0b4b366eb40ed928c421fe5224016": {
          "model_module": "@jupyter-widgets/controls",
          "model_name": "DescriptionStyleModel",
          "model_module_version": "1.5.0",
          "state": {
            "_model_module": "@jupyter-widgets/controls",
            "_model_module_version": "1.5.0",
            "_model_name": "DescriptionStyleModel",
            "_view_count": null,
            "_view_module": "@jupyter-widgets/base",
            "_view_module_version": "1.2.0",
            "_view_name": "StyleView",
            "description_width": ""
          }
        },
        "22907910047247b2b6def536cbe8f769": {
          "model_module": "@jupyter-widgets/base",
          "model_name": "LayoutModel",
          "model_module_version": "1.2.0",
          "state": {
            "_model_module": "@jupyter-widgets/base",
            "_model_module_version": "1.2.0",
            "_model_name": "LayoutModel",
            "_view_count": null,
            "_view_module": "@jupyter-widgets/base",
            "_view_module_version": "1.2.0",
            "_view_name": "LayoutView",
            "align_content": null,
            "align_items": null,
            "align_self": null,
            "border": null,
            "bottom": null,
            "display": null,
            "flex": null,
            "flex_flow": null,
            "grid_area": null,
            "grid_auto_columns": null,
            "grid_auto_flow": null,
            "grid_auto_rows": null,
            "grid_column": null,
            "grid_gap": null,
            "grid_row": null,
            "grid_template_areas": null,
            "grid_template_columns": null,
            "grid_template_rows": null,
            "height": null,
            "justify_content": null,
            "justify_items": null,
            "left": null,
            "margin": null,
            "max_height": null,
            "max_width": null,
            "min_height": null,
            "min_width": null,
            "object_fit": null,
            "object_position": null,
            "order": null,
            "overflow": null,
            "overflow_x": null,
            "overflow_y": null,
            "padding": null,
            "right": null,
            "top": null,
            "visibility": null,
            "width": null
          }
        },
        "bc9ab2afd04c455c809ce1cb52c19dcd": {
          "model_module": "@jupyter-widgets/controls",
          "model_name": "ProgressStyleModel",
          "model_module_version": "1.5.0",
          "state": {
            "_model_module": "@jupyter-widgets/controls",
            "_model_module_version": "1.5.0",
            "_model_name": "ProgressStyleModel",
            "_view_count": null,
            "_view_module": "@jupyter-widgets/base",
            "_view_module_version": "1.2.0",
            "_view_name": "StyleView",
            "bar_color": null,
            "description_width": ""
          }
        },
        "03f5f5151e004e7f8c94cce471befebf": {
          "model_module": "@jupyter-widgets/base",
          "model_name": "LayoutModel",
          "model_module_version": "1.2.0",
          "state": {
            "_model_module": "@jupyter-widgets/base",
            "_model_module_version": "1.2.0",
            "_model_name": "LayoutModel",
            "_view_count": null,
            "_view_module": "@jupyter-widgets/base",
            "_view_module_version": "1.2.0",
            "_view_name": "LayoutView",
            "align_content": null,
            "align_items": null,
            "align_self": null,
            "border": null,
            "bottom": null,
            "display": null,
            "flex": null,
            "flex_flow": null,
            "grid_area": null,
            "grid_auto_columns": null,
            "grid_auto_flow": null,
            "grid_auto_rows": null,
            "grid_column": null,
            "grid_gap": null,
            "grid_row": null,
            "grid_template_areas": null,
            "grid_template_columns": null,
            "grid_template_rows": null,
            "height": null,
            "justify_content": null,
            "justify_items": null,
            "left": null,
            "margin": null,
            "max_height": null,
            "max_width": null,
            "min_height": null,
            "min_width": null,
            "object_fit": null,
            "object_position": null,
            "order": null,
            "overflow": null,
            "overflow_x": null,
            "overflow_y": null,
            "padding": null,
            "right": null,
            "top": null,
            "visibility": null,
            "width": null
          }
        },
        "045e3233829c44c98de58628474149e0": {
          "model_module": "@jupyter-widgets/controls",
          "model_name": "DescriptionStyleModel",
          "model_module_version": "1.5.0",
          "state": {
            "_model_module": "@jupyter-widgets/controls",
            "_model_module_version": "1.5.0",
            "_model_name": "DescriptionStyleModel",
            "_view_count": null,
            "_view_module": "@jupyter-widgets/base",
            "_view_module_version": "1.2.0",
            "_view_name": "StyleView",
            "description_width": ""
          }
        },
        "6a41f3273c4c44769b72adbc0e8a4e9b": {
          "model_module": "@jupyter-widgets/controls",
          "model_name": "HBoxModel",
          "model_module_version": "1.5.0",
          "state": {
            "_dom_classes": [],
            "_model_module": "@jupyter-widgets/controls",
            "_model_module_version": "1.5.0",
            "_model_name": "HBoxModel",
            "_view_count": null,
            "_view_module": "@jupyter-widgets/controls",
            "_view_module_version": "1.5.0",
            "_view_name": "HBoxView",
            "box_style": "",
            "children": [
              "IPY_MODEL_823d19c753eb4887a33bf87d4bd781fd",
              "IPY_MODEL_e5c0037e865b42bd9fd07aa6f109154f",
              "IPY_MODEL_91952bbe4043414ea2cb0856c055930f"
            ],
            "layout": "IPY_MODEL_dd3573523952464e8a22068d2806d426"
          }
        },
        "823d19c753eb4887a33bf87d4bd781fd": {
          "model_module": "@jupyter-widgets/controls",
          "model_name": "HTMLModel",
          "model_module_version": "1.5.0",
          "state": {
            "_dom_classes": [],
            "_model_module": "@jupyter-widgets/controls",
            "_model_module_version": "1.5.0",
            "_model_name": "HTMLModel",
            "_view_count": null,
            "_view_module": "@jupyter-widgets/controls",
            "_view_module_version": "1.5.0",
            "_view_name": "HTMLView",
            "description": "",
            "description_tooltip": null,
            "layout": "IPY_MODEL_3032ad026ba04b27837b691ea49b8117",
            "placeholder": "​",
            "style": "IPY_MODEL_52527767e6da43f9a6c25c5d9cba0ae5",
            "value": "Train - Loss: 1.904:   4%"
          }
        },
        "e5c0037e865b42bd9fd07aa6f109154f": {
          "model_module": "@jupyter-widgets/controls",
          "model_name": "FloatProgressModel",
          "model_module_version": "1.5.0",
          "state": {
            "_dom_classes": [],
            "_model_module": "@jupyter-widgets/controls",
            "_model_module_version": "1.5.0",
            "_model_name": "FloatProgressModel",
            "_view_count": null,
            "_view_module": "@jupyter-widgets/controls",
            "_view_module_version": "1.5.0",
            "_view_name": "ProgressView",
            "bar_style": "danger",
            "description": "",
            "description_tooltip": null,
            "layout": "IPY_MODEL_b2164a8edf394a2f9f2a31663f199370",
            "max": 2709,
            "min": 0,
            "orientation": "horizontal",
            "style": "IPY_MODEL_09516624a33243f6911de2bda668f3cd",
            "value": 95
          }
        },
        "91952bbe4043414ea2cb0856c055930f": {
          "model_module": "@jupyter-widgets/controls",
          "model_name": "HTMLModel",
          "model_module_version": "1.5.0",
          "state": {
            "_dom_classes": [],
            "_model_module": "@jupyter-widgets/controls",
            "_model_module_version": "1.5.0",
            "_model_name": "HTMLModel",
            "_view_count": null,
            "_view_module": "@jupyter-widgets/controls",
            "_view_module_version": "1.5.0",
            "_view_name": "HTMLView",
            "description": "",
            "description_tooltip": null,
            "layout": "IPY_MODEL_6b370e66527f4464910fe4a75105dc7e",
            "placeholder": "​",
            "style": "IPY_MODEL_9cc7449b4cf642eba068aa289fa2d369",
            "value": " 95/2709 [01:18&lt;08:29,  5.13it/s]"
          }
        },
        "dd3573523952464e8a22068d2806d426": {
          "model_module": "@jupyter-widgets/base",
          "model_name": "LayoutModel",
          "model_module_version": "1.2.0",
          "state": {
            "_model_module": "@jupyter-widgets/base",
            "_model_module_version": "1.2.0",
            "_model_name": "LayoutModel",
            "_view_count": null,
            "_view_module": "@jupyter-widgets/base",
            "_view_module_version": "1.2.0",
            "_view_name": "LayoutView",
            "align_content": null,
            "align_items": null,
            "align_self": null,
            "border": null,
            "bottom": null,
            "display": null,
            "flex": null,
            "flex_flow": null,
            "grid_area": null,
            "grid_auto_columns": null,
            "grid_auto_flow": null,
            "grid_auto_rows": null,
            "grid_column": null,
            "grid_gap": null,
            "grid_row": null,
            "grid_template_areas": null,
            "grid_template_columns": null,
            "grid_template_rows": null,
            "height": null,
            "justify_content": null,
            "justify_items": null,
            "left": null,
            "margin": null,
            "max_height": null,
            "max_width": null,
            "min_height": null,
            "min_width": null,
            "object_fit": null,
            "object_position": null,
            "order": null,
            "overflow": null,
            "overflow_x": null,
            "overflow_y": null,
            "padding": null,
            "right": null,
            "top": null,
            "visibility": null,
            "width": null
          }
        },
        "3032ad026ba04b27837b691ea49b8117": {
          "model_module": "@jupyter-widgets/base",
          "model_name": "LayoutModel",
          "model_module_version": "1.2.0",
          "state": {
            "_model_module": "@jupyter-widgets/base",
            "_model_module_version": "1.2.0",
            "_model_name": "LayoutModel",
            "_view_count": null,
            "_view_module": "@jupyter-widgets/base",
            "_view_module_version": "1.2.0",
            "_view_name": "LayoutView",
            "align_content": null,
            "align_items": null,
            "align_self": null,
            "border": null,
            "bottom": null,
            "display": null,
            "flex": null,
            "flex_flow": null,
            "grid_area": null,
            "grid_auto_columns": null,
            "grid_auto_flow": null,
            "grid_auto_rows": null,
            "grid_column": null,
            "grid_gap": null,
            "grid_row": null,
            "grid_template_areas": null,
            "grid_template_columns": null,
            "grid_template_rows": null,
            "height": null,
            "justify_content": null,
            "justify_items": null,
            "left": null,
            "margin": null,
            "max_height": null,
            "max_width": null,
            "min_height": null,
            "min_width": null,
            "object_fit": null,
            "object_position": null,
            "order": null,
            "overflow": null,
            "overflow_x": null,
            "overflow_y": null,
            "padding": null,
            "right": null,
            "top": null,
            "visibility": null,
            "width": null
          }
        },
        "52527767e6da43f9a6c25c5d9cba0ae5": {
          "model_module": "@jupyter-widgets/controls",
          "model_name": "DescriptionStyleModel",
          "model_module_version": "1.5.0",
          "state": {
            "_model_module": "@jupyter-widgets/controls",
            "_model_module_version": "1.5.0",
            "_model_name": "DescriptionStyleModel",
            "_view_count": null,
            "_view_module": "@jupyter-widgets/base",
            "_view_module_version": "1.2.0",
            "_view_name": "StyleView",
            "description_width": ""
          }
        },
        "b2164a8edf394a2f9f2a31663f199370": {
          "model_module": "@jupyter-widgets/base",
          "model_name": "LayoutModel",
          "model_module_version": "1.2.0",
          "state": {
            "_model_module": "@jupyter-widgets/base",
            "_model_module_version": "1.2.0",
            "_model_name": "LayoutModel",
            "_view_count": null,
            "_view_module": "@jupyter-widgets/base",
            "_view_module_version": "1.2.0",
            "_view_name": "LayoutView",
            "align_content": null,
            "align_items": null,
            "align_self": null,
            "border": null,
            "bottom": null,
            "display": null,
            "flex": null,
            "flex_flow": null,
            "grid_area": null,
            "grid_auto_columns": null,
            "grid_auto_flow": null,
            "grid_auto_rows": null,
            "grid_column": null,
            "grid_gap": null,
            "grid_row": null,
            "grid_template_areas": null,
            "grid_template_columns": null,
            "grid_template_rows": null,
            "height": null,
            "justify_content": null,
            "justify_items": null,
            "left": null,
            "margin": null,
            "max_height": null,
            "max_width": null,
            "min_height": null,
            "min_width": null,
            "object_fit": null,
            "object_position": null,
            "order": null,
            "overflow": null,
            "overflow_x": null,
            "overflow_y": null,
            "padding": null,
            "right": null,
            "top": null,
            "visibility": null,
            "width": null
          }
        },
        "09516624a33243f6911de2bda668f3cd": {
          "model_module": "@jupyter-widgets/controls",
          "model_name": "ProgressStyleModel",
          "model_module_version": "1.5.0",
          "state": {
            "_model_module": "@jupyter-widgets/controls",
            "_model_module_version": "1.5.0",
            "_model_name": "ProgressStyleModel",
            "_view_count": null,
            "_view_module": "@jupyter-widgets/base",
            "_view_module_version": "1.2.0",
            "_view_name": "StyleView",
            "bar_color": null,
            "description_width": ""
          }
        },
        "6b370e66527f4464910fe4a75105dc7e": {
          "model_module": "@jupyter-widgets/base",
          "model_name": "LayoutModel",
          "model_module_version": "1.2.0",
          "state": {
            "_model_module": "@jupyter-widgets/base",
            "_model_module_version": "1.2.0",
            "_model_name": "LayoutModel",
            "_view_count": null,
            "_view_module": "@jupyter-widgets/base",
            "_view_module_version": "1.2.0",
            "_view_name": "LayoutView",
            "align_content": null,
            "align_items": null,
            "align_self": null,
            "border": null,
            "bottom": null,
            "display": null,
            "flex": null,
            "flex_flow": null,
            "grid_area": null,
            "grid_auto_columns": null,
            "grid_auto_flow": null,
            "grid_auto_rows": null,
            "grid_column": null,
            "grid_gap": null,
            "grid_row": null,
            "grid_template_areas": null,
            "grid_template_columns": null,
            "grid_template_rows": null,
            "height": null,
            "justify_content": null,
            "justify_items": null,
            "left": null,
            "margin": null,
            "max_height": null,
            "max_width": null,
            "min_height": null,
            "min_width": null,
            "object_fit": null,
            "object_position": null,
            "order": null,
            "overflow": null,
            "overflow_x": null,
            "overflow_y": null,
            "padding": null,
            "right": null,
            "top": null,
            "visibility": null,
            "width": null
          }
        },
        "9cc7449b4cf642eba068aa289fa2d369": {
          "model_module": "@jupyter-widgets/controls",
          "model_name": "DescriptionStyleModel",
          "model_module_version": "1.5.0",
          "state": {
            "_model_module": "@jupyter-widgets/controls",
            "_model_module_version": "1.5.0",
            "_model_name": "DescriptionStyleModel",
            "_view_count": null,
            "_view_module": "@jupyter-widgets/base",
            "_view_module_version": "1.2.0",
            "_view_name": "StyleView",
            "description_width": ""
          }
        },
        "5b8debb1fd4742dc81cf2143fd2774a1": {
          "model_module": "@jupyter-widgets/controls",
          "model_name": "HBoxModel",
          "model_module_version": "1.5.0",
          "state": {
            "_dom_classes": [],
            "_model_module": "@jupyter-widgets/controls",
            "_model_module_version": "1.5.0",
            "_model_name": "HBoxModel",
            "_view_count": null,
            "_view_module": "@jupyter-widgets/controls",
            "_view_module_version": "1.5.0",
            "_view_name": "HBoxView",
            "box_style": "",
            "children": [
              "IPY_MODEL_80431da407424632850469ce1214d47f",
              "IPY_MODEL_6b24ecf30b5f432caea5f999362963d0",
              "IPY_MODEL_68f633a0098b4dedb57e6c84f6249766"
            ],
            "layout": "IPY_MODEL_51f1100ae6aa4c7abe780aa1ce6800fa"
          }
        },
        "80431da407424632850469ce1214d47f": {
          "model_module": "@jupyter-widgets/controls",
          "model_name": "HTMLModel",
          "model_module_version": "1.5.0",
          "state": {
            "_dom_classes": [],
            "_model_module": "@jupyter-widgets/controls",
            "_model_module_version": "1.5.0",
            "_model_name": "HTMLModel",
            "_view_count": null,
            "_view_module": "@jupyter-widgets/controls",
            "_view_module_version": "1.5.0",
            "_view_name": "HTMLView",
            "description": "",
            "description_tooltip": null,
            "layout": "IPY_MODEL_da961b41961844609c5813e780807f1f",
            "placeholder": "​",
            "style": "IPY_MODEL_21b0d7cccbb54fa1b4b74a97a6d197be",
            "value": "Train - Loss: 1.746:   4%"
          }
        },
        "6b24ecf30b5f432caea5f999362963d0": {
          "model_module": "@jupyter-widgets/controls",
          "model_name": "FloatProgressModel",
          "model_module_version": "1.5.0",
          "state": {
            "_dom_classes": [],
            "_model_module": "@jupyter-widgets/controls",
            "_model_module_version": "1.5.0",
            "_model_name": "FloatProgressModel",
            "_view_count": null,
            "_view_module": "@jupyter-widgets/controls",
            "_view_module_version": "1.5.0",
            "_view_name": "ProgressView",
            "bar_style": "danger",
            "description": "",
            "description_tooltip": null,
            "layout": "IPY_MODEL_83b49d307dbe4a87afa78a4edbc3d82b",
            "max": 2709,
            "min": 0,
            "orientation": "horizontal",
            "style": "IPY_MODEL_bd5de27fcdb341ce8b6ca9aafefcd961",
            "value": 95
          }
        },
        "68f633a0098b4dedb57e6c84f6249766": {
          "model_module": "@jupyter-widgets/controls",
          "model_name": "HTMLModel",
          "model_module_version": "1.5.0",
          "state": {
            "_dom_classes": [],
            "_model_module": "@jupyter-widgets/controls",
            "_model_module_version": "1.5.0",
            "_model_name": "HTMLModel",
            "_view_count": null,
            "_view_module": "@jupyter-widgets/controls",
            "_view_module_version": "1.5.0",
            "_view_name": "HTMLView",
            "description": "",
            "description_tooltip": null,
            "layout": "IPY_MODEL_9d39960dc4d747f2a69c72db6bce43de",
            "placeholder": "​",
            "style": "IPY_MODEL_a3092bbdea494837bd6bce445c4cdd9d",
            "value": " 95/2709 [01:19&lt;08:36,  5.06it/s]"
          }
        },
        "51f1100ae6aa4c7abe780aa1ce6800fa": {
          "model_module": "@jupyter-widgets/base",
          "model_name": "LayoutModel",
          "model_module_version": "1.2.0",
          "state": {
            "_model_module": "@jupyter-widgets/base",
            "_model_module_version": "1.2.0",
            "_model_name": "LayoutModel",
            "_view_count": null,
            "_view_module": "@jupyter-widgets/base",
            "_view_module_version": "1.2.0",
            "_view_name": "LayoutView",
            "align_content": null,
            "align_items": null,
            "align_self": null,
            "border": null,
            "bottom": null,
            "display": null,
            "flex": null,
            "flex_flow": null,
            "grid_area": null,
            "grid_auto_columns": null,
            "grid_auto_flow": null,
            "grid_auto_rows": null,
            "grid_column": null,
            "grid_gap": null,
            "grid_row": null,
            "grid_template_areas": null,
            "grid_template_columns": null,
            "grid_template_rows": null,
            "height": null,
            "justify_content": null,
            "justify_items": null,
            "left": null,
            "margin": null,
            "max_height": null,
            "max_width": null,
            "min_height": null,
            "min_width": null,
            "object_fit": null,
            "object_position": null,
            "order": null,
            "overflow": null,
            "overflow_x": null,
            "overflow_y": null,
            "padding": null,
            "right": null,
            "top": null,
            "visibility": null,
            "width": null
          }
        },
        "da961b41961844609c5813e780807f1f": {
          "model_module": "@jupyter-widgets/base",
          "model_name": "LayoutModel",
          "model_module_version": "1.2.0",
          "state": {
            "_model_module": "@jupyter-widgets/base",
            "_model_module_version": "1.2.0",
            "_model_name": "LayoutModel",
            "_view_count": null,
            "_view_module": "@jupyter-widgets/base",
            "_view_module_version": "1.2.0",
            "_view_name": "LayoutView",
            "align_content": null,
            "align_items": null,
            "align_self": null,
            "border": null,
            "bottom": null,
            "display": null,
            "flex": null,
            "flex_flow": null,
            "grid_area": null,
            "grid_auto_columns": null,
            "grid_auto_flow": null,
            "grid_auto_rows": null,
            "grid_column": null,
            "grid_gap": null,
            "grid_row": null,
            "grid_template_areas": null,
            "grid_template_columns": null,
            "grid_template_rows": null,
            "height": null,
            "justify_content": null,
            "justify_items": null,
            "left": null,
            "margin": null,
            "max_height": null,
            "max_width": null,
            "min_height": null,
            "min_width": null,
            "object_fit": null,
            "object_position": null,
            "order": null,
            "overflow": null,
            "overflow_x": null,
            "overflow_y": null,
            "padding": null,
            "right": null,
            "top": null,
            "visibility": null,
            "width": null
          }
        },
        "21b0d7cccbb54fa1b4b74a97a6d197be": {
          "model_module": "@jupyter-widgets/controls",
          "model_name": "DescriptionStyleModel",
          "model_module_version": "1.5.0",
          "state": {
            "_model_module": "@jupyter-widgets/controls",
            "_model_module_version": "1.5.0",
            "_model_name": "DescriptionStyleModel",
            "_view_count": null,
            "_view_module": "@jupyter-widgets/base",
            "_view_module_version": "1.2.0",
            "_view_name": "StyleView",
            "description_width": ""
          }
        },
        "83b49d307dbe4a87afa78a4edbc3d82b": {
          "model_module": "@jupyter-widgets/base",
          "model_name": "LayoutModel",
          "model_module_version": "1.2.0",
          "state": {
            "_model_module": "@jupyter-widgets/base",
            "_model_module_version": "1.2.0",
            "_model_name": "LayoutModel",
            "_view_count": null,
            "_view_module": "@jupyter-widgets/base",
            "_view_module_version": "1.2.0",
            "_view_name": "LayoutView",
            "align_content": null,
            "align_items": null,
            "align_self": null,
            "border": null,
            "bottom": null,
            "display": null,
            "flex": null,
            "flex_flow": null,
            "grid_area": null,
            "grid_auto_columns": null,
            "grid_auto_flow": null,
            "grid_auto_rows": null,
            "grid_column": null,
            "grid_gap": null,
            "grid_row": null,
            "grid_template_areas": null,
            "grid_template_columns": null,
            "grid_template_rows": null,
            "height": null,
            "justify_content": null,
            "justify_items": null,
            "left": null,
            "margin": null,
            "max_height": null,
            "max_width": null,
            "min_height": null,
            "min_width": null,
            "object_fit": null,
            "object_position": null,
            "order": null,
            "overflow": null,
            "overflow_x": null,
            "overflow_y": null,
            "padding": null,
            "right": null,
            "top": null,
            "visibility": null,
            "width": null
          }
        },
        "bd5de27fcdb341ce8b6ca9aafefcd961": {
          "model_module": "@jupyter-widgets/controls",
          "model_name": "ProgressStyleModel",
          "model_module_version": "1.5.0",
          "state": {
            "_model_module": "@jupyter-widgets/controls",
            "_model_module_version": "1.5.0",
            "_model_name": "ProgressStyleModel",
            "_view_count": null,
            "_view_module": "@jupyter-widgets/base",
            "_view_module_version": "1.2.0",
            "_view_name": "StyleView",
            "bar_color": null,
            "description_width": ""
          }
        },
        "9d39960dc4d747f2a69c72db6bce43de": {
          "model_module": "@jupyter-widgets/base",
          "model_name": "LayoutModel",
          "model_module_version": "1.2.0",
          "state": {
            "_model_module": "@jupyter-widgets/base",
            "_model_module_version": "1.2.0",
            "_model_name": "LayoutModel",
            "_view_count": null,
            "_view_module": "@jupyter-widgets/base",
            "_view_module_version": "1.2.0",
            "_view_name": "LayoutView",
            "align_content": null,
            "align_items": null,
            "align_self": null,
            "border": null,
            "bottom": null,
            "display": null,
            "flex": null,
            "flex_flow": null,
            "grid_area": null,
            "grid_auto_columns": null,
            "grid_auto_flow": null,
            "grid_auto_rows": null,
            "grid_column": null,
            "grid_gap": null,
            "grid_row": null,
            "grid_template_areas": null,
            "grid_template_columns": null,
            "grid_template_rows": null,
            "height": null,
            "justify_content": null,
            "justify_items": null,
            "left": null,
            "margin": null,
            "max_height": null,
            "max_width": null,
            "min_height": null,
            "min_width": null,
            "object_fit": null,
            "object_position": null,
            "order": null,
            "overflow": null,
            "overflow_x": null,
            "overflow_y": null,
            "padding": null,
            "right": null,
            "top": null,
            "visibility": null,
            "width": null
          }
        },
        "a3092bbdea494837bd6bce445c4cdd9d": {
          "model_module": "@jupyter-widgets/controls",
          "model_name": "DescriptionStyleModel",
          "model_module_version": "1.5.0",
          "state": {
            "_model_module": "@jupyter-widgets/controls",
            "_model_module_version": "1.5.0",
            "_model_name": "DescriptionStyleModel",
            "_view_count": null,
            "_view_module": "@jupyter-widgets/base",
            "_view_module_version": "1.2.0",
            "_view_name": "StyleView",
            "description_width": ""
          }
        },
        "c32db8f7e3074f66b786f6021a938432": {
          "model_module": "@jupyter-widgets/controls",
          "model_name": "HBoxModel",
          "model_module_version": "1.5.0",
          "state": {
            "_dom_classes": [],
            "_model_module": "@jupyter-widgets/controls",
            "_model_module_version": "1.5.0",
            "_model_name": "HBoxModel",
            "_view_count": null,
            "_view_module": "@jupyter-widgets/controls",
            "_view_module_version": "1.5.0",
            "_view_name": "HBoxView",
            "box_style": "",
            "children": [
              "IPY_MODEL_b62ab9d988c845f898ebb51e2dd70d34",
              "IPY_MODEL_bcb7b82bfa9e4afbad6e833867da0a58",
              "IPY_MODEL_ea43365548b84bfb84851f80781c3ba1"
            ],
            "layout": "IPY_MODEL_b5f8c5e240e44f3baa83fb4ddb1fb657"
          }
        },
        "b62ab9d988c845f898ebb51e2dd70d34": {
          "model_module": "@jupyter-widgets/controls",
          "model_name": "HTMLModel",
          "model_module_version": "1.5.0",
          "state": {
            "_dom_classes": [],
            "_model_module": "@jupyter-widgets/controls",
            "_model_module_version": "1.5.0",
            "_model_name": "HTMLModel",
            "_view_count": null,
            "_view_module": "@jupyter-widgets/controls",
            "_view_module_version": "1.5.0",
            "_view_name": "HTMLView",
            "description": "",
            "description_tooltip": null,
            "layout": "IPY_MODEL_888360d9e398462ab1b564c98e860abd",
            "placeholder": "​",
            "style": "IPY_MODEL_be5d3c53112b470a9b6e5c7cfa1e6147",
            "value": "Train - Loss: 1.901:   4%"
          }
        },
        "bcb7b82bfa9e4afbad6e833867da0a58": {
          "model_module": "@jupyter-widgets/controls",
          "model_name": "FloatProgressModel",
          "model_module_version": "1.5.0",
          "state": {
            "_dom_classes": [],
            "_model_module": "@jupyter-widgets/controls",
            "_model_module_version": "1.5.0",
            "_model_name": "FloatProgressModel",
            "_view_count": null,
            "_view_module": "@jupyter-widgets/controls",
            "_view_module_version": "1.5.0",
            "_view_name": "ProgressView",
            "bar_style": "danger",
            "description": "",
            "description_tooltip": null,
            "layout": "IPY_MODEL_2f3d9a70d0594f5b9eb00e37bceb26b4",
            "max": 2709,
            "min": 0,
            "orientation": "horizontal",
            "style": "IPY_MODEL_a05962030e524cbcbbe11667529bfec0",
            "value": 95
          }
        },
        "ea43365548b84bfb84851f80781c3ba1": {
          "model_module": "@jupyter-widgets/controls",
          "model_name": "HTMLModel",
          "model_module_version": "1.5.0",
          "state": {
            "_dom_classes": [],
            "_model_module": "@jupyter-widgets/controls",
            "_model_module_version": "1.5.0",
            "_model_name": "HTMLModel",
            "_view_count": null,
            "_view_module": "@jupyter-widgets/controls",
            "_view_module_version": "1.5.0",
            "_view_name": "HTMLView",
            "description": "",
            "description_tooltip": null,
            "layout": "IPY_MODEL_2e3680ce0ce74cbca221d670e3573c4d",
            "placeholder": "​",
            "style": "IPY_MODEL_cb3fcebe74e74cc8878546b5a4b28fcc",
            "value": " 95/2709 [01:20&lt;08:56,  4.88it/s]"
          }
        },
        "b5f8c5e240e44f3baa83fb4ddb1fb657": {
          "model_module": "@jupyter-widgets/base",
          "model_name": "LayoutModel",
          "model_module_version": "1.2.0",
          "state": {
            "_model_module": "@jupyter-widgets/base",
            "_model_module_version": "1.2.0",
            "_model_name": "LayoutModel",
            "_view_count": null,
            "_view_module": "@jupyter-widgets/base",
            "_view_module_version": "1.2.0",
            "_view_name": "LayoutView",
            "align_content": null,
            "align_items": null,
            "align_self": null,
            "border": null,
            "bottom": null,
            "display": null,
            "flex": null,
            "flex_flow": null,
            "grid_area": null,
            "grid_auto_columns": null,
            "grid_auto_flow": null,
            "grid_auto_rows": null,
            "grid_column": null,
            "grid_gap": null,
            "grid_row": null,
            "grid_template_areas": null,
            "grid_template_columns": null,
            "grid_template_rows": null,
            "height": null,
            "justify_content": null,
            "justify_items": null,
            "left": null,
            "margin": null,
            "max_height": null,
            "max_width": null,
            "min_height": null,
            "min_width": null,
            "object_fit": null,
            "object_position": null,
            "order": null,
            "overflow": null,
            "overflow_x": null,
            "overflow_y": null,
            "padding": null,
            "right": null,
            "top": null,
            "visibility": null,
            "width": null
          }
        },
        "888360d9e398462ab1b564c98e860abd": {
          "model_module": "@jupyter-widgets/base",
          "model_name": "LayoutModel",
          "model_module_version": "1.2.0",
          "state": {
            "_model_module": "@jupyter-widgets/base",
            "_model_module_version": "1.2.0",
            "_model_name": "LayoutModel",
            "_view_count": null,
            "_view_module": "@jupyter-widgets/base",
            "_view_module_version": "1.2.0",
            "_view_name": "LayoutView",
            "align_content": null,
            "align_items": null,
            "align_self": null,
            "border": null,
            "bottom": null,
            "display": null,
            "flex": null,
            "flex_flow": null,
            "grid_area": null,
            "grid_auto_columns": null,
            "grid_auto_flow": null,
            "grid_auto_rows": null,
            "grid_column": null,
            "grid_gap": null,
            "grid_row": null,
            "grid_template_areas": null,
            "grid_template_columns": null,
            "grid_template_rows": null,
            "height": null,
            "justify_content": null,
            "justify_items": null,
            "left": null,
            "margin": null,
            "max_height": null,
            "max_width": null,
            "min_height": null,
            "min_width": null,
            "object_fit": null,
            "object_position": null,
            "order": null,
            "overflow": null,
            "overflow_x": null,
            "overflow_y": null,
            "padding": null,
            "right": null,
            "top": null,
            "visibility": null,
            "width": null
          }
        },
        "be5d3c53112b470a9b6e5c7cfa1e6147": {
          "model_module": "@jupyter-widgets/controls",
          "model_name": "DescriptionStyleModel",
          "model_module_version": "1.5.0",
          "state": {
            "_model_module": "@jupyter-widgets/controls",
            "_model_module_version": "1.5.0",
            "_model_name": "DescriptionStyleModel",
            "_view_count": null,
            "_view_module": "@jupyter-widgets/base",
            "_view_module_version": "1.2.0",
            "_view_name": "StyleView",
            "description_width": ""
          }
        },
        "2f3d9a70d0594f5b9eb00e37bceb26b4": {
          "model_module": "@jupyter-widgets/base",
          "model_name": "LayoutModel",
          "model_module_version": "1.2.0",
          "state": {
            "_model_module": "@jupyter-widgets/base",
            "_model_module_version": "1.2.0",
            "_model_name": "LayoutModel",
            "_view_count": null,
            "_view_module": "@jupyter-widgets/base",
            "_view_module_version": "1.2.0",
            "_view_name": "LayoutView",
            "align_content": null,
            "align_items": null,
            "align_self": null,
            "border": null,
            "bottom": null,
            "display": null,
            "flex": null,
            "flex_flow": null,
            "grid_area": null,
            "grid_auto_columns": null,
            "grid_auto_flow": null,
            "grid_auto_rows": null,
            "grid_column": null,
            "grid_gap": null,
            "grid_row": null,
            "grid_template_areas": null,
            "grid_template_columns": null,
            "grid_template_rows": null,
            "height": null,
            "justify_content": null,
            "justify_items": null,
            "left": null,
            "margin": null,
            "max_height": null,
            "max_width": null,
            "min_height": null,
            "min_width": null,
            "object_fit": null,
            "object_position": null,
            "order": null,
            "overflow": null,
            "overflow_x": null,
            "overflow_y": null,
            "padding": null,
            "right": null,
            "top": null,
            "visibility": null,
            "width": null
          }
        },
        "a05962030e524cbcbbe11667529bfec0": {
          "model_module": "@jupyter-widgets/controls",
          "model_name": "ProgressStyleModel",
          "model_module_version": "1.5.0",
          "state": {
            "_model_module": "@jupyter-widgets/controls",
            "_model_module_version": "1.5.0",
            "_model_name": "ProgressStyleModel",
            "_view_count": null,
            "_view_module": "@jupyter-widgets/base",
            "_view_module_version": "1.2.0",
            "_view_name": "StyleView",
            "bar_color": null,
            "description_width": ""
          }
        },
        "2e3680ce0ce74cbca221d670e3573c4d": {
          "model_module": "@jupyter-widgets/base",
          "model_name": "LayoutModel",
          "model_module_version": "1.2.0",
          "state": {
            "_model_module": "@jupyter-widgets/base",
            "_model_module_version": "1.2.0",
            "_model_name": "LayoutModel",
            "_view_count": null,
            "_view_module": "@jupyter-widgets/base",
            "_view_module_version": "1.2.0",
            "_view_name": "LayoutView",
            "align_content": null,
            "align_items": null,
            "align_self": null,
            "border": null,
            "bottom": null,
            "display": null,
            "flex": null,
            "flex_flow": null,
            "grid_area": null,
            "grid_auto_columns": null,
            "grid_auto_flow": null,
            "grid_auto_rows": null,
            "grid_column": null,
            "grid_gap": null,
            "grid_row": null,
            "grid_template_areas": null,
            "grid_template_columns": null,
            "grid_template_rows": null,
            "height": null,
            "justify_content": null,
            "justify_items": null,
            "left": null,
            "margin": null,
            "max_height": null,
            "max_width": null,
            "min_height": null,
            "min_width": null,
            "object_fit": null,
            "object_position": null,
            "order": null,
            "overflow": null,
            "overflow_x": null,
            "overflow_y": null,
            "padding": null,
            "right": null,
            "top": null,
            "visibility": null,
            "width": null
          }
        },
        "cb3fcebe74e74cc8878546b5a4b28fcc": {
          "model_module": "@jupyter-widgets/controls",
          "model_name": "DescriptionStyleModel",
          "model_module_version": "1.5.0",
          "state": {
            "_model_module": "@jupyter-widgets/controls",
            "_model_module_version": "1.5.0",
            "_model_name": "DescriptionStyleModel",
            "_view_count": null,
            "_view_module": "@jupyter-widgets/base",
            "_view_module_version": "1.2.0",
            "_view_name": "StyleView",
            "description_width": ""
          }
        },
        "fb3706f9f46d4434a80d82bca4f7ab55": {
          "model_module": "@jupyter-widgets/controls",
          "model_name": "HBoxModel",
          "model_module_version": "1.5.0",
          "state": {
            "_dom_classes": [],
            "_model_module": "@jupyter-widgets/controls",
            "_model_module_version": "1.5.0",
            "_model_name": "HBoxModel",
            "_view_count": null,
            "_view_module": "@jupyter-widgets/controls",
            "_view_module_version": "1.5.0",
            "_view_name": "HBoxView",
            "box_style": "",
            "children": [
              "IPY_MODEL_cc46214bf94b4897b43d086d29a96ebf",
              "IPY_MODEL_28041215baf94c3cb2e3d48192f71a91",
              "IPY_MODEL_574091f2487244b5aabf3dd26cc4ab3d"
            ],
            "layout": "IPY_MODEL_0de034d7c8bb4241987dd2bca2a920f1"
          }
        },
        "cc46214bf94b4897b43d086d29a96ebf": {
          "model_module": "@jupyter-widgets/controls",
          "model_name": "HTMLModel",
          "model_module_version": "1.5.0",
          "state": {
            "_dom_classes": [],
            "_model_module": "@jupyter-widgets/controls",
            "_model_module_version": "1.5.0",
            "_model_name": "HTMLModel",
            "_view_count": null,
            "_view_module": "@jupyter-widgets/controls",
            "_view_module_version": "1.5.0",
            "_view_name": "HTMLView",
            "description": "",
            "description_tooltip": null,
            "layout": "IPY_MODEL_36ac6fcbfe784c419f02a6ffcb2f5303",
            "placeholder": "​",
            "style": "IPY_MODEL_805fbb67de2f46e0b3960774bcfd3abc",
            "value": "100%"
          }
        },
        "28041215baf94c3cb2e3d48192f71a91": {
          "model_module": "@jupyter-widgets/controls",
          "model_name": "FloatProgressModel",
          "model_module_version": "1.5.0",
          "state": {
            "_dom_classes": [],
            "_model_module": "@jupyter-widgets/controls",
            "_model_module_version": "1.5.0",
            "_model_name": "FloatProgressModel",
            "_view_count": null,
            "_view_module": "@jupyter-widgets/controls",
            "_view_module_version": "1.5.0",
            "_view_name": "ProgressView",
            "bar_style": "success",
            "description": "",
            "description_tooltip": null,
            "layout": "IPY_MODEL_1dc3316a17db4a6392fca4090f72ca68",
            "max": 1203,
            "min": 0,
            "orientation": "horizontal",
            "style": "IPY_MODEL_b2d1bec3d75c4aefb9c5c17f43f14843",
            "value": 1203
          }
        },
        "574091f2487244b5aabf3dd26cc4ab3d": {
          "model_module": "@jupyter-widgets/controls",
          "model_name": "HTMLModel",
          "model_module_version": "1.5.0",
          "state": {
            "_dom_classes": [],
            "_model_module": "@jupyter-widgets/controls",
            "_model_module_version": "1.5.0",
            "_model_name": "HTMLModel",
            "_view_count": null,
            "_view_module": "@jupyter-widgets/controls",
            "_view_module_version": "1.5.0",
            "_view_name": "HTMLView",
            "description": "",
            "description_tooltip": null,
            "layout": "IPY_MODEL_f43480cd8adc4a5ba61bda819d883cd9",
            "placeholder": "​",
            "style": "IPY_MODEL_f7b074ecdbd64a6e8ddee0e478fc554a",
            "value": " 1203/1203 [01:50&lt;00:00, 10.48it/s]"
          }
        },
        "0de034d7c8bb4241987dd2bca2a920f1": {
          "model_module": "@jupyter-widgets/base",
          "model_name": "LayoutModel",
          "model_module_version": "1.2.0",
          "state": {
            "_model_module": "@jupyter-widgets/base",
            "_model_module_version": "1.2.0",
            "_model_name": "LayoutModel",
            "_view_count": null,
            "_view_module": "@jupyter-widgets/base",
            "_view_module_version": "1.2.0",
            "_view_name": "LayoutView",
            "align_content": null,
            "align_items": null,
            "align_self": null,
            "border": null,
            "bottom": null,
            "display": null,
            "flex": null,
            "flex_flow": null,
            "grid_area": null,
            "grid_auto_columns": null,
            "grid_auto_flow": null,
            "grid_auto_rows": null,
            "grid_column": null,
            "grid_gap": null,
            "grid_row": null,
            "grid_template_areas": null,
            "grid_template_columns": null,
            "grid_template_rows": null,
            "height": null,
            "justify_content": null,
            "justify_items": null,
            "left": null,
            "margin": null,
            "max_height": null,
            "max_width": null,
            "min_height": null,
            "min_width": null,
            "object_fit": null,
            "object_position": null,
            "order": null,
            "overflow": null,
            "overflow_x": null,
            "overflow_y": null,
            "padding": null,
            "right": null,
            "top": null,
            "visibility": null,
            "width": null
          }
        },
        "36ac6fcbfe784c419f02a6ffcb2f5303": {
          "model_module": "@jupyter-widgets/base",
          "model_name": "LayoutModel",
          "model_module_version": "1.2.0",
          "state": {
            "_model_module": "@jupyter-widgets/base",
            "_model_module_version": "1.2.0",
            "_model_name": "LayoutModel",
            "_view_count": null,
            "_view_module": "@jupyter-widgets/base",
            "_view_module_version": "1.2.0",
            "_view_name": "LayoutView",
            "align_content": null,
            "align_items": null,
            "align_self": null,
            "border": null,
            "bottom": null,
            "display": null,
            "flex": null,
            "flex_flow": null,
            "grid_area": null,
            "grid_auto_columns": null,
            "grid_auto_flow": null,
            "grid_auto_rows": null,
            "grid_column": null,
            "grid_gap": null,
            "grid_row": null,
            "grid_template_areas": null,
            "grid_template_columns": null,
            "grid_template_rows": null,
            "height": null,
            "justify_content": null,
            "justify_items": null,
            "left": null,
            "margin": null,
            "max_height": null,
            "max_width": null,
            "min_height": null,
            "min_width": null,
            "object_fit": null,
            "object_position": null,
            "order": null,
            "overflow": null,
            "overflow_x": null,
            "overflow_y": null,
            "padding": null,
            "right": null,
            "top": null,
            "visibility": null,
            "width": null
          }
        },
        "805fbb67de2f46e0b3960774bcfd3abc": {
          "model_module": "@jupyter-widgets/controls",
          "model_name": "DescriptionStyleModel",
          "model_module_version": "1.5.0",
          "state": {
            "_model_module": "@jupyter-widgets/controls",
            "_model_module_version": "1.5.0",
            "_model_name": "DescriptionStyleModel",
            "_view_count": null,
            "_view_module": "@jupyter-widgets/base",
            "_view_module_version": "1.2.0",
            "_view_name": "StyleView",
            "description_width": ""
          }
        },
        "1dc3316a17db4a6392fca4090f72ca68": {
          "model_module": "@jupyter-widgets/base",
          "model_name": "LayoutModel",
          "model_module_version": "1.2.0",
          "state": {
            "_model_module": "@jupyter-widgets/base",
            "_model_module_version": "1.2.0",
            "_model_name": "LayoutModel",
            "_view_count": null,
            "_view_module": "@jupyter-widgets/base",
            "_view_module_version": "1.2.0",
            "_view_name": "LayoutView",
            "align_content": null,
            "align_items": null,
            "align_self": null,
            "border": null,
            "bottom": null,
            "display": null,
            "flex": null,
            "flex_flow": null,
            "grid_area": null,
            "grid_auto_columns": null,
            "grid_auto_flow": null,
            "grid_auto_rows": null,
            "grid_column": null,
            "grid_gap": null,
            "grid_row": null,
            "grid_template_areas": null,
            "grid_template_columns": null,
            "grid_template_rows": null,
            "height": null,
            "justify_content": null,
            "justify_items": null,
            "left": null,
            "margin": null,
            "max_height": null,
            "max_width": null,
            "min_height": null,
            "min_width": null,
            "object_fit": null,
            "object_position": null,
            "order": null,
            "overflow": null,
            "overflow_x": null,
            "overflow_y": null,
            "padding": null,
            "right": null,
            "top": null,
            "visibility": null,
            "width": null
          }
        },
        "b2d1bec3d75c4aefb9c5c17f43f14843": {
          "model_module": "@jupyter-widgets/controls",
          "model_name": "ProgressStyleModel",
          "model_module_version": "1.5.0",
          "state": {
            "_model_module": "@jupyter-widgets/controls",
            "_model_module_version": "1.5.0",
            "_model_name": "ProgressStyleModel",
            "_view_count": null,
            "_view_module": "@jupyter-widgets/base",
            "_view_module_version": "1.2.0",
            "_view_name": "StyleView",
            "bar_color": null,
            "description_width": ""
          }
        },
        "f43480cd8adc4a5ba61bda819d883cd9": {
          "model_module": "@jupyter-widgets/base",
          "model_name": "LayoutModel",
          "model_module_version": "1.2.0",
          "state": {
            "_model_module": "@jupyter-widgets/base",
            "_model_module_version": "1.2.0",
            "_model_name": "LayoutModel",
            "_view_count": null,
            "_view_module": "@jupyter-widgets/base",
            "_view_module_version": "1.2.0",
            "_view_name": "LayoutView",
            "align_content": null,
            "align_items": null,
            "align_self": null,
            "border": null,
            "bottom": null,
            "display": null,
            "flex": null,
            "flex_flow": null,
            "grid_area": null,
            "grid_auto_columns": null,
            "grid_auto_flow": null,
            "grid_auto_rows": null,
            "grid_column": null,
            "grid_gap": null,
            "grid_row": null,
            "grid_template_areas": null,
            "grid_template_columns": null,
            "grid_template_rows": null,
            "height": null,
            "justify_content": null,
            "justify_items": null,
            "left": null,
            "margin": null,
            "max_height": null,
            "max_width": null,
            "min_height": null,
            "min_width": null,
            "object_fit": null,
            "object_position": null,
            "order": null,
            "overflow": null,
            "overflow_x": null,
            "overflow_y": null,
            "padding": null,
            "right": null,
            "top": null,
            "visibility": null,
            "width": null
          }
        },
        "f7b074ecdbd64a6e8ddee0e478fc554a": {
          "model_module": "@jupyter-widgets/controls",
          "model_name": "DescriptionStyleModel",
          "model_module_version": "1.5.0",
          "state": {
            "_model_module": "@jupyter-widgets/controls",
            "_model_module_version": "1.5.0",
            "_model_name": "DescriptionStyleModel",
            "_view_count": null,
            "_view_module": "@jupyter-widgets/base",
            "_view_module_version": "1.2.0",
            "_view_name": "StyleView",
            "description_width": ""
          }
        },
        "7eba7893cbe44476bc749b28113bde33": {
          "model_module": "@jupyter-widgets/controls",
          "model_name": "HBoxModel",
          "model_module_version": "1.5.0",
          "state": {
            "_dom_classes": [],
            "_model_module": "@jupyter-widgets/controls",
            "_model_module_version": "1.5.0",
            "_model_name": "HBoxModel",
            "_view_count": null,
            "_view_module": "@jupyter-widgets/controls",
            "_view_module_version": "1.5.0",
            "_view_name": "HBoxView",
            "box_style": "",
            "children": [
              "IPY_MODEL_66493e5927d1400684a1458bf2cd7b32",
              "IPY_MODEL_0a2cbdfa04e14df9941fce5abae78346",
              "IPY_MODEL_babeb4fe3cf5455a9da66cbf27378302"
            ],
            "layout": "IPY_MODEL_24d1ccf6b7c24363a55818cb14477051"
          }
        },
        "66493e5927d1400684a1458bf2cd7b32": {
          "model_module": "@jupyter-widgets/controls",
          "model_name": "HTMLModel",
          "model_module_version": "1.5.0",
          "state": {
            "_dom_classes": [],
            "_model_module": "@jupyter-widgets/controls",
            "_model_module_version": "1.5.0",
            "_model_name": "HTMLModel",
            "_view_count": null,
            "_view_module": "@jupyter-widgets/controls",
            "_view_module_version": "1.5.0",
            "_view_name": "HTMLView",
            "description": "",
            "description_tooltip": null,
            "layout": "IPY_MODEL_1367fb06b1df432b996e3442f881b42c",
            "placeholder": "​",
            "style": "IPY_MODEL_329541b4ecc546b4b7b63e68b8d33b01",
            "value": "Testing: 100%"
          }
        },
        "0a2cbdfa04e14df9941fce5abae78346": {
          "model_module": "@jupyter-widgets/controls",
          "model_name": "FloatProgressModel",
          "model_module_version": "1.5.0",
          "state": {
            "_dom_classes": [],
            "_model_module": "@jupyter-widgets/controls",
            "_model_module_version": "1.5.0",
            "_model_name": "FloatProgressModel",
            "_view_count": null,
            "_view_module": "@jupyter-widgets/controls",
            "_view_module_version": "1.5.0",
            "_view_name": "ProgressView",
            "bar_style": "success",
            "description": "",
            "description_tooltip": null,
            "layout": "IPY_MODEL_6c32f183697249b0ad1859185de6b1c4",
            "max": 4008,
            "min": 0,
            "orientation": "horizontal",
            "style": "IPY_MODEL_9833304c067e43c0be2b3e9cadcc13e3",
            "value": 4008
          }
        },
        "babeb4fe3cf5455a9da66cbf27378302": {
          "model_module": "@jupyter-widgets/controls",
          "model_name": "HTMLModel",
          "model_module_version": "1.5.0",
          "state": {
            "_dom_classes": [],
            "_model_module": "@jupyter-widgets/controls",
            "_model_module_version": "1.5.0",
            "_model_name": "HTMLModel",
            "_view_count": null,
            "_view_module": "@jupyter-widgets/controls",
            "_view_module_version": "1.5.0",
            "_view_name": "HTMLView",
            "description": "",
            "description_tooltip": null,
            "layout": "IPY_MODEL_e84a2140d0fe4e94acd0465f47451ea5",
            "placeholder": "​",
            "style": "IPY_MODEL_d5d9a0af0161470f8fb41b68bca52e0e",
            "value": " 4008/4008 [27:27&lt;00:00,  7.68it/s]"
          }
        },
        "24d1ccf6b7c24363a55818cb14477051": {
          "model_module": "@jupyter-widgets/base",
          "model_name": "LayoutModel",
          "model_module_version": "1.2.0",
          "state": {
            "_model_module": "@jupyter-widgets/base",
            "_model_module_version": "1.2.0",
            "_model_name": "LayoutModel",
            "_view_count": null,
            "_view_module": "@jupyter-widgets/base",
            "_view_module_version": "1.2.0",
            "_view_name": "LayoutView",
            "align_content": null,
            "align_items": null,
            "align_self": null,
            "border": null,
            "bottom": null,
            "display": null,
            "flex": null,
            "flex_flow": null,
            "grid_area": null,
            "grid_auto_columns": null,
            "grid_auto_flow": null,
            "grid_auto_rows": null,
            "grid_column": null,
            "grid_gap": null,
            "grid_row": null,
            "grid_template_areas": null,
            "grid_template_columns": null,
            "grid_template_rows": null,
            "height": null,
            "justify_content": null,
            "justify_items": null,
            "left": null,
            "margin": null,
            "max_height": null,
            "max_width": null,
            "min_height": null,
            "min_width": null,
            "object_fit": null,
            "object_position": null,
            "order": null,
            "overflow": null,
            "overflow_x": null,
            "overflow_y": null,
            "padding": null,
            "right": null,
            "top": null,
            "visibility": null,
            "width": null
          }
        },
        "1367fb06b1df432b996e3442f881b42c": {
          "model_module": "@jupyter-widgets/base",
          "model_name": "LayoutModel",
          "model_module_version": "1.2.0",
          "state": {
            "_model_module": "@jupyter-widgets/base",
            "_model_module_version": "1.2.0",
            "_model_name": "LayoutModel",
            "_view_count": null,
            "_view_module": "@jupyter-widgets/base",
            "_view_module_version": "1.2.0",
            "_view_name": "LayoutView",
            "align_content": null,
            "align_items": null,
            "align_self": null,
            "border": null,
            "bottom": null,
            "display": null,
            "flex": null,
            "flex_flow": null,
            "grid_area": null,
            "grid_auto_columns": null,
            "grid_auto_flow": null,
            "grid_auto_rows": null,
            "grid_column": null,
            "grid_gap": null,
            "grid_row": null,
            "grid_template_areas": null,
            "grid_template_columns": null,
            "grid_template_rows": null,
            "height": null,
            "justify_content": null,
            "justify_items": null,
            "left": null,
            "margin": null,
            "max_height": null,
            "max_width": null,
            "min_height": null,
            "min_width": null,
            "object_fit": null,
            "object_position": null,
            "order": null,
            "overflow": null,
            "overflow_x": null,
            "overflow_y": null,
            "padding": null,
            "right": null,
            "top": null,
            "visibility": null,
            "width": null
          }
        },
        "329541b4ecc546b4b7b63e68b8d33b01": {
          "model_module": "@jupyter-widgets/controls",
          "model_name": "DescriptionStyleModel",
          "model_module_version": "1.5.0",
          "state": {
            "_model_module": "@jupyter-widgets/controls",
            "_model_module_version": "1.5.0",
            "_model_name": "DescriptionStyleModel",
            "_view_count": null,
            "_view_module": "@jupyter-widgets/base",
            "_view_module_version": "1.2.0",
            "_view_name": "StyleView",
            "description_width": ""
          }
        },
        "6c32f183697249b0ad1859185de6b1c4": {
          "model_module": "@jupyter-widgets/base",
          "model_name": "LayoutModel",
          "model_module_version": "1.2.0",
          "state": {
            "_model_module": "@jupyter-widgets/base",
            "_model_module_version": "1.2.0",
            "_model_name": "LayoutModel",
            "_view_count": null,
            "_view_module": "@jupyter-widgets/base",
            "_view_module_version": "1.2.0",
            "_view_name": "LayoutView",
            "align_content": null,
            "align_items": null,
            "align_self": null,
            "border": null,
            "bottom": null,
            "display": null,
            "flex": null,
            "flex_flow": null,
            "grid_area": null,
            "grid_auto_columns": null,
            "grid_auto_flow": null,
            "grid_auto_rows": null,
            "grid_column": null,
            "grid_gap": null,
            "grid_row": null,
            "grid_template_areas": null,
            "grid_template_columns": null,
            "grid_template_rows": null,
            "height": null,
            "justify_content": null,
            "justify_items": null,
            "left": null,
            "margin": null,
            "max_height": null,
            "max_width": null,
            "min_height": null,
            "min_width": null,
            "object_fit": null,
            "object_position": null,
            "order": null,
            "overflow": null,
            "overflow_x": null,
            "overflow_y": null,
            "padding": null,
            "right": null,
            "top": null,
            "visibility": null,
            "width": null
          }
        },
        "9833304c067e43c0be2b3e9cadcc13e3": {
          "model_module": "@jupyter-widgets/controls",
          "model_name": "ProgressStyleModel",
          "model_module_version": "1.5.0",
          "state": {
            "_model_module": "@jupyter-widgets/controls",
            "_model_module_version": "1.5.0",
            "_model_name": "ProgressStyleModel",
            "_view_count": null,
            "_view_module": "@jupyter-widgets/base",
            "_view_module_version": "1.2.0",
            "_view_name": "StyleView",
            "bar_color": null,
            "description_width": ""
          }
        },
        "e84a2140d0fe4e94acd0465f47451ea5": {
          "model_module": "@jupyter-widgets/base",
          "model_name": "LayoutModel",
          "model_module_version": "1.2.0",
          "state": {
            "_model_module": "@jupyter-widgets/base",
            "_model_module_version": "1.2.0",
            "_model_name": "LayoutModel",
            "_view_count": null,
            "_view_module": "@jupyter-widgets/base",
            "_view_module_version": "1.2.0",
            "_view_name": "LayoutView",
            "align_content": null,
            "align_items": null,
            "align_self": null,
            "border": null,
            "bottom": null,
            "display": null,
            "flex": null,
            "flex_flow": null,
            "grid_area": null,
            "grid_auto_columns": null,
            "grid_auto_flow": null,
            "grid_auto_rows": null,
            "grid_column": null,
            "grid_gap": null,
            "grid_row": null,
            "grid_template_areas": null,
            "grid_template_columns": null,
            "grid_template_rows": null,
            "height": null,
            "justify_content": null,
            "justify_items": null,
            "left": null,
            "margin": null,
            "max_height": null,
            "max_width": null,
            "min_height": null,
            "min_width": null,
            "object_fit": null,
            "object_position": null,
            "order": null,
            "overflow": null,
            "overflow_x": null,
            "overflow_y": null,
            "padding": null,
            "right": null,
            "top": null,
            "visibility": null,
            "width": null
          }
        },
        "d5d9a0af0161470f8fb41b68bca52e0e": {
          "model_module": "@jupyter-widgets/controls",
          "model_name": "DescriptionStyleModel",
          "model_module_version": "1.5.0",
          "state": {
            "_model_module": "@jupyter-widgets/controls",
            "_model_module_version": "1.5.0",
            "_model_name": "DescriptionStyleModel",
            "_view_count": null,
            "_view_module": "@jupyter-widgets/base",
            "_view_module_version": "1.2.0",
            "_view_name": "StyleView",
            "description_width": ""
          }
        },
        "cd2a341f5bc34f44b1f48aaf81ac5db0": {
          "model_module": "@jupyter-widgets/controls",
          "model_name": "HBoxModel",
          "model_module_version": "1.5.0",
          "state": {
            "_dom_classes": [],
            "_model_module": "@jupyter-widgets/controls",
            "_model_module_version": "1.5.0",
            "_model_name": "HBoxModel",
            "_view_count": null,
            "_view_module": "@jupyter-widgets/controls",
            "_view_module_version": "1.5.0",
            "_view_name": "HBoxView",
            "box_style": "",
            "children": [
              "IPY_MODEL_6ea3e512716b4594b93555499a787907",
              "IPY_MODEL_3b265e36cc16482fa68410dbc5475b84",
              "IPY_MODEL_551732d7602745199801844141bf8675"
            ],
            "layout": "IPY_MODEL_43c38de4118541b2b0b3e55780f894b6"
          }
        },
        "6ea3e512716b4594b93555499a787907": {
          "model_module": "@jupyter-widgets/controls",
          "model_name": "HTMLModel",
          "model_module_version": "1.5.0",
          "state": {
            "_dom_classes": [],
            "_model_module": "@jupyter-widgets/controls",
            "_model_module_version": "1.5.0",
            "_model_name": "HTMLModel",
            "_view_count": null,
            "_view_module": "@jupyter-widgets/controls",
            "_view_module_version": "1.5.0",
            "_view_name": "HTMLView",
            "description": "",
            "description_tooltip": null,
            "layout": "IPY_MODEL_2fbe06742d6b45d8b61702caa317ec8c",
            "placeholder": "​",
            "style": "IPY_MODEL_cb323c8f2203460b81cc57cd1e9850ea",
            "value": "Downloading tokenizer_config.json: 100%"
          }
        },
        "3b265e36cc16482fa68410dbc5475b84": {
          "model_module": "@jupyter-widgets/controls",
          "model_name": "FloatProgressModel",
          "model_module_version": "1.5.0",
          "state": {
            "_dom_classes": [],
            "_model_module": "@jupyter-widgets/controls",
            "_model_module_version": "1.5.0",
            "_model_name": "FloatProgressModel",
            "_view_count": null,
            "_view_module": "@jupyter-widgets/controls",
            "_view_module_version": "1.5.0",
            "_view_name": "ProgressView",
            "bar_style": "success",
            "description": "",
            "description_tooltip": null,
            "layout": "IPY_MODEL_42733afbacce4dca8fa14cf34051371c",
            "max": 61,
            "min": 0,
            "orientation": "horizontal",
            "style": "IPY_MODEL_58b609a19bad4ec8a43713c8ccf3d2e2",
            "value": 61
          }
        },
        "551732d7602745199801844141bf8675": {
          "model_module": "@jupyter-widgets/controls",
          "model_name": "HTMLModel",
          "model_module_version": "1.5.0",
          "state": {
            "_dom_classes": [],
            "_model_module": "@jupyter-widgets/controls",
            "_model_module_version": "1.5.0",
            "_model_name": "HTMLModel",
            "_view_count": null,
            "_view_module": "@jupyter-widgets/controls",
            "_view_module_version": "1.5.0",
            "_view_name": "HTMLView",
            "description": "",
            "description_tooltip": null,
            "layout": "IPY_MODEL_b822b88426a64e8d8befb5cbbd5f9f3b",
            "placeholder": "​",
            "style": "IPY_MODEL_4086554a434242d6aa7e61ef4725eb48",
            "value": " 61.0/61.0 [00:00&lt;00:00, 2.20kB/s]"
          }
        },
        "43c38de4118541b2b0b3e55780f894b6": {
          "model_module": "@jupyter-widgets/base",
          "model_name": "LayoutModel",
          "model_module_version": "1.2.0",
          "state": {
            "_model_module": "@jupyter-widgets/base",
            "_model_module_version": "1.2.0",
            "_model_name": "LayoutModel",
            "_view_count": null,
            "_view_module": "@jupyter-widgets/base",
            "_view_module_version": "1.2.0",
            "_view_name": "LayoutView",
            "align_content": null,
            "align_items": null,
            "align_self": null,
            "border": null,
            "bottom": null,
            "display": null,
            "flex": null,
            "flex_flow": null,
            "grid_area": null,
            "grid_auto_columns": null,
            "grid_auto_flow": null,
            "grid_auto_rows": null,
            "grid_column": null,
            "grid_gap": null,
            "grid_row": null,
            "grid_template_areas": null,
            "grid_template_columns": null,
            "grid_template_rows": null,
            "height": null,
            "justify_content": null,
            "justify_items": null,
            "left": null,
            "margin": null,
            "max_height": null,
            "max_width": null,
            "min_height": null,
            "min_width": null,
            "object_fit": null,
            "object_position": null,
            "order": null,
            "overflow": null,
            "overflow_x": null,
            "overflow_y": null,
            "padding": null,
            "right": null,
            "top": null,
            "visibility": null,
            "width": null
          }
        },
        "2fbe06742d6b45d8b61702caa317ec8c": {
          "model_module": "@jupyter-widgets/base",
          "model_name": "LayoutModel",
          "model_module_version": "1.2.0",
          "state": {
            "_model_module": "@jupyter-widgets/base",
            "_model_module_version": "1.2.0",
            "_model_name": "LayoutModel",
            "_view_count": null,
            "_view_module": "@jupyter-widgets/base",
            "_view_module_version": "1.2.0",
            "_view_name": "LayoutView",
            "align_content": null,
            "align_items": null,
            "align_self": null,
            "border": null,
            "bottom": null,
            "display": null,
            "flex": null,
            "flex_flow": null,
            "grid_area": null,
            "grid_auto_columns": null,
            "grid_auto_flow": null,
            "grid_auto_rows": null,
            "grid_column": null,
            "grid_gap": null,
            "grid_row": null,
            "grid_template_areas": null,
            "grid_template_columns": null,
            "grid_template_rows": null,
            "height": null,
            "justify_content": null,
            "justify_items": null,
            "left": null,
            "margin": null,
            "max_height": null,
            "max_width": null,
            "min_height": null,
            "min_width": null,
            "object_fit": null,
            "object_position": null,
            "order": null,
            "overflow": null,
            "overflow_x": null,
            "overflow_y": null,
            "padding": null,
            "right": null,
            "top": null,
            "visibility": null,
            "width": null
          }
        },
        "cb323c8f2203460b81cc57cd1e9850ea": {
          "model_module": "@jupyter-widgets/controls",
          "model_name": "DescriptionStyleModel",
          "model_module_version": "1.5.0",
          "state": {
            "_model_module": "@jupyter-widgets/controls",
            "_model_module_version": "1.5.0",
            "_model_name": "DescriptionStyleModel",
            "_view_count": null,
            "_view_module": "@jupyter-widgets/base",
            "_view_module_version": "1.2.0",
            "_view_name": "StyleView",
            "description_width": ""
          }
        },
        "42733afbacce4dca8fa14cf34051371c": {
          "model_module": "@jupyter-widgets/base",
          "model_name": "LayoutModel",
          "model_module_version": "1.2.0",
          "state": {
            "_model_module": "@jupyter-widgets/base",
            "_model_module_version": "1.2.0",
            "_model_name": "LayoutModel",
            "_view_count": null,
            "_view_module": "@jupyter-widgets/base",
            "_view_module_version": "1.2.0",
            "_view_name": "LayoutView",
            "align_content": null,
            "align_items": null,
            "align_self": null,
            "border": null,
            "bottom": null,
            "display": null,
            "flex": null,
            "flex_flow": null,
            "grid_area": null,
            "grid_auto_columns": null,
            "grid_auto_flow": null,
            "grid_auto_rows": null,
            "grid_column": null,
            "grid_gap": null,
            "grid_row": null,
            "grid_template_areas": null,
            "grid_template_columns": null,
            "grid_template_rows": null,
            "height": null,
            "justify_content": null,
            "justify_items": null,
            "left": null,
            "margin": null,
            "max_height": null,
            "max_width": null,
            "min_height": null,
            "min_width": null,
            "object_fit": null,
            "object_position": null,
            "order": null,
            "overflow": null,
            "overflow_x": null,
            "overflow_y": null,
            "padding": null,
            "right": null,
            "top": null,
            "visibility": null,
            "width": null
          }
        },
        "58b609a19bad4ec8a43713c8ccf3d2e2": {
          "model_module": "@jupyter-widgets/controls",
          "model_name": "ProgressStyleModel",
          "model_module_version": "1.5.0",
          "state": {
            "_model_module": "@jupyter-widgets/controls",
            "_model_module_version": "1.5.0",
            "_model_name": "ProgressStyleModel",
            "_view_count": null,
            "_view_module": "@jupyter-widgets/base",
            "_view_module_version": "1.2.0",
            "_view_name": "StyleView",
            "bar_color": null,
            "description_width": ""
          }
        },
        "b822b88426a64e8d8befb5cbbd5f9f3b": {
          "model_module": "@jupyter-widgets/base",
          "model_name": "LayoutModel",
          "model_module_version": "1.2.0",
          "state": {
            "_model_module": "@jupyter-widgets/base",
            "_model_module_version": "1.2.0",
            "_model_name": "LayoutModel",
            "_view_count": null,
            "_view_module": "@jupyter-widgets/base",
            "_view_module_version": "1.2.0",
            "_view_name": "LayoutView",
            "align_content": null,
            "align_items": null,
            "align_self": null,
            "border": null,
            "bottom": null,
            "display": null,
            "flex": null,
            "flex_flow": null,
            "grid_area": null,
            "grid_auto_columns": null,
            "grid_auto_flow": null,
            "grid_auto_rows": null,
            "grid_column": null,
            "grid_gap": null,
            "grid_row": null,
            "grid_template_areas": null,
            "grid_template_columns": null,
            "grid_template_rows": null,
            "height": null,
            "justify_content": null,
            "justify_items": null,
            "left": null,
            "margin": null,
            "max_height": null,
            "max_width": null,
            "min_height": null,
            "min_width": null,
            "object_fit": null,
            "object_position": null,
            "order": null,
            "overflow": null,
            "overflow_x": null,
            "overflow_y": null,
            "padding": null,
            "right": null,
            "top": null,
            "visibility": null,
            "width": null
          }
        },
        "4086554a434242d6aa7e61ef4725eb48": {
          "model_module": "@jupyter-widgets/controls",
          "model_name": "DescriptionStyleModel",
          "model_module_version": "1.5.0",
          "state": {
            "_model_module": "@jupyter-widgets/controls",
            "_model_module_version": "1.5.0",
            "_model_name": "DescriptionStyleModel",
            "_view_count": null,
            "_view_module": "@jupyter-widgets/base",
            "_view_module_version": "1.2.0",
            "_view_name": "StyleView",
            "description_width": ""
          }
        },
        "5e4547ea5f7d4277a8b22e8c576f72d9": {
          "model_module": "@jupyter-widgets/controls",
          "model_name": "HBoxModel",
          "model_module_version": "1.5.0",
          "state": {
            "_dom_classes": [],
            "_model_module": "@jupyter-widgets/controls",
            "_model_module_version": "1.5.0",
            "_model_name": "HBoxModel",
            "_view_count": null,
            "_view_module": "@jupyter-widgets/controls",
            "_view_module_version": "1.5.0",
            "_view_name": "HBoxView",
            "box_style": "",
            "children": [
              "IPY_MODEL_63b8bfba3ef74148bfb2b7cdb975e912",
              "IPY_MODEL_2147c6755bef4ef3a18d592bb648ee71",
              "IPY_MODEL_3627b929b71048838bef7d19ce1b9f3d"
            ],
            "layout": "IPY_MODEL_789dc1952a33423792ab6ff3925bc370"
          }
        },
        "63b8bfba3ef74148bfb2b7cdb975e912": {
          "model_module": "@jupyter-widgets/controls",
          "model_name": "HTMLModel",
          "model_module_version": "1.5.0",
          "state": {
            "_dom_classes": [],
            "_model_module": "@jupyter-widgets/controls",
            "_model_module_version": "1.5.0",
            "_model_name": "HTMLModel",
            "_view_count": null,
            "_view_module": "@jupyter-widgets/controls",
            "_view_module_version": "1.5.0",
            "_view_name": "HTMLView",
            "description": "",
            "description_tooltip": null,
            "layout": "IPY_MODEL_d31b621fe9cb4c64902b97f81492baba",
            "placeholder": "​",
            "style": "IPY_MODEL_473a6550d7d44f389e91fdbeffd65abf",
            "value": "Downloading config.json: 100%"
          }
        },
        "2147c6755bef4ef3a18d592bb648ee71": {
          "model_module": "@jupyter-widgets/controls",
          "model_name": "FloatProgressModel",
          "model_module_version": "1.5.0",
          "state": {
            "_dom_classes": [],
            "_model_module": "@jupyter-widgets/controls",
            "_model_module_version": "1.5.0",
            "_model_name": "FloatProgressModel",
            "_view_count": null,
            "_view_module": "@jupyter-widgets/controls",
            "_view_module_version": "1.5.0",
            "_view_name": "ProgressView",
            "bar_style": "success",
            "description": "",
            "description_tooltip": null,
            "layout": "IPY_MODEL_e5e1b335469843679bb026a547de83f6",
            "max": 467,
            "min": 0,
            "orientation": "horizontal",
            "style": "IPY_MODEL_95a9c58a8b7549fd9c1fbfd24f592a41",
            "value": 467
          }
        },
        "3627b929b71048838bef7d19ce1b9f3d": {
          "model_module": "@jupyter-widgets/controls",
          "model_name": "HTMLModel",
          "model_module_version": "1.5.0",
          "state": {
            "_dom_classes": [],
            "_model_module": "@jupyter-widgets/controls",
            "_model_module_version": "1.5.0",
            "_model_name": "HTMLModel",
            "_view_count": null,
            "_view_module": "@jupyter-widgets/controls",
            "_view_module_version": "1.5.0",
            "_view_name": "HTMLView",
            "description": "",
            "description_tooltip": null,
            "layout": "IPY_MODEL_b8bed1ae1cbf4a7cb4601fa4076dc23f",
            "placeholder": "​",
            "style": "IPY_MODEL_f1cb945980684637919c35d2746cfa86",
            "value": " 467/467 [00:00&lt;00:00, 18.0kB/s]"
          }
        },
        "789dc1952a33423792ab6ff3925bc370": {
          "model_module": "@jupyter-widgets/base",
          "model_name": "LayoutModel",
          "model_module_version": "1.2.0",
          "state": {
            "_model_module": "@jupyter-widgets/base",
            "_model_module_version": "1.2.0",
            "_model_name": "LayoutModel",
            "_view_count": null,
            "_view_module": "@jupyter-widgets/base",
            "_view_module_version": "1.2.0",
            "_view_name": "LayoutView",
            "align_content": null,
            "align_items": null,
            "align_self": null,
            "border": null,
            "bottom": null,
            "display": null,
            "flex": null,
            "flex_flow": null,
            "grid_area": null,
            "grid_auto_columns": null,
            "grid_auto_flow": null,
            "grid_auto_rows": null,
            "grid_column": null,
            "grid_gap": null,
            "grid_row": null,
            "grid_template_areas": null,
            "grid_template_columns": null,
            "grid_template_rows": null,
            "height": null,
            "justify_content": null,
            "justify_items": null,
            "left": null,
            "margin": null,
            "max_height": null,
            "max_width": null,
            "min_height": null,
            "min_width": null,
            "object_fit": null,
            "object_position": null,
            "order": null,
            "overflow": null,
            "overflow_x": null,
            "overflow_y": null,
            "padding": null,
            "right": null,
            "top": null,
            "visibility": null,
            "width": null
          }
        },
        "d31b621fe9cb4c64902b97f81492baba": {
          "model_module": "@jupyter-widgets/base",
          "model_name": "LayoutModel",
          "model_module_version": "1.2.0",
          "state": {
            "_model_module": "@jupyter-widgets/base",
            "_model_module_version": "1.2.0",
            "_model_name": "LayoutModel",
            "_view_count": null,
            "_view_module": "@jupyter-widgets/base",
            "_view_module_version": "1.2.0",
            "_view_name": "LayoutView",
            "align_content": null,
            "align_items": null,
            "align_self": null,
            "border": null,
            "bottom": null,
            "display": null,
            "flex": null,
            "flex_flow": null,
            "grid_area": null,
            "grid_auto_columns": null,
            "grid_auto_flow": null,
            "grid_auto_rows": null,
            "grid_column": null,
            "grid_gap": null,
            "grid_row": null,
            "grid_template_areas": null,
            "grid_template_columns": null,
            "grid_template_rows": null,
            "height": null,
            "justify_content": null,
            "justify_items": null,
            "left": null,
            "margin": null,
            "max_height": null,
            "max_width": null,
            "min_height": null,
            "min_width": null,
            "object_fit": null,
            "object_position": null,
            "order": null,
            "overflow": null,
            "overflow_x": null,
            "overflow_y": null,
            "padding": null,
            "right": null,
            "top": null,
            "visibility": null,
            "width": null
          }
        },
        "473a6550d7d44f389e91fdbeffd65abf": {
          "model_module": "@jupyter-widgets/controls",
          "model_name": "DescriptionStyleModel",
          "model_module_version": "1.5.0",
          "state": {
            "_model_module": "@jupyter-widgets/controls",
            "_model_module_version": "1.5.0",
            "_model_name": "DescriptionStyleModel",
            "_view_count": null,
            "_view_module": "@jupyter-widgets/base",
            "_view_module_version": "1.2.0",
            "_view_name": "StyleView",
            "description_width": ""
          }
        },
        "e5e1b335469843679bb026a547de83f6": {
          "model_module": "@jupyter-widgets/base",
          "model_name": "LayoutModel",
          "model_module_version": "1.2.0",
          "state": {
            "_model_module": "@jupyter-widgets/base",
            "_model_module_version": "1.2.0",
            "_model_name": "LayoutModel",
            "_view_count": null,
            "_view_module": "@jupyter-widgets/base",
            "_view_module_version": "1.2.0",
            "_view_name": "LayoutView",
            "align_content": null,
            "align_items": null,
            "align_self": null,
            "border": null,
            "bottom": null,
            "display": null,
            "flex": null,
            "flex_flow": null,
            "grid_area": null,
            "grid_auto_columns": null,
            "grid_auto_flow": null,
            "grid_auto_rows": null,
            "grid_column": null,
            "grid_gap": null,
            "grid_row": null,
            "grid_template_areas": null,
            "grid_template_columns": null,
            "grid_template_rows": null,
            "height": null,
            "justify_content": null,
            "justify_items": null,
            "left": null,
            "margin": null,
            "max_height": null,
            "max_width": null,
            "min_height": null,
            "min_width": null,
            "object_fit": null,
            "object_position": null,
            "order": null,
            "overflow": null,
            "overflow_x": null,
            "overflow_y": null,
            "padding": null,
            "right": null,
            "top": null,
            "visibility": null,
            "width": null
          }
        },
        "95a9c58a8b7549fd9c1fbfd24f592a41": {
          "model_module": "@jupyter-widgets/controls",
          "model_name": "ProgressStyleModel",
          "model_module_version": "1.5.0",
          "state": {
            "_model_module": "@jupyter-widgets/controls",
            "_model_module_version": "1.5.0",
            "_model_name": "ProgressStyleModel",
            "_view_count": null,
            "_view_module": "@jupyter-widgets/base",
            "_view_module_version": "1.2.0",
            "_view_name": "StyleView",
            "bar_color": null,
            "description_width": ""
          }
        },
        "b8bed1ae1cbf4a7cb4601fa4076dc23f": {
          "model_module": "@jupyter-widgets/base",
          "model_name": "LayoutModel",
          "model_module_version": "1.2.0",
          "state": {
            "_model_module": "@jupyter-widgets/base",
            "_model_module_version": "1.2.0",
            "_model_name": "LayoutModel",
            "_view_count": null,
            "_view_module": "@jupyter-widgets/base",
            "_view_module_version": "1.2.0",
            "_view_name": "LayoutView",
            "align_content": null,
            "align_items": null,
            "align_self": null,
            "border": null,
            "bottom": null,
            "display": null,
            "flex": null,
            "flex_flow": null,
            "grid_area": null,
            "grid_auto_columns": null,
            "grid_auto_flow": null,
            "grid_auto_rows": null,
            "grid_column": null,
            "grid_gap": null,
            "grid_row": null,
            "grid_template_areas": null,
            "grid_template_columns": null,
            "grid_template_rows": null,
            "height": null,
            "justify_content": null,
            "justify_items": null,
            "left": null,
            "margin": null,
            "max_height": null,
            "max_width": null,
            "min_height": null,
            "min_width": null,
            "object_fit": null,
            "object_position": null,
            "order": null,
            "overflow": null,
            "overflow_x": null,
            "overflow_y": null,
            "padding": null,
            "right": null,
            "top": null,
            "visibility": null,
            "width": null
          }
        },
        "f1cb945980684637919c35d2746cfa86": {
          "model_module": "@jupyter-widgets/controls",
          "model_name": "DescriptionStyleModel",
          "model_module_version": "1.5.0",
          "state": {
            "_model_module": "@jupyter-widgets/controls",
            "_model_module_version": "1.5.0",
            "_model_name": "DescriptionStyleModel",
            "_view_count": null,
            "_view_module": "@jupyter-widgets/base",
            "_view_module_version": "1.2.0",
            "_view_name": "StyleView",
            "description_width": ""
          }
        },
        "9c5a7f93f4d244de875256c92c622e2e": {
          "model_module": "@jupyter-widgets/controls",
          "model_name": "HBoxModel",
          "model_module_version": "1.5.0",
          "state": {
            "_dom_classes": [],
            "_model_module": "@jupyter-widgets/controls",
            "_model_module_version": "1.5.0",
            "_model_name": "HBoxModel",
            "_view_count": null,
            "_view_module": "@jupyter-widgets/controls",
            "_view_module_version": "1.5.0",
            "_view_name": "HBoxView",
            "box_style": "",
            "children": [
              "IPY_MODEL_6181db9bd6064f36a81b9aaecb286377",
              "IPY_MODEL_c0fa668eaa15495ba96f245fc161a573",
              "IPY_MODEL_241e92ffcf2a4ed290b11fb54e6014ff"
            ],
            "layout": "IPY_MODEL_16cb694832714c1cbcb8d2ef5eef9645"
          }
        },
        "6181db9bd6064f36a81b9aaecb286377": {
          "model_module": "@jupyter-widgets/controls",
          "model_name": "HTMLModel",
          "model_module_version": "1.5.0",
          "state": {
            "_dom_classes": [],
            "_model_module": "@jupyter-widgets/controls",
            "_model_module_version": "1.5.0",
            "_model_name": "HTMLModel",
            "_view_count": null,
            "_view_module": "@jupyter-widgets/controls",
            "_view_module_version": "1.5.0",
            "_view_name": "HTMLView",
            "description": "",
            "description_tooltip": null,
            "layout": "IPY_MODEL_b418a4f45a0b418881b239c465a6ab4c",
            "placeholder": "​",
            "style": "IPY_MODEL_af9de2b81c4640f4af47ce8615cd5634",
            "value": "Downloading vocab.txt: 100%"
          }
        },
        "c0fa668eaa15495ba96f245fc161a573": {
          "model_module": "@jupyter-widgets/controls",
          "model_name": "FloatProgressModel",
          "model_module_version": "1.5.0",
          "state": {
            "_dom_classes": [],
            "_model_module": "@jupyter-widgets/controls",
            "_model_module_version": "1.5.0",
            "_model_name": "FloatProgressModel",
            "_view_count": null,
            "_view_module": "@jupyter-widgets/controls",
            "_view_module_version": "1.5.0",
            "_view_name": "ProgressView",
            "bar_style": "success",
            "description": "",
            "description_tooltip": null,
            "layout": "IPY_MODEL_1f5ede0b6ebd4ec0bbeba14e2b020dca",
            "max": 263326,
            "min": 0,
            "orientation": "horizontal",
            "style": "IPY_MODEL_e4600b5c53e34a4690aac6ca1fc315e4",
            "value": 263326
          }
        },
        "241e92ffcf2a4ed290b11fb54e6014ff": {
          "model_module": "@jupyter-widgets/controls",
          "model_name": "HTMLModel",
          "model_module_version": "1.5.0",
          "state": {
            "_dom_classes": [],
            "_model_module": "@jupyter-widgets/controls",
            "_model_module_version": "1.5.0",
            "_model_name": "HTMLModel",
            "_view_count": null,
            "_view_module": "@jupyter-widgets/controls",
            "_view_module_version": "1.5.0",
            "_view_name": "HTMLView",
            "description": "",
            "description_tooltip": null,
            "layout": "IPY_MODEL_b2df143bf6a54ef19ae423458d11ca75",
            "placeholder": "​",
            "style": "IPY_MODEL_00fd7feb1a95405a9e0fec722c596db7",
            "value": " 257k/257k [00:00&lt;00:00, 2.92MB/s]"
          }
        },
        "16cb694832714c1cbcb8d2ef5eef9645": {
          "model_module": "@jupyter-widgets/base",
          "model_name": "LayoutModel",
          "model_module_version": "1.2.0",
          "state": {
            "_model_module": "@jupyter-widgets/base",
            "_model_module_version": "1.2.0",
            "_model_name": "LayoutModel",
            "_view_count": null,
            "_view_module": "@jupyter-widgets/base",
            "_view_module_version": "1.2.0",
            "_view_name": "LayoutView",
            "align_content": null,
            "align_items": null,
            "align_self": null,
            "border": null,
            "bottom": null,
            "display": null,
            "flex": null,
            "flex_flow": null,
            "grid_area": null,
            "grid_auto_columns": null,
            "grid_auto_flow": null,
            "grid_auto_rows": null,
            "grid_column": null,
            "grid_gap": null,
            "grid_row": null,
            "grid_template_areas": null,
            "grid_template_columns": null,
            "grid_template_rows": null,
            "height": null,
            "justify_content": null,
            "justify_items": null,
            "left": null,
            "margin": null,
            "max_height": null,
            "max_width": null,
            "min_height": null,
            "min_width": null,
            "object_fit": null,
            "object_position": null,
            "order": null,
            "overflow": null,
            "overflow_x": null,
            "overflow_y": null,
            "padding": null,
            "right": null,
            "top": null,
            "visibility": null,
            "width": null
          }
        },
        "b418a4f45a0b418881b239c465a6ab4c": {
          "model_module": "@jupyter-widgets/base",
          "model_name": "LayoutModel",
          "model_module_version": "1.2.0",
          "state": {
            "_model_module": "@jupyter-widgets/base",
            "_model_module_version": "1.2.0",
            "_model_name": "LayoutModel",
            "_view_count": null,
            "_view_module": "@jupyter-widgets/base",
            "_view_module_version": "1.2.0",
            "_view_name": "LayoutView",
            "align_content": null,
            "align_items": null,
            "align_self": null,
            "border": null,
            "bottom": null,
            "display": null,
            "flex": null,
            "flex_flow": null,
            "grid_area": null,
            "grid_auto_columns": null,
            "grid_auto_flow": null,
            "grid_auto_rows": null,
            "grid_column": null,
            "grid_gap": null,
            "grid_row": null,
            "grid_template_areas": null,
            "grid_template_columns": null,
            "grid_template_rows": null,
            "height": null,
            "justify_content": null,
            "justify_items": null,
            "left": null,
            "margin": null,
            "max_height": null,
            "max_width": null,
            "min_height": null,
            "min_width": null,
            "object_fit": null,
            "object_position": null,
            "order": null,
            "overflow": null,
            "overflow_x": null,
            "overflow_y": null,
            "padding": null,
            "right": null,
            "top": null,
            "visibility": null,
            "width": null
          }
        },
        "af9de2b81c4640f4af47ce8615cd5634": {
          "model_module": "@jupyter-widgets/controls",
          "model_name": "DescriptionStyleModel",
          "model_module_version": "1.5.0",
          "state": {
            "_model_module": "@jupyter-widgets/controls",
            "_model_module_version": "1.5.0",
            "_model_name": "DescriptionStyleModel",
            "_view_count": null,
            "_view_module": "@jupyter-widgets/base",
            "_view_module_version": "1.2.0",
            "_view_name": "StyleView",
            "description_width": ""
          }
        },
        "1f5ede0b6ebd4ec0bbeba14e2b020dca": {
          "model_module": "@jupyter-widgets/base",
          "model_name": "LayoutModel",
          "model_module_version": "1.2.0",
          "state": {
            "_model_module": "@jupyter-widgets/base",
            "_model_module_version": "1.2.0",
            "_model_name": "LayoutModel",
            "_view_count": null,
            "_view_module": "@jupyter-widgets/base",
            "_view_module_version": "1.2.0",
            "_view_name": "LayoutView",
            "align_content": null,
            "align_items": null,
            "align_self": null,
            "border": null,
            "bottom": null,
            "display": null,
            "flex": null,
            "flex_flow": null,
            "grid_area": null,
            "grid_auto_columns": null,
            "grid_auto_flow": null,
            "grid_auto_rows": null,
            "grid_column": null,
            "grid_gap": null,
            "grid_row": null,
            "grid_template_areas": null,
            "grid_template_columns": null,
            "grid_template_rows": null,
            "height": null,
            "justify_content": null,
            "justify_items": null,
            "left": null,
            "margin": null,
            "max_height": null,
            "max_width": null,
            "min_height": null,
            "min_width": null,
            "object_fit": null,
            "object_position": null,
            "order": null,
            "overflow": null,
            "overflow_x": null,
            "overflow_y": null,
            "padding": null,
            "right": null,
            "top": null,
            "visibility": null,
            "width": null
          }
        },
        "e4600b5c53e34a4690aac6ca1fc315e4": {
          "model_module": "@jupyter-widgets/controls",
          "model_name": "ProgressStyleModel",
          "model_module_version": "1.5.0",
          "state": {
            "_model_module": "@jupyter-widgets/controls",
            "_model_module_version": "1.5.0",
            "_model_name": "ProgressStyleModel",
            "_view_count": null,
            "_view_module": "@jupyter-widgets/base",
            "_view_module_version": "1.2.0",
            "_view_name": "StyleView",
            "bar_color": null,
            "description_width": ""
          }
        },
        "b2df143bf6a54ef19ae423458d11ca75": {
          "model_module": "@jupyter-widgets/base",
          "model_name": "LayoutModel",
          "model_module_version": "1.2.0",
          "state": {
            "_model_module": "@jupyter-widgets/base",
            "_model_module_version": "1.2.0",
            "_model_name": "LayoutModel",
            "_view_count": null,
            "_view_module": "@jupyter-widgets/base",
            "_view_module_version": "1.2.0",
            "_view_name": "LayoutView",
            "align_content": null,
            "align_items": null,
            "align_self": null,
            "border": null,
            "bottom": null,
            "display": null,
            "flex": null,
            "flex_flow": null,
            "grid_area": null,
            "grid_auto_columns": null,
            "grid_auto_flow": null,
            "grid_auto_rows": null,
            "grid_column": null,
            "grid_gap": null,
            "grid_row": null,
            "grid_template_areas": null,
            "grid_template_columns": null,
            "grid_template_rows": null,
            "height": null,
            "justify_content": null,
            "justify_items": null,
            "left": null,
            "margin": null,
            "max_height": null,
            "max_width": null,
            "min_height": null,
            "min_width": null,
            "object_fit": null,
            "object_position": null,
            "order": null,
            "overflow": null,
            "overflow_x": null,
            "overflow_y": null,
            "padding": null,
            "right": null,
            "top": null,
            "visibility": null,
            "width": null
          }
        },
        "00fd7feb1a95405a9e0fec722c596db7": {
          "model_module": "@jupyter-widgets/controls",
          "model_name": "DescriptionStyleModel",
          "model_module_version": "1.5.0",
          "state": {
            "_model_module": "@jupyter-widgets/controls",
            "_model_module_version": "1.5.0",
            "_model_name": "DescriptionStyleModel",
            "_view_count": null,
            "_view_module": "@jupyter-widgets/base",
            "_view_module_version": "1.2.0",
            "_view_name": "StyleView",
            "description_width": ""
          }
        },
        "bba0a3ca5aab48d08f9d1501120cb786": {
          "model_module": "@jupyter-widgets/controls",
          "model_name": "HBoxModel",
          "model_module_version": "1.5.0",
          "state": {
            "_dom_classes": [],
            "_model_module": "@jupyter-widgets/controls",
            "_model_module_version": "1.5.0",
            "_model_name": "HBoxModel",
            "_view_count": null,
            "_view_module": "@jupyter-widgets/controls",
            "_view_module_version": "1.5.0",
            "_view_name": "HBoxView",
            "box_style": "",
            "children": [
              "IPY_MODEL_c3fa3cf2e48a4db1abd058b105c28d28",
              "IPY_MODEL_0a28977e420b43369ec1d9c8ec8abfba",
              "IPY_MODEL_e8c0dfdf8158496e83ac2ff4c7fa93e7"
            ],
            "layout": "IPY_MODEL_5634ffb0cb1545b0894e808b44285ed5"
          }
        },
        "c3fa3cf2e48a4db1abd058b105c28d28": {
          "model_module": "@jupyter-widgets/controls",
          "model_name": "HTMLModel",
          "model_module_version": "1.5.0",
          "state": {
            "_dom_classes": [],
            "_model_module": "@jupyter-widgets/controls",
            "_model_module_version": "1.5.0",
            "_model_name": "HTMLModel",
            "_view_count": null,
            "_view_module": "@jupyter-widgets/controls",
            "_view_module_version": "1.5.0",
            "_view_name": "HTMLView",
            "description": "",
            "description_tooltip": null,
            "layout": "IPY_MODEL_c31e1700edf14ac8bfd484fbd4fdee15",
            "placeholder": "​",
            "style": "IPY_MODEL_b5963150aab44aa7baff3305671aaa7d",
            "value": "Downloading pytorch_model.bin: 100%"
          }
        },
        "0a28977e420b43369ec1d9c8ec8abfba": {
          "model_module": "@jupyter-widgets/controls",
          "model_name": "FloatProgressModel",
          "model_module_version": "1.5.0",
          "state": {
            "_dom_classes": [],
            "_model_module": "@jupyter-widgets/controls",
            "_model_module_version": "1.5.0",
            "_model_name": "FloatProgressModel",
            "_view_count": null,
            "_view_module": "@jupyter-widgets/controls",
            "_view_module_version": "1.5.0",
            "_view_name": "ProgressView",
            "bar_style": "success",
            "description": "",
            "description_tooltip": null,
            "layout": "IPY_MODEL_82c2b6b2b46244739c9c0dd3528319e9",
            "max": 451741507,
            "min": 0,
            "orientation": "horizontal",
            "style": "IPY_MODEL_b03655341d404fedb1e02dce96e0115b",
            "value": 451741507
          }
        },
        "e8c0dfdf8158496e83ac2ff4c7fa93e7": {
          "model_module": "@jupyter-widgets/controls",
          "model_name": "HTMLModel",
          "model_module_version": "1.5.0",
          "state": {
            "_dom_classes": [],
            "_model_module": "@jupyter-widgets/controls",
            "_model_module_version": "1.5.0",
            "_model_name": "HTMLModel",
            "_view_count": null,
            "_view_module": "@jupyter-widgets/controls",
            "_view_module_version": "1.5.0",
            "_view_name": "HTMLView",
            "description": "",
            "description_tooltip": null,
            "layout": "IPY_MODEL_420f9378e98844e9a1d6d5e43167b777",
            "placeholder": "​",
            "style": "IPY_MODEL_540f6f00923743dfb9565b56b76af0e6",
            "value": " 431M/431M [00:07&lt;00:00, 63.0MB/s]"
          }
        },
        "5634ffb0cb1545b0894e808b44285ed5": {
          "model_module": "@jupyter-widgets/base",
          "model_name": "LayoutModel",
          "model_module_version": "1.2.0",
          "state": {
            "_model_module": "@jupyter-widgets/base",
            "_model_module_version": "1.2.0",
            "_model_name": "LayoutModel",
            "_view_count": null,
            "_view_module": "@jupyter-widgets/base",
            "_view_module_version": "1.2.0",
            "_view_name": "LayoutView",
            "align_content": null,
            "align_items": null,
            "align_self": null,
            "border": null,
            "bottom": null,
            "display": null,
            "flex": null,
            "flex_flow": null,
            "grid_area": null,
            "grid_auto_columns": null,
            "grid_auto_flow": null,
            "grid_auto_rows": null,
            "grid_column": null,
            "grid_gap": null,
            "grid_row": null,
            "grid_template_areas": null,
            "grid_template_columns": null,
            "grid_template_rows": null,
            "height": null,
            "justify_content": null,
            "justify_items": null,
            "left": null,
            "margin": null,
            "max_height": null,
            "max_width": null,
            "min_height": null,
            "min_width": null,
            "object_fit": null,
            "object_position": null,
            "order": null,
            "overflow": null,
            "overflow_x": null,
            "overflow_y": null,
            "padding": null,
            "right": null,
            "top": null,
            "visibility": null,
            "width": null
          }
        },
        "c31e1700edf14ac8bfd484fbd4fdee15": {
          "model_module": "@jupyter-widgets/base",
          "model_name": "LayoutModel",
          "model_module_version": "1.2.0",
          "state": {
            "_model_module": "@jupyter-widgets/base",
            "_model_module_version": "1.2.0",
            "_model_name": "LayoutModel",
            "_view_count": null,
            "_view_module": "@jupyter-widgets/base",
            "_view_module_version": "1.2.0",
            "_view_name": "LayoutView",
            "align_content": null,
            "align_items": null,
            "align_self": null,
            "border": null,
            "bottom": null,
            "display": null,
            "flex": null,
            "flex_flow": null,
            "grid_area": null,
            "grid_auto_columns": null,
            "grid_auto_flow": null,
            "grid_auto_rows": null,
            "grid_column": null,
            "grid_gap": null,
            "grid_row": null,
            "grid_template_areas": null,
            "grid_template_columns": null,
            "grid_template_rows": null,
            "height": null,
            "justify_content": null,
            "justify_items": null,
            "left": null,
            "margin": null,
            "max_height": null,
            "max_width": null,
            "min_height": null,
            "min_width": null,
            "object_fit": null,
            "object_position": null,
            "order": null,
            "overflow": null,
            "overflow_x": null,
            "overflow_y": null,
            "padding": null,
            "right": null,
            "top": null,
            "visibility": null,
            "width": null
          }
        },
        "b5963150aab44aa7baff3305671aaa7d": {
          "model_module": "@jupyter-widgets/controls",
          "model_name": "DescriptionStyleModel",
          "model_module_version": "1.5.0",
          "state": {
            "_model_module": "@jupyter-widgets/controls",
            "_model_module_version": "1.5.0",
            "_model_name": "DescriptionStyleModel",
            "_view_count": null,
            "_view_module": "@jupyter-widgets/base",
            "_view_module_version": "1.2.0",
            "_view_name": "StyleView",
            "description_width": ""
          }
        },
        "82c2b6b2b46244739c9c0dd3528319e9": {
          "model_module": "@jupyter-widgets/base",
          "model_name": "LayoutModel",
          "model_module_version": "1.2.0",
          "state": {
            "_model_module": "@jupyter-widgets/base",
            "_model_module_version": "1.2.0",
            "_model_name": "LayoutModel",
            "_view_count": null,
            "_view_module": "@jupyter-widgets/base",
            "_view_module_version": "1.2.0",
            "_view_name": "LayoutView",
            "align_content": null,
            "align_items": null,
            "align_self": null,
            "border": null,
            "bottom": null,
            "display": null,
            "flex": null,
            "flex_flow": null,
            "grid_area": null,
            "grid_auto_columns": null,
            "grid_auto_flow": null,
            "grid_auto_rows": null,
            "grid_column": null,
            "grid_gap": null,
            "grid_row": null,
            "grid_template_areas": null,
            "grid_template_columns": null,
            "grid_template_rows": null,
            "height": null,
            "justify_content": null,
            "justify_items": null,
            "left": null,
            "margin": null,
            "max_height": null,
            "max_width": null,
            "min_height": null,
            "min_width": null,
            "object_fit": null,
            "object_position": null,
            "order": null,
            "overflow": null,
            "overflow_x": null,
            "overflow_y": null,
            "padding": null,
            "right": null,
            "top": null,
            "visibility": null,
            "width": null
          }
        },
        "b03655341d404fedb1e02dce96e0115b": {
          "model_module": "@jupyter-widgets/controls",
          "model_name": "ProgressStyleModel",
          "model_module_version": "1.5.0",
          "state": {
            "_model_module": "@jupyter-widgets/controls",
            "_model_module_version": "1.5.0",
            "_model_name": "ProgressStyleModel",
            "_view_count": null,
            "_view_module": "@jupyter-widgets/base",
            "_view_module_version": "1.2.0",
            "_view_name": "StyleView",
            "bar_color": null,
            "description_width": ""
          }
        },
        "420f9378e98844e9a1d6d5e43167b777": {
          "model_module": "@jupyter-widgets/base",
          "model_name": "LayoutModel",
          "model_module_version": "1.2.0",
          "state": {
            "_model_module": "@jupyter-widgets/base",
            "_model_module_version": "1.2.0",
            "_model_name": "LayoutModel",
            "_view_count": null,
            "_view_module": "@jupyter-widgets/base",
            "_view_module_version": "1.2.0",
            "_view_name": "LayoutView",
            "align_content": null,
            "align_items": null,
            "align_self": null,
            "border": null,
            "bottom": null,
            "display": null,
            "flex": null,
            "flex_flow": null,
            "grid_area": null,
            "grid_auto_columns": null,
            "grid_auto_flow": null,
            "grid_auto_rows": null,
            "grid_column": null,
            "grid_gap": null,
            "grid_row": null,
            "grid_template_areas": null,
            "grid_template_columns": null,
            "grid_template_rows": null,
            "height": null,
            "justify_content": null,
            "justify_items": null,
            "left": null,
            "margin": null,
            "max_height": null,
            "max_width": null,
            "min_height": null,
            "min_width": null,
            "object_fit": null,
            "object_position": null,
            "order": null,
            "overflow": null,
            "overflow_x": null,
            "overflow_y": null,
            "padding": null,
            "right": null,
            "top": null,
            "visibility": null,
            "width": null
          }
        },
        "540f6f00923743dfb9565b56b76af0e6": {
          "model_module": "@jupyter-widgets/controls",
          "model_name": "DescriptionStyleModel",
          "model_module_version": "1.5.0",
          "state": {
            "_model_module": "@jupyter-widgets/controls",
            "_model_module_version": "1.5.0",
            "_model_name": "DescriptionStyleModel",
            "_view_count": null,
            "_view_module": "@jupyter-widgets/base",
            "_view_module_version": "1.2.0",
            "_view_name": "StyleView",
            "description_width": ""
          }
        }
      }
    }
  },
  "nbformat": 4,
  "nbformat_minor": 0
}