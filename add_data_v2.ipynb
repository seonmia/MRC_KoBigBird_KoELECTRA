{
  "cells": [
    {
      "cell_type": "markdown",
      "metadata": {
        "id": "view-in-github",
        "colab_type": "text"
      },
      "source": [
        "<a href=\"https://colab.research.google.com/github/seonmia/MRC_KoBigBird_KoELECTRA/blob/main/add_data_v2.ipynb\" target=\"_parent\"><img src=\"https://colab.research.google.com/assets/colab-badge.svg\" alt=\"Open In Colab\"/></a>"
      ]
    },
    {
      "cell_type": "code",
      "execution_count": null,
      "metadata": {
        "colab": {
          "base_uri": "https://localhost:8080/"
        },
        "id": "eWiSPTmP1HFi",
        "outputId": "066ae4d1-1748-472f-aa1f-83cf6aace218"
      },
      "outputs": [
        {
          "output_type": "stream",
          "name": "stdout",
          "text": [
            "Looking in indexes: https://pypi.org/simple, https://us-python.pkg.dev/colab-wheels/public/simple/\n",
            "Requirement already satisfied: easydict in /usr/local/lib/python3.7/dist-packages (1.9)\n"
          ]
        }
      ],
      "source": [
        "!pip install easydict"
      ]
    },
    {
      "cell_type": "code",
      "execution_count": null,
      "metadata": {
        "id": "BknpiHjs1HFm"
      },
      "outputs": [],
      "source": [
        "import pandas as pd\n",
        "import numpy as np\n",
        "import json\n",
        "from pprint import pprint\n",
        "import os\n",
        "import random\n",
        "import math\n",
        "import csv\n",
        "import json\n",
        "from tqdm.notebook import tqdm\n",
        "from easydict import EasyDict as edict\n",
        "from statistics import mean\n",
        "from typing import List, Tuple, Dict, Any\n",
        "\n",
        "import numpy as np\n",
        "from sklearn.preprocessing import StandardScaler\n",
        "import matplotlib.pyplot as plt"
      ]
    },
    {
      "cell_type": "code",
      "execution_count": null,
      "metadata": {
        "id": "lzWITjhi1HFq"
      },
      "outputs": [],
      "source": [
        "from typing import List, Tuple, Dict, Any\n",
        "import json\n",
        "import random\n",
        "import copy\n",
        "\n",
        "class KoMRC:\n",
        "    def __init__(self, data, indices: List[Tuple[int, int, int]]):\n",
        "        self._data = data\n",
        "        self._indices = indices\n",
        "\n",
        "    # Json을 불러오는 메소드\n",
        "    @classmethod\n",
        "    def load(cls, file_path: str):\n",
        "        with open(file_path, 'r', encoding='utf-8') as fd:\n",
        "            data = json.load(fd)\n",
        "\n",
        "        indices = []\n",
        "        for d_id, document in enumerate(data['data']):\n",
        "            for p_id, paragraph in enumerate(document['paragraphs']):\n",
        "                for q_id, _ in enumerate(paragraph['qas']):\n",
        "                    indices.append((d_id, p_id, q_id))\n",
        "        \n",
        "        return cls(data, indices)\n",
        "\n",
        "##################################################################\n",
        "    # 데이터 셋을 잘라내는 메소드\n",
        "    @classmethod\n",
        "    def split(cls, dataset, train_raio: float=.8,test_ratio: float=.5, seed=42):\n",
        "        indices = list(dataset._indices)\n",
        "        random.seed(seed)\n",
        "        random.shuffle(indices)\n",
        "        train_indices = indices[:int(len(indices) * train_raio)]\n",
        "        split_indices = indices[int(len(indices) * train_raio):]\n",
        "        eval_indices = split_indices[:int(len(split_indices) * test_ratio)]\n",
        "        test_indices = split_indices[int(len(split_indices) * test_ratio):]\n",
        "\n",
        "        return cls(dataset._data, train_indices), cls(dataset._data, eval_indices), cls(dataset._data, test_indices)\n",
        "################################################################################\n",
        "    # 데이터 셋을 잘라내는 메소드\n",
        "    @classmethod\n",
        "    def split(cls, dataset, eval_ratio: float=.1, seed=42):\n",
        "        indices = list(dataset._indices)\n",
        "        random.seed(seed)\n",
        "        random.shuffle(indices)\n",
        "        train_indices = indices[int(len(indices) * eval_ratio):]\n",
        "        eval_indices = indices[:int(len(indices) * eval_ratio)]\n",
        "\n",
        "        return cls(dataset._data, train_indices), cls(dataset._data, eval_indices)\n",
        "\n",
        "    @classmethod\n",
        "    def extraction(cls, dataset, data_number: int, save=True):\n",
        "        '''\n",
        "        첫 번째 인자 : KoMRC의 인스턴스\n",
        "        두 번째 인자 : 추출할 data 개수 (단, data단위로 추출, indices단위가 아님)\n",
        "        반환값 : KoMRC의 인스턴스\n",
        "        '''\n",
        "        if data_number > len(dataset):\n",
        "            raise Exception(\"입력한 인자가 데이터셋 크기보다 큽니다.\")\n",
        "        else:\n",
        "            data = copy.deepcopy(dataset._data)\n",
        "            data['data'] = random.sample(data['data'], data_number)\n",
        "            indices = []\n",
        "            for d_id, document in enumerate(data['data']):\n",
        "                for p_id, paragraph in enumerate(document['paragraphs']):\n",
        "                    for q_id, _ in enumerate(paragraph['qas']):\n",
        "                        indices.append((d_id, p_id, q_id))\n",
        "            if save:\n",
        "                with open(\"cut_result.json\", \"w\") as write_file:\n",
        "                    json.dump(data, write_file, indent=4)\n",
        "        return cls(data, indices)\n",
        "\n",
        "    def __add__(self, other) :\n",
        "        data = copy.deepcopy(self._data)\n",
        "        data['data'] = self._data['data'] + other._data['data']\n",
        "        indices = []\n",
        "        for d_id, document in enumerate(data['data']):\n",
        "            for p_id, paragraph in enumerate(document['paragraphs']):\n",
        "                for q_id, _ in enumerate(paragraph['qas']):\n",
        "                    indices.append((d_id, p_id, q_id))\n",
        "        return KoMRC(data, indices)\n",
        "\n",
        "    \n",
        "\n",
        "    def __getitem__(self, index: int) -> Dict[str, Any]:\n",
        "        d_id, p_id, q_id = self._indices[index]\n",
        "        paragraph = self._data['data'][d_id]['paragraphs'][p_id]\n",
        "\n",
        "        context = paragraph['context']\n",
        "        qa = paragraph['qas'][q_id]\n",
        "\n",
        "        # 원래 코드\n",
        "        guid = qa['guid']\n",
        "        question = qa['question']\n",
        "        answers = qa['answers']\n",
        "\n",
        "        #guid = qa['guid'] ### 수정 ### \n",
        "        #question = qa['question']\n",
        "        #   'answer_start' : qa['answers']['answer_start']}\n",
        "\n",
        "\n",
        "        return {\n",
        "            'guid': guid,\n",
        "            'context': context,\n",
        "            'question': question,\n",
        "            'answers': answers\n",
        "        }\n",
        "\n",
        "    def __len__(self) -> int:\n",
        "        return len(self._indices)\n",
        "\n",
        "    "
      ]
    },
    {
      "cell_type": "markdown",
      "source": [
        "위의 KoMRC 클래스 코드에서 add함수 추가했고, guid, question, answers부분은 기존의 베이스 코드로 바꿨습니다.\n",
        "\n",
        "아래의 코드는 예시코드입니다"
      ],
      "metadata": {
        "id": "o4iGppCLDcEq"
      }
    },
    {
      "cell_type": "code",
      "execution_count": null,
      "metadata": {
        "id": "gFGSoD4D1HFr",
        "outputId": "92abd5bd-f0b3-4514-be26-b0749db9e544",
        "colab": {
          "base_uri": "https://localhost:8080/"
        }
      },
      "outputs": [
        {
          "output_type": "execute_result",
          "data": {
            "text/plain": [
              "(__main__.KoMRC, __main__.KoMRC, __main__.KoMRC)"
            ]
          },
          "metadata": {},
          "execution_count": 38
        }
      ],
      "source": [
        "dataset1 = KoMRC.load('train.json') # train json 불러오고\n",
        "dataset2 = KoMRC.load('TL_span_extraction2.json') # 사전에 형식을 train.json 파일과 똑같이 만들어 놓은 TL_span_extraction2.json 파일을 불러오고\n",
        "dataset3 = dataset1 + dataset2 # 두 개를 합친다면\n",
        "type(dataset1), type(dataset2), type(dataset3) # 위 3개의 인스턴스는 같은 클래스입니다."
      ]
    },
    {
      "cell_type": "code",
      "source": [
        "len(dataset1), len(dataset2), len(dataset3) # dataset3은 dataset1과 dataset2가 합쳐진 것입니다."
      ],
      "metadata": {
        "colab": {
          "base_uri": "https://localhost:8080/"
        },
        "id": "dwIXTx2hBbye",
        "outputId": "1cb78cf9-99b5-4908-82f5-8ecec9cfa182"
      },
      "execution_count": null,
      "outputs": [
        {
          "output_type": "execute_result",
          "data": {
            "text/plain": [
              "(12037, 223936, 235973)"
            ]
          },
          "metadata": {},
          "execution_count": 39
        }
      ]
    },
    {
      "cell_type": "code",
      "source": [
        "pprint(dataset1[0]) # dataset1의 데이터를 들여다보면"
      ],
      "metadata": {
        "colab": {
          "base_uri": "https://localhost:8080/"
        },
        "id": "-d_PhkQYCYpU",
        "outputId": "a1d4eb1f-8baa-418e-e76a-7893cf89018c"
      },
      "execution_count": null,
      "outputs": [
        {
          "output_type": "stream",
          "name": "stdout",
          "text": [
            "{'answers': [{'answer_start': 478, 'text': '한 달가량'},\n",
            "             {'answer_start': 478, 'text': '한 달'}],\n",
            " 'context': '올여름 장마가 17일 제주도에서 시작됐다. 서울 등 중부지방은 예년보다 사나흘 정도 늦은 이달 말께 장마가 시작될 '\n",
            "            '전망이다.17일 기상청에 따르면 제주도 남쪽 먼바다에 있는 장마전선의 영향으로 이날 제주도 산간 및 내륙지역에 '\n",
            "            '호우주의보가 내려지면서 곳곳에 100㎜에 육박하는 많은 비가 내렸다. 제주의 장마는 평년보다 2~3일, 지난해보다는 '\n",
            "            '하루 일찍 시작됐다. 장마는 고온다습한 북태평양 기단과 한랭 습윤한 오호츠크해 기단이 만나 형성되는 장마전선에서 '\n",
            "            '내리는 비를 뜻한다.장마전선은 18일 제주도 먼 남쪽 해상으로 내려갔다가 20일께 다시 북상해 전남 남해안까지 영향을 '\n",
            "            '줄 것으로 보인다. 이에 따라 20~21일 남부지방에도 예년보다 사흘 정도 장마가 일찍 찾아올 전망이다. 그러나 '\n",
            "            '장마전선을 밀어올리는 북태평양 고기압 세력이 약해 서울 등 중부지방은 평년보다 사나흘가량 늦은 이달 말부터 장마가 '\n",
            "            '시작될 것이라는 게 기상청의 설명이다. 장마전선은 이후 한 달가량 한반도 중남부를 오르내리며 곳곳에 비를 뿌릴 '\n",
            "            '전망이다. 최근 30년간 평균치에 따르면 중부지방의 장마 시작일은 6월24~25일이었으며 장마기간은 32일, '\n",
            "            '강수일수는 17.2일이었다.기상청은 올해 장마기간의 평균 강수량이 350~400㎜로 평년과 비슷하거나 적을 것으로 '\n",
            "            '내다봤다. 브라질 월드컵 한국과 러시아의 경기가 열리는 18일 오전 서울은 대체로 구름이 많이 끼지만 비는 오지 않을 '\n",
            "            '것으로 예상돼 거리 응원에는 지장이 없을 전망이다.',\n",
            " 'guid': '798db07f0b9046759deed9d4a35ce31e',\n",
            " 'question': '북태평양 기단과 오호츠크해 기단이 만나 국내에 머무르는 기간은?'}\n"
          ]
        }
      ]
    },
    {
      "cell_type": "code",
      "source": [
        "pprint(dataset2[0]) # dataset2의 데이터를 들여다보면"
      ],
      "metadata": {
        "colab": {
          "base_uri": "https://localhost:8080/"
        },
        "id": "j9cvkRk6CZF6",
        "outputId": "e6b9222c-f586-4c74-afcc-8fbb13814e91"
      },
      "execution_count": null,
      "outputs": [
        {
          "output_type": "stream",
          "name": "stdout",
          "text": [
            "{'answers': [{'answer_start': 4,\n",
            "              'clue_start': None,\n",
            "              'clue_text': None,\n",
            "              'options': None,\n",
            "              'text': '서부권역 다목적 체육관'}],\n",
            " 'context': '익산시 서부권역 다목적 체육관이 내달 개관을 앞두고 막바지 개관 준비가 한창이다. \\n'\n",
            "            '\\n'\n",
            "            '시에 따르면 시민들의 건강증진과 삶의 질 향상을 위한 생활체육 인프라 확충 등을 위해 지난 2019년 착공된 서부권역 '\n",
            "            '다목적 체육관이 이달 말까지 시설물 준공을 완료하고 다음달부터 본격적인 개관 운영에 들어간다. \\n'\n",
            "            '\\n'\n",
            "            '전문 체육시설인 서부권역 다목적 체육관은 지하 1층과 지상 3층, 연면적 4719㎡ 규모로 총 사업비 '\n",
            "            '124억5000만원이 투입됐다. \\n'\n",
            "            '\\n'\n",
            "            '수영장 6개 레인과 어린이풀장, 다목적실(에어로빅, 요가 등), 체력단련실, 어르신들을 위한 물리ㆍ재활 운동실 등이 '\n",
            "            '들어서며, 수영, 헬스, 요가, 에어로빅, 아쿠아로빅 등 총 5가지 프로그램이 운영될 예정이다. \\n'\n",
            "            '\\n'\n",
            "            '첫 번째로 개관되는 시설은 헬스장이다. \\n'\n",
            "            '\\n'\n",
            "            '다음달 중순부터 회원 신청이 가능하며 체육관에 방문해 신청하면 된다. \\n'\n",
            "            '\\n'\n",
            "            '아울러 시는 코로나19 예방을 위해 소독작업은 물론 체육관 운영시간과 참여 인원을 축소해 운영하는 방안을 계획하고 '\n",
            "            '있다. \\n'\n",
            "            '\\n'\n",
            "            '체육관 전체 소독은 하루 3회로 먼저 개관되는 헬스장의 경우 오후 1시부터 2시까지 1시간 동안 브레이크타임을 도입해 '\n",
            "            '기구와 라커룸 등의 소독작업을 실시한다. \\n'\n",
            "            '\\n'\n",
            "            '시 관계자는 “시민들이 쾌적한 환경에서 다양한 체육활동에 참여할 수 있도록 시설 확충에 주력하고 있다”며“앞으로도 '\n",
            "            '시민들의 생활체육활동을 지원할 수 있는 인프라를 지속적으로 확충해 나 가겠다”고 말했다.',\n",
            " 'guid': 4559297,\n",
            " 'question': '익산시에서 시민들의 건강을 위해 운영을 준비 중인 시설은 뭐야'}\n"
          ]
        }
      ]
    },
    {
      "cell_type": "code",
      "source": [
        "pprint(dataset3[-1]) # dataset3의 데이터를 들여다보면"
      ],
      "metadata": {
        "colab": {
          "base_uri": "https://localhost:8080/"
        },
        "id": "YJdrRm2GDMtg",
        "outputId": "1c63d04d-e5a5-4c82-8603-622d6f5449aa"
      },
      "execution_count": null,
      "outputs": [
        {
          "output_type": "stream",
          "name": "stdout",
          "text": [
            "{'answers': [{'answer_start': 202,\n",
            "              'clue_start': None,\n",
            "              'clue_text': None,\n",
            "              'options': None,\n",
            "              'text': '6명'}],\n",
            " 'context': '광주대학교(총장 김혁종)는 지난 9일 학교 행정관 회의실에서 장기근속자 공로패 수여식 및 스승의날 유공 교원 '\n",
            "            '교육부장관 표창 전수식을 개최했다.\\n'\n",
            "            '10일 광주대에 따르면 학교법인 호심학원 창설 51주년·광주대학교 개교 41주년을 기념해 진행된 이번 장기근속자 '\n",
            "            '공로패 수여 대상자는 30년 근속 이봉규 인테리어디자인학과 교수와 박우미 패션·주일리디자인학부 교수 등 6명이다.\\n'\n",
            "            '이날 제40회 스승의날 유공 교원 교육부장관 표창 전수식도 함께 열렸다. 교육부장관 표창은 올바른 교육관과 투철한 '\n",
            "            '사명감으로 사도를 실천하고 헌신적인 노력을 통해 교육 발전에 이바지한 교원에게 수여된다.\\n'\n",
            "            '김덕현 보건행정학부 교수와 임형택 청소년상담·평생교육학과 교수가 인재 양성 분야에서 수상의 영예를 안았다.\\n'\n",
            "            '김 교수는 연구와 실무경험으로 대학과 지역 산업계의 유대를 강화하고 이를 바탕으로 인재 양성에 기여한 공로를 '\n",
            "            '인정받았다.\\n'\n",
            "            '또 임 교수는 다년간의 청소년 교육 분야 연구를 바탕으로 산학연계를 통한 맞춤형 교육과 후학양성에 노력한 점 등이 '\n",
            "            '높은 평가를 받았다.',\n",
            " 'guid': 4961424,\n",
            " 'question': '광주대학교로부터 얼마나 되는 교원이 공로패를 전달받게 된 거야'}\n"
          ]
        }
      ]
    },
    {
      "cell_type": "code",
      "source": [
        "train, eval = KoMRC.split(dataset3, 0.1) # split도 해봅시다"
      ],
      "metadata": {
        "id": "tIbVq4o3DRQV"
      },
      "execution_count": null,
      "outputs": []
    },
    {
      "cell_type": "code",
      "source": [
        "type(train), type(eval) # 둘다 KoMRC의 인스턴스"
      ],
      "metadata": {
        "colab": {
          "base_uri": "https://localhost:8080/"
        },
        "id": "iRBaD7yuErox",
        "outputId": "a63fa69d-3528-47b6-b1e0-1121b5f60d88"
      },
      "execution_count": null,
      "outputs": [
        {
          "output_type": "execute_result",
          "data": {
            "text/plain": [
              "(__main__.KoMRC, __main__.KoMRC)"
            ]
          },
          "metadata": {},
          "execution_count": 44
        }
      ]
    },
    {
      "cell_type": "code",
      "source": [
        "len(train), len(eval) # 길이를 보니 잘 나누졌음"
      ],
      "metadata": {
        "colab": {
          "base_uri": "https://localhost:8080/"
        },
        "id": "qN-OqZO7Evxi",
        "outputId": "0d085b77-9299-4a82-fe48-9fd96ca412d6"
      },
      "execution_count": null,
      "outputs": [
        {
          "output_type": "execute_result",
          "data": {
            "text/plain": [
              "(212376, 23597)"
            ]
          },
          "metadata": {},
          "execution_count": 45
        }
      ]
    },
    {
      "cell_type": "markdown",
      "source": [
        "#### 데이터 추출"
      ],
      "metadata": {
        "id": "2cSCRAIlL7yF"
      }
    },
    {
      "cell_type": "code",
      "source": [
        "extraction_dataset = KoMRC.extraction(dataset3, 100) # data 100개 추출"
      ],
      "metadata": {
        "id": "6i4jIWXLE0Kp"
      },
      "execution_count": null,
      "outputs": []
    },
    {
      "cell_type": "code",
      "source": [
        "type(extraction_dataset)"
      ],
      "metadata": {
        "colab": {
          "base_uri": "https://localhost:8080/"
        },
        "id": "IQxR3KdwJS0M",
        "outputId": "85c39a01-4967-440c-838b-a8b7cbc38270"
      },
      "execution_count": null,
      "outputs": [
        {
          "output_type": "execute_result",
          "data": {
            "text/plain": [
              "__main__.KoMRC"
            ]
          },
          "metadata": {},
          "execution_count": 47
        }
      ]
    },
    {
      "cell_type": "code",
      "source": [
        "len(extraction_dataset)  # 100이 아닌 191인 이유: data는 100개지만, 각 데이터당 질문이 2개일 수 있기 때문.\n",
        "# 즉, indeces기준 100개가 아닌 데이터 100개"
      ],
      "metadata": {
        "colab": {
          "base_uri": "https://localhost:8080/"
        },
        "id": "fPYOkZ-PJYrb",
        "outputId": "de6ade1a-ebfe-476e-9646-40e8b5a5f2d0"
      },
      "execution_count": null,
      "outputs": [
        {
          "output_type": "execute_result",
          "data": {
            "text/plain": [
              "191"
            ]
          },
          "metadata": {},
          "execution_count": 49
        }
      ]
    },
    {
      "cell_type": "code",
      "source": [],
      "metadata": {
        "id": "Hgq5Q2o5MBsC"
      },
      "execution_count": null,
      "outputs": []
    }
  ],
  "metadata": {
    "kernelspec": {
      "display_name": "Python 3.8.8 ('base')",
      "language": "python",
      "name": "python3"
    },
    "language_info": {
      "codemirror_mode": {
        "name": "ipython",
        "version": 3
      },
      "file_extension": ".py",
      "mimetype": "text/x-python",
      "name": "python",
      "nbconvert_exporter": "python",
      "pygments_lexer": "ipython3",
      "version": "3.8.8"
    },
    "orig_nbformat": 4,
    "vscode": {
      "interpreter": {
        "hash": "c1e7a3291dec6a6eaede579267bd1e9260ef27ca925da7e247a3d6f7381466a8"
      }
    },
    "colab": {
      "provenance": [],
      "machine_shape": "hm",
      "background_execution": "on",
      "collapsed_sections": [],
      "include_colab_link": true
    },
    "gpuClass": "standard"
  },
  "nbformat": 4,
  "nbformat_minor": 0
}